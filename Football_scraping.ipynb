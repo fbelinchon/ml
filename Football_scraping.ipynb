{
  "nbformat": 4,
  "nbformat_minor": 0,
  "metadata": {
    "colab": {
      "name": "Football scraping.ipynb",
      "provenance": [],
      "authorship_tag": "ABX9TyP6zTXuTbJBM8Ndm4fPxYde",
      "include_colab_link": true
    },
    "kernelspec": {
      "name": "python3",
      "display_name": "Python 3"
    },
    "language_info": {
      "name": "python"
    }
  },
  "cells": [
    {
      "cell_type": "markdown",
      "metadata": {
        "id": "view-in-github",
        "colab_type": "text"
      },
      "source": [
        "<a href=\"https://colab.research.google.com/github/fbelinchon/ml/blob/master/Football_scraping.ipynb\" target=\"_parent\"><img src=\"https://colab.research.google.com/assets/colab-badge.svg\" alt=\"Open In Colab\"/></a>"
      ]
    },
    {
      "cell_type": "code",
      "execution_count": 3,
      "metadata": {
        "id": "XotOpvProRSu"
      },
      "outputs": [],
      "source": [
        "import requests"
      ]
    },
    {
      "cell_type": "code",
      "source": [
        "URL = \"https://fbref.com/en/comps/9/Premier-League-Stats\"\n",
        "page = requests.get(URL)"
      ],
      "metadata": {
        "id": "2DT6ttaQoZxw"
      },
      "execution_count": 4,
      "outputs": []
    },
    {
      "cell_type": "code",
      "source": [
        "from bs4 import BeautifulSoup"
      ],
      "metadata": {
        "id": "6AoJZtIWpP8v"
      },
      "execution_count": 9,
      "outputs": []
    },
    {
      "cell_type": "code",
      "source": [
        "html = "
      ],
      "metadata": {
        "id": "k_NondGTpQ9X"
      },
      "execution_count": null,
      "outputs": []
    }
  ]
}