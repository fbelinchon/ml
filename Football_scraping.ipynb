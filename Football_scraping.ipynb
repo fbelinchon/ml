{
  "nbformat": 4,
  "nbformat_minor": 0,
  "metadata": {
    "colab": {
      "name": "Football scraping.ipynb",
      "provenance": [],
      "authorship_tag": "ABX9TyMEIwnTiXYFyJUlWWBh4WVf",
      "include_colab_link": true
    },
    "kernelspec": {
      "name": "python3",
      "display_name": "Python 3"
    },
    "language_info": {
      "name": "python"
    }
  },
  "cells": [
    {
      "cell_type": "markdown",
      "metadata": {
        "id": "view-in-github",
        "colab_type": "text"
      },
      "source": [
        "<a href=\"https://colab.research.google.com/github/fbelinchon/ml/blob/master/Football_scraping.ipynb\" target=\"_parent\"><img src=\"https://colab.research.google.com/assets/colab-badge.svg\" alt=\"Open In Colab\"/></a>"
      ]
    },
    {
      "cell_type": "code",
      "execution_count": 21,
      "metadata": {
        "id": "XotOpvProRSu"
      },
      "outputs": [],
      "source": [
        "import requests"
      ]
    },
    {
      "cell_type": "code",
      "source": [
        "URL = \"https://fbref.com/en/comps/9/Premier-League-Stats\"\n",
        "page = requests.get(URL)"
      ],
      "metadata": {
        "id": "2DT6ttaQoZxw"
      },
      "execution_count": 22,
      "outputs": []
    },
    {
      "cell_type": "code",
      "source": [
        "from bs4 import BeautifulSoup"
      ],
      "metadata": {
        "id": "6AoJZtIWpP8v"
      },
      "execution_count": 23,
      "outputs": []
    },
    {
      "cell_type": "code",
      "source": [
        "html = BeautifulSoup(page.text)"
      ],
      "metadata": {
        "id": "k_NondGTpQ9X"
      },
      "execution_count": 24,
      "outputs": []
    },
    {
      "cell_type": "code",
      "source": [
        "table = html.select('table.stats_table')[0]"
      ],
      "metadata": {
        "id": "huGrFChW5apm"
      },
      "execution_count": 27,
      "outputs": []
    },
    {
      "cell_type": "code",
      "source": [
        "links = table.find_all('a')\n",
        "links = [f\"https://fbref.com{l.get('href')}\" for l in links if '/squads/' in l.get('href')]"
      ],
      "metadata": {
        "id": "hTJuYjLf6WbH"
      },
      "execution_count": 30,
      "outputs": []
    },
    {
      "cell_type": "code",
      "source": [
        "links"
      ],
      "metadata": {
        "id": "aPHCerem6YwV",
        "outputId": "d0f75ace-1578-4bfc-e973-9a05693d7484",
        "colab": {
          "base_uri": "https://localhost:8080/"
        }
      },
      "execution_count": 31,
      "outputs": [
        {
          "output_type": "execute_result",
          "data": {
            "text/plain": [
              "['https://fbref.com/en/squads/b8fd03ef/Manchester-City-Stats',\n",
              " 'https://fbref.com/en/squads/822bd0ba/Liverpool-Stats',\n",
              " 'https://fbref.com/en/squads/cff3d9bb/Chelsea-Stats',\n",
              " 'https://fbref.com/en/squads/361ca564/Tottenham-Hotspur-Stats',\n",
              " 'https://fbref.com/en/squads/18bb7c10/Arsenal-Stats',\n",
              " 'https://fbref.com/en/squads/19538871/Manchester-United-Stats',\n",
              " 'https://fbref.com/en/squads/7c21e445/West-Ham-United-Stats',\n",
              " 'https://fbref.com/en/squads/a2d435b3/Leicester-City-Stats',\n",
              " 'https://fbref.com/en/squads/d07537b9/Brighton-and-Hove-Albion-Stats',\n",
              " 'https://fbref.com/en/squads/8cec06e1/Wolverhampton-Wanderers-Stats',\n",
              " 'https://fbref.com/en/squads/b2b47a98/Newcastle-United-Stats',\n",
              " 'https://fbref.com/en/squads/47c64c55/Crystal-Palace-Stats',\n",
              " 'https://fbref.com/en/squads/cd051869/Brentford-Stats',\n",
              " 'https://fbref.com/en/squads/8602292d/Aston-Villa-Stats',\n",
              " 'https://fbref.com/en/squads/33c895d4/Southampton-Stats',\n",
              " 'https://fbref.com/en/squads/d3fd31cc/Everton-Stats',\n",
              " 'https://fbref.com/en/squads/5bfb9659/Leeds-United-Stats',\n",
              " 'https://fbref.com/en/squads/943e8050/Burnley-Stats',\n",
              " 'https://fbref.com/en/squads/2abfe087/Watford-Stats',\n",
              " 'https://fbref.com/en/squads/1c781004/Norwich-City-Stats']"
            ]
          },
          "metadata": {},
          "execution_count": 31
        }
      ]
    },
    {
      "cell_type": "code",
      "source": [
        ""
      ],
      "metadata": {
        "id": "nERo-tWQ7EoF"
      },
      "execution_count": null,
      "outputs": []
    }
  ]
}