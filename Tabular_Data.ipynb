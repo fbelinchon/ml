{
  "nbformat": 4,
  "nbformat_minor": 0,
  "metadata": {
    "accelerator": "GPU",
    "colab": {
      "name": "Tabular Data.ipynb",
      "provenance": [],
      "collapsed_sections": [
        "83O3kErTJ0Hf",
        "NkGg3TxkkHnc"
      ],
      "authorship_tag": "ABX9TyMNP/D0SglGgVTWtOYGF1BJ",
      "include_colab_link": true
    },
    "kernelspec": {
      "display_name": "Python 3",
      "name": "python3"
    },
    "language_info": {
      "name": "python"
    }
  },
  "cells": [
    {
      "cell_type": "markdown",
      "metadata": {
        "id": "view-in-github",
        "colab_type": "text"
      },
      "source": [
        "<a href=\"https://colab.research.google.com/github/fbelinchon/ml/blob/master/Tabular_Data.ipynb\" target=\"_parent\"><img src=\"https://colab.research.google.com/assets/colab-badge.svg\" alt=\"Open In Colab\"/></a>"
      ]
    },
    {
      "cell_type": "markdown",
      "metadata": {
        "id": "LRS1Yzhk2vql"
      },
      "source": [
        "# Inicialización"
      ]
    },
    {
      "cell_type": "code",
      "metadata": {
        "id": "btw3L4mf24Sm"
      },
      "source": [
        "!pip install -Uqq fastai dtreeviz"
      ],
      "execution_count": null,
      "outputs": []
    },
    {
      "cell_type": "markdown",
      "metadata": {
        "id": "70P2EcH83ESu"
      },
      "source": [
        "Enlazamos Google Drive\n"
      ]
    },
    {
      "cell_type": "code",
      "metadata": {
        "colab": {
          "base_uri": "https://localhost:8080/"
        },
        "id": "VLt8SkOU3A8V",
        "outputId": "9ca7cb98-986b-4a2a-f2fb-bc7391626b40"
      },
      "source": [
        "from google.colab import drive\n",
        "drive.mount('/content/drive')"
      ],
      "execution_count": null,
      "outputs": [
        {
          "output_type": "stream",
          "text": [
            "Drive already mounted at /content/drive; to attempt to forcibly remount, call drive.mount(\"/content/drive\", force_remount=True).\n"
          ],
          "name": "stdout"
        }
      ]
    },
    {
      "cell_type": "markdown",
      "metadata": {
        "id": "9iCAHflF3I5W"
      },
      "source": [
        "Import de librerias necesaria"
      ]
    },
    {
      "cell_type": "code",
      "metadata": {
        "id": "t17ug_wc3LbM"
      },
      "source": [
        "from pandas.api.types import is_string_dtype, is_numeric_dtype, is_categorical_dtype\n",
        "from fastai.tabular.all import *\n",
        "from sklearn.ensemble import RandomForestRegressor,RandomForestClassifier\n",
        "from sklearn.tree import DecisionTreeRegressor,DecisionTreeClassifier\n",
        "from dtreeviz.trees import *\n",
        "from IPython.display import Image, display_svg, SVG,display\n",
        "from pathlib import *\n",
        "from sklearn.model_selection import cross_val_score,cross_validate\n",
        "from sklearn import metrics\n",
        "import matplotlib.pylab as plt\n",
        "#%matplotlib inline \n",
        "from matplotlib.pylab import rcParams \n",
        "\n",
        "pd.options.display.max_rows = 20\n",
        "pd.options.display.max_columns = 8\n",
        "rcParams['figure.figsize'] = 12, 4 "
      ],
      "execution_count": null,
      "outputs": []
    },
    {
      "cell_type": "code",
      "metadata": {
        "id": "R7AHTHHeKv8e"
      },
      "source": [
        "path= PosixPath('/content/drive/MyDrive/data/bigmartsales')"
      ],
      "execution_count": null,
      "outputs": []
    },
    {
      "cell_type": "code",
      "metadata": {
        "id": "uxix2O7YSWjn"
      },
      "source": [
        "df=pd.read_csv(path/'train.csv',delimiter=',')\n",
        "df_test=pd.read_csv(path/'test.csv',delimiter=',')"
      ],
      "execution_count": null,
      "outputs": []
    },
    {
      "cell_type": "markdown",
      "metadata": {
        "id": "nka_iimw3OEM"
      },
      "source": [
        "# Modelo Base"
      ]
    },
    {
      "cell_type": "markdown",
      "metadata": {
        "id": "bmynGrpZ1vny"
      },
      "source": [
        "## Leemos los datos desde fichero csv y lo cargamos en forma DataFrame."
      ]
    },
    {
      "cell_type": "code",
      "metadata": {
        "colab": {
          "base_uri": "https://localhost:8080/",
          "height": 309
        },
        "id": "n6mhULkX3nft",
        "outputId": "68b8f540-d558-4707-8375-5a219ce9512c"
      },
      "source": [
        "pd.options.display.max_columns = 40\n",
        "df.head()"
      ],
      "execution_count": null,
      "outputs": [
        {
          "output_type": "execute_result",
          "data": {
            "text/html": [
              "<div>\n",
              "<style scoped>\n",
              "    .dataframe tbody tr th:only-of-type {\n",
              "        vertical-align: middle;\n",
              "    }\n",
              "\n",
              "    .dataframe tbody tr th {\n",
              "        vertical-align: top;\n",
              "    }\n",
              "\n",
              "    .dataframe thead th {\n",
              "        text-align: right;\n",
              "    }\n",
              "</style>\n",
              "<table border=\"1\" class=\"dataframe\">\n",
              "  <thead>\n",
              "    <tr style=\"text-align: right;\">\n",
              "      <th></th>\n",
              "      <th>Item_Identifier</th>\n",
              "      <th>Item_Weight</th>\n",
              "      <th>Item_Fat_Content</th>\n",
              "      <th>Item_Visibility</th>\n",
              "      <th>Item_Type</th>\n",
              "      <th>Item_MRP</th>\n",
              "      <th>Outlet_Identifier</th>\n",
              "      <th>Outlet_Establishment_Year</th>\n",
              "      <th>Outlet_Size</th>\n",
              "      <th>Outlet_Location_Type</th>\n",
              "      <th>Outlet_Type</th>\n",
              "      <th>Item_Outlet_Sales</th>\n",
              "    </tr>\n",
              "  </thead>\n",
              "  <tbody>\n",
              "    <tr>\n",
              "      <th>0</th>\n",
              "      <td>FDA15</td>\n",
              "      <td>9.30</td>\n",
              "      <td>Low Fat</td>\n",
              "      <td>0.016047</td>\n",
              "      <td>Dairy</td>\n",
              "      <td>249.8092</td>\n",
              "      <td>OUT049</td>\n",
              "      <td>1999</td>\n",
              "      <td>Medium</td>\n",
              "      <td>Tier 1</td>\n",
              "      <td>Supermarket Type1</td>\n",
              "      <td>3735.1380</td>\n",
              "    </tr>\n",
              "    <tr>\n",
              "      <th>1</th>\n",
              "      <td>DRC01</td>\n",
              "      <td>5.92</td>\n",
              "      <td>Regular</td>\n",
              "      <td>0.019278</td>\n",
              "      <td>Soft Drinks</td>\n",
              "      <td>48.2692</td>\n",
              "      <td>OUT018</td>\n",
              "      <td>2009</td>\n",
              "      <td>Medium</td>\n",
              "      <td>Tier 3</td>\n",
              "      <td>Supermarket Type2</td>\n",
              "      <td>443.4228</td>\n",
              "    </tr>\n",
              "    <tr>\n",
              "      <th>2</th>\n",
              "      <td>FDN15</td>\n",
              "      <td>17.50</td>\n",
              "      <td>Low Fat</td>\n",
              "      <td>0.016760</td>\n",
              "      <td>Meat</td>\n",
              "      <td>141.6180</td>\n",
              "      <td>OUT049</td>\n",
              "      <td>1999</td>\n",
              "      <td>Medium</td>\n",
              "      <td>Tier 1</td>\n",
              "      <td>Supermarket Type1</td>\n",
              "      <td>2097.2700</td>\n",
              "    </tr>\n",
              "    <tr>\n",
              "      <th>3</th>\n",
              "      <td>FDX07</td>\n",
              "      <td>19.20</td>\n",
              "      <td>Regular</td>\n",
              "      <td>0.000000</td>\n",
              "      <td>Fruits and Vegetables</td>\n",
              "      <td>182.0950</td>\n",
              "      <td>OUT010</td>\n",
              "      <td>1998</td>\n",
              "      <td>NaN</td>\n",
              "      <td>Tier 3</td>\n",
              "      <td>Grocery Store</td>\n",
              "      <td>732.3800</td>\n",
              "    </tr>\n",
              "    <tr>\n",
              "      <th>4</th>\n",
              "      <td>NCD19</td>\n",
              "      <td>8.93</td>\n",
              "      <td>Low Fat</td>\n",
              "      <td>0.000000</td>\n",
              "      <td>Household</td>\n",
              "      <td>53.8614</td>\n",
              "      <td>OUT013</td>\n",
              "      <td>1987</td>\n",
              "      <td>High</td>\n",
              "      <td>Tier 3</td>\n",
              "      <td>Supermarket Type1</td>\n",
              "      <td>994.7052</td>\n",
              "    </tr>\n",
              "  </tbody>\n",
              "</table>\n",
              "</div>"
            ],
            "text/plain": [
              "  Item_Identifier  Item_Weight Item_Fat_Content  Item_Visibility  \\\n",
              "0           FDA15         9.30          Low Fat         0.016047   \n",
              "1           DRC01         5.92          Regular         0.019278   \n",
              "2           FDN15        17.50          Low Fat         0.016760   \n",
              "3           FDX07        19.20          Regular         0.000000   \n",
              "4           NCD19         8.93          Low Fat         0.000000   \n",
              "\n",
              "               Item_Type  Item_MRP Outlet_Identifier  \\\n",
              "0                  Dairy  249.8092            OUT049   \n",
              "1            Soft Drinks   48.2692            OUT018   \n",
              "2                   Meat  141.6180            OUT049   \n",
              "3  Fruits and Vegetables  182.0950            OUT010   \n",
              "4              Household   53.8614            OUT013   \n",
              "\n",
              "   Outlet_Establishment_Year Outlet_Size Outlet_Location_Type  \\\n",
              "0                       1999      Medium               Tier 1   \n",
              "1                       2009      Medium               Tier 3   \n",
              "2                       1999      Medium               Tier 1   \n",
              "3                       1998         NaN               Tier 3   \n",
              "4                       1987        High               Tier 3   \n",
              "\n",
              "         Outlet_Type  Item_Outlet_Sales  \n",
              "0  Supermarket Type1          3735.1380  \n",
              "1  Supermarket Type2           443.4228  \n",
              "2  Supermarket Type1          2097.2700  \n",
              "3      Grocery Store           732.3800  \n",
              "4  Supermarket Type1           994.7052  "
            ]
          },
          "metadata": {
            "tags": []
          },
          "execution_count": 6
        }
      ]
    },
    {
      "cell_type": "markdown",
      "metadata": {
        "id": "u_wC2Kat2Lqr"
      },
      "source": [
        "##Tratamiento básico para poder generar un modelo base sencillo"
      ]
    },
    {
      "cell_type": "markdown",
      "metadata": {
        "id": "FJ6AdjrmBZ-q"
      },
      "source": [
        "Tratamiento básico. La idea es generar un modelo de partida lo más rápido posible.\n",
        "1. Si tenemos campos de tipo fecha les aplicamos el tratamiento de fechas por defecto.\n",
        "2. Tratamos los campos NULOS y separamos los campos continuos de los campos tipos variables.\n",
        "\n",
        "Para simplificar este prtoceso utilizamos TabularPandas de FASTAI"
      ]
    },
    {
      "cell_type": "code",
      "metadata": {
        "id": "R0UBeZ6FBfD6"
      },
      "source": [
        "#df['DOB']=df['DOB'].astype('datetime64','%d-%mon-%yy')\n",
        "#df['Lead_Creation_Date']=df['Lead_Creation_Date'].astype('datetime64','%d-%mon-%yy')"
      ],
      "execution_count": null,
      "outputs": []
    },
    {
      "cell_type": "code",
      "metadata": {
        "id": "9npDAapjCRfB"
      },
      "source": [
        "#df = add_datepart(df, 'DOB')\n",
        "#df = add_datepart(df, 'Lead_Creation_Date')"
      ],
      "execution_count": null,
      "outputs": []
    },
    {
      "cell_type": "markdown",
      "metadata": {
        "id": "hNVZEKy_541-"
      },
      "source": [
        "Los pasos son:\n",
        "1. Primero indicamos cual es la variable dependiente\n",
        "2. Mirtamos que campos son variables continuas y cuales de categoría.\n",
        "2. Creamos la función para separar los datos de entrenamiento y los datos de validación\n",
        "3. Indicamos las transformaciones básicas (Categorify y FillNullify)"
      ]
    },
    {
      "cell_type": "code",
      "metadata": {
        "id": "bHdTpr0mDihd"
      },
      "source": [
        "dep_var='Item_Outlet_Sales'"
      ],
      "execution_count": null,
      "outputs": []
    },
    {
      "cell_type": "code",
      "metadata": {
        "id": "D0zfh1VUDD0c"
      },
      "source": [
        "cont,cat = cont_cat_split(df,max_card=200,dep_var=dep_var)"
      ],
      "execution_count": null,
      "outputs": []
    },
    {
      "cell_type": "code",
      "metadata": {
        "id": "TADHvErmYti2"
      },
      "source": [
        "splits = RandomSplitter(seed=48)(range_of(df))"
      ],
      "execution_count": null,
      "outputs": []
    },
    {
      "cell_type": "code",
      "metadata": {
        "id": "XkuBr75a-jTb"
      },
      "source": [
        "procs=[Categorify,FillMissing]\n",
        "to=TabularPandas(df,procs=procs,cat_names=cat,cont_names=cont,y_names=dep_var,splits=splits)"
      ],
      "execution_count": null,
      "outputs": []
    },
    {
      "cell_type": "markdown",
      "metadata": {
        "id": "dYBJT3g88Oz3"
      },
      "source": [
        "Guardamos el objeto TabularPandas como base."
      ]
    },
    {
      "cell_type": "code",
      "metadata": {
        "id": "pMPoch-zxUj1"
      },
      "source": [
        "save_pickle(path/'to_base.pkl',to)"
      ],
      "execution_count": null,
      "outputs": []
    },
    {
      "cell_type": "markdown",
      "metadata": {
        "id": "xN-H1_TH8crv"
      },
      "source": [
        "## Creamos un modelo Ramdom Forest sencillo para tener un modelo base de inicio sobre el que mejorar."
      ]
    },
    {
      "cell_type": "code",
      "metadata": {
        "id": "XDHBJ23nMVKZ"
      },
      "source": [
        "to=load_pickle(path/'to_base.pkl')"
      ],
      "execution_count": null,
      "outputs": []
    },
    {
      "cell_type": "code",
      "metadata": {
        "id": "XSsJWxTq87E1"
      },
      "source": [
        "def modelfit(alg, X,y,printFeatureImportance=True): \n",
        "    #Fit the algorithm on the data \n",
        "    alg.fit(X, y) \n",
        "    \n",
        "    #Predict training set:\n",
        "    dtrain_predictions = alg.predict(X) \n",
        "        \n",
        "    #Print model report:\n",
        "    print(\"/nModel Report\")\n",
        "    print(\"RMSE : %.4g\" % np.sqrt(metrics.mean_squared_error(y, dtrain_predictions)))\n",
        "    \n",
        "    #Print Feature Importance:\n",
        "    if printFeatureImportance:\n",
        "        feat_imp = pd.Series(alg.feature_importances_,list(X.columns)).sort_values(ascending=False)\n",
        "        feat_imp.plot(kind='bar', title='Feature Importances')\n",
        "        plt.ylabel('Feature Importance Score')"
      ],
      "execution_count": null,
      "outputs": []
    },
    {
      "cell_type": "code",
      "metadata": {
        "id": "05zgzHur87E1"
      },
      "source": [
        "def result_reg(m,X,y):\n",
        "    predictions = m.predict(X)\n",
        "    print(\"RMSE : %.4g\" % np.sqrt(metrics.mean_squared_error(y, predictions)))\n",
        " \n",
        "    "
      ],
      "execution_count": null,
      "outputs": []
    },
    {
      "cell_type": "code",
      "metadata": {
        "id": "eMo99iztD4OA"
      },
      "source": [
        "train_x, train_y=to.train.xs,to.train.y\n",
        "valid_x,valid_y=to.valid.xs,to.valid.y"
      ],
      "execution_count": null,
      "outputs": []
    },
    {
      "cell_type": "code",
      "metadata": {
        "colab": {
          "base_uri": "https://localhost:8080/"
        },
        "id": "GcFOtXqN9qmf",
        "outputId": "1c7ccd01-475d-45e1-94c0-ef186520109a"
      },
      "source": [
        "train_x.shape,valid_x.shape"
      ],
      "execution_count": null,
      "outputs": [
        {
          "output_type": "execute_result",
          "data": {
            "text/plain": [
              "((6819, 12), (1704, 12))"
            ]
          },
          "metadata": {
            "tags": []
          },
          "execution_count": 206
        }
      ]
    },
    {
      "cell_type": "code",
      "metadata": {
        "id": "VLjmF6Bs8uOw"
      },
      "source": [
        "def rf(xs, y, n_estimators=100, max_samples=200,\n",
        "       max_features=0.5, min_samples_leaf=5, **kwargs):\n",
        "    return RandomForestRegressor(n_jobs=-1, n_estimators=n_estimators,\n",
        "        max_samples=max_samples, max_features=max_features,\n",
        "        min_samples_leaf=min_samples_leaf, oob_score=True).fit(xs, y)"
      ],
      "execution_count": null,
      "outputs": []
    },
    {
      "cell_type": "code",
      "metadata": {
        "id": "0r9aTwzc8uOw"
      },
      "source": [
        "m_rf = rf(train_x, train_y);"
      ],
      "execution_count": null,
      "outputs": []
    },
    {
      "cell_type": "code",
      "metadata": {
        "colab": {
          "base_uri": "https://localhost:8080/",
          "height": 440
        },
        "id": "b4LaxRMr8uOx",
        "outputId": "1d0d821b-ac48-4d2b-b74e-dd150b5b9c78"
      },
      "source": [
        "modelfit(m_rf, train_x,train_y)"
      ],
      "execution_count": null,
      "outputs": [
        {
          "output_type": "stream",
          "text": [
            "/nModel Report\n",
            "RMSE : 1082\n"
          ],
          "name": "stdout"
        },
        {
          "output_type": "display_data",
          "data": {
            "image/png": "[encoded data removed]",
            "text/plain": [
              "<Figure size 864x288 with 1 Axes>"
            ]
          },
          "metadata": {
            "tags": [],
            "needs_background": "light"
          }
        }
      ]
    },
    {
      "cell_type": "code",
      "metadata": {
        "colab": {
          "base_uri": "https://localhost:8080/"
        },
        "id": "ADDsgVLO8uOx",
        "outputId": "162a7c9f-a880-4515-8015-9f3b05f42c51"
      },
      "source": [
        "result_reg(m_rf,valid_x,valid_y)"
      ],
      "execution_count": null,
      "outputs": [
        {
          "output_type": "stream",
          "text": [
            "RMSE : 1133\n"
          ],
          "name": "stdout"
        }
      ]
    },
    {
      "cell_type": "markdown",
      "metadata": {
        "id": "fiT6rIeh9epS"
      },
      "source": [
        "Con un modelo sencillo hemos obtenido un error de partida de:\n",
        " - RMSE_train: 1100\n",
        " - RMSE_valid=:1094\n",
        "\n",
        "Nos informa también de la importancia de las variable. De esta forma nos podemos centrar en las que tienen más impacto.\n",
        "\n",
        "Grabamos este modelo"
      ]
    },
    {
      "cell_type": "code",
      "metadata": {
        "id": "DjrhmDRBFaZp"
      },
      "source": [
        "save_pickle(path/'model_rf_base.pkl',m_rf)"
      ],
      "execution_count": null,
      "outputs": []
    },
    {
      "cell_type": "markdown",
      "metadata": {
        "id": "N2ONFUCMEHGU"
      },
      "source": [
        "# Features engineering"
      ]
    },
    {
      "cell_type": "markdown",
      "metadata": {
        "id": "DJObmvys-uVp"
      },
      "source": [
        "## Primero analizamos si existen muchos nulos en algún campo en concreto.\n"
      ]
    },
    {
      "cell_type": "markdown",
      "metadata": {
        "id": "hak7Q_Z9AKQv"
      },
      "source": [
        "Vemos que hay dos campos con muchos nulos (ItemWeight y Outlet_Size)"
      ]
    },
    {
      "cell_type": "code",
      "metadata": {
        "id": "MNR9Qb9SB9Wa"
      },
      "source": [
        "to = load_pickle(path/'to_base.pkl')"
      ],
      "execution_count": null,
      "outputs": []
    },
    {
      "cell_type": "code",
      "metadata": {
        "id": "rw1pjVZtB3Xh"
      },
      "source": [
        "train_x, train_y=to.train.xs,to.train.y\n",
        "valid_x,valid_y=to.valid.xs,to.valid.y"
      ],
      "execution_count": null,
      "outputs": []
    },
    {
      "cell_type": "code",
      "metadata": {
        "id": "SbAFkyIrALvI"
      },
      "source": [
        "def null_values(df):\n",
        "    frame = { 'null_values': (df.isnull().sum()), '%': ((df.isnull().sum())/len(df))*100 }\n",
        "    return pd.DataFrame(frame)"
      ],
      "execution_count": null,
      "outputs": []
    },
    {
      "cell_type": "code",
      "metadata": {
        "colab": {
          "base_uri": "https://localhost:8080/",
          "height": 416
        },
        "id": "tp7KLGqUACvS",
        "outputId": "34dd295e-77e9-40f8-9834-c821198d87bd"
      },
      "source": [
        "null_values(df)"
      ],
      "execution_count": null,
      "outputs": [
        {
          "output_type": "execute_result",
          "data": {
            "text/html": [
              "<div>\n",
              "<style scoped>\n",
              "    .dataframe tbody tr th:only-of-type {\n",
              "        vertical-align: middle;\n",
              "    }\n",
              "\n",
              "    .dataframe tbody tr th {\n",
              "        vertical-align: top;\n",
              "    }\n",
              "\n",
              "    .dataframe thead th {\n",
              "        text-align: right;\n",
              "    }\n",
              "</style>\n",
              "<table border=\"1\" class=\"dataframe\">\n",
              "  <thead>\n",
              "    <tr style=\"text-align: right;\">\n",
              "      <th></th>\n",
              "      <th>null_values</th>\n",
              "      <th>%</th>\n",
              "    </tr>\n",
              "  </thead>\n",
              "  <tbody>\n",
              "    <tr>\n",
              "      <th>Item_Identifier</th>\n",
              "      <td>0</td>\n",
              "      <td>0.000000</td>\n",
              "    </tr>\n",
              "    <tr>\n",
              "      <th>Item_Weight</th>\n",
              "      <td>1463</td>\n",
              "      <td>17.165317</td>\n",
              "    </tr>\n",
              "    <tr>\n",
              "      <th>Item_Fat_Content</th>\n",
              "      <td>0</td>\n",
              "      <td>0.000000</td>\n",
              "    </tr>\n",
              "    <tr>\n",
              "      <th>Item_Visibility</th>\n",
              "      <td>0</td>\n",
              "      <td>0.000000</td>\n",
              "    </tr>\n",
              "    <tr>\n",
              "      <th>Item_Type</th>\n",
              "      <td>0</td>\n",
              "      <td>0.000000</td>\n",
              "    </tr>\n",
              "    <tr>\n",
              "      <th>Item_MRP</th>\n",
              "      <td>0</td>\n",
              "      <td>0.000000</td>\n",
              "    </tr>\n",
              "    <tr>\n",
              "      <th>Outlet_Identifier</th>\n",
              "      <td>0</td>\n",
              "      <td>0.000000</td>\n",
              "    </tr>\n",
              "    <tr>\n",
              "      <th>Outlet_Establishment_Year</th>\n",
              "      <td>0</td>\n",
              "      <td>0.000000</td>\n",
              "    </tr>\n",
              "    <tr>\n",
              "      <th>Outlet_Size</th>\n",
              "      <td>2410</td>\n",
              "      <td>28.276428</td>\n",
              "    </tr>\n",
              "    <tr>\n",
              "      <th>Outlet_Location_Type</th>\n",
              "      <td>0</td>\n",
              "      <td>0.000000</td>\n",
              "    </tr>\n",
              "    <tr>\n",
              "      <th>Outlet_Type</th>\n",
              "      <td>0</td>\n",
              "      <td>0.000000</td>\n",
              "    </tr>\n",
              "    <tr>\n",
              "      <th>Item_Outlet_Sales</th>\n",
              "      <td>0</td>\n",
              "      <td>0.000000</td>\n",
              "    </tr>\n",
              "  </tbody>\n",
              "</table>\n",
              "</div>"
            ],
            "text/plain": [
              "                           null_values          %\n",
              "Item_Identifier                      0   0.000000\n",
              "Item_Weight                       1463  17.165317\n",
              "Item_Fat_Content                     0   0.000000\n",
              "Item_Visibility                      0   0.000000\n",
              "Item_Type                            0   0.000000\n",
              "Item_MRP                             0   0.000000\n",
              "Outlet_Identifier                    0   0.000000\n",
              "Outlet_Establishment_Year            0   0.000000\n",
              "Outlet_Size                       2410  28.276428\n",
              "Outlet_Location_Type                 0   0.000000\n",
              "Outlet_Type                          0   0.000000\n",
              "Item_Outlet_Sales                    0   0.000000"
            ]
          },
          "metadata": {
            "tags": []
          },
          "execution_count": 131
        }
      ]
    },
    {
      "cell_type": "markdown",
      "metadata": {
        "id": "pPKriK54D4vg"
      },
      "source": [
        "Tenemos que analizar los Nullos de los campos 'Item_Weight' y 'Outlet_Size'.\n",
        "\n",
        "Comprobamos si podemos adivinar los valores mejor que simplemente utilizando la media."
      ]
    },
    {
      "cell_type": "markdown",
      "metadata": {
        "id": "GR4VVKPRNsRh"
      },
      "source": [
        "### Vamos a revisar Outlet_Size"
      ]
    },
    {
      "cell_type": "code",
      "metadata": {
        "colab": {
          "base_uri": "https://localhost:8080/",
          "height": 414
        },
        "id": "AdQV2VjTGUwd",
        "outputId": "8acaf455-8f2d-450a-8618-321a34657ec5"
      },
      "source": [
        "df.loc[df['Outlet_Size'].isnull(),['Outlet_Identifier','Outlet_Size','Outlet_Type']]"
      ],
      "execution_count": null,
      "outputs": [
        {
          "output_type": "execute_result",
          "data": {
            "text/html": [
              "<div>\n",
              "<style scoped>\n",
              "    .dataframe tbody tr th:only-of-type {\n",
              "        vertical-align: middle;\n",
              "    }\n",
              "\n",
              "    .dataframe tbody tr th {\n",
              "        vertical-align: top;\n",
              "    }\n",
              "\n",
              "    .dataframe thead th {\n",
              "        text-align: right;\n",
              "    }\n",
              "</style>\n",
              "<table border=\"1\" class=\"dataframe\">\n",
              "  <thead>\n",
              "    <tr style=\"text-align: right;\">\n",
              "      <th></th>\n",
              "      <th>Outlet_Identifier</th>\n",
              "      <th>Outlet_Size</th>\n",
              "      <th>Outlet_Type</th>\n",
              "    </tr>\n",
              "  </thead>\n",
              "  <tbody>\n",
              "    <tr>\n",
              "      <th>3</th>\n",
              "      <td>OUT010</td>\n",
              "      <td>NaN</td>\n",
              "      <td>Grocery Store</td>\n",
              "    </tr>\n",
              "    <tr>\n",
              "      <th>8</th>\n",
              "      <td>OUT045</td>\n",
              "      <td>NaN</td>\n",
              "      <td>Supermarket Type1</td>\n",
              "    </tr>\n",
              "    <tr>\n",
              "      <th>9</th>\n",
              "      <td>OUT017</td>\n",
              "      <td>NaN</td>\n",
              "      <td>Supermarket Type1</td>\n",
              "    </tr>\n",
              "    <tr>\n",
              "      <th>25</th>\n",
              "      <td>OUT017</td>\n",
              "      <td>NaN</td>\n",
              "      <td>Supermarket Type1</td>\n",
              "    </tr>\n",
              "    <tr>\n",
              "      <th>28</th>\n",
              "      <td>OUT010</td>\n",
              "      <td>NaN</td>\n",
              "      <td>Grocery Store</td>\n",
              "    </tr>\n",
              "    <tr>\n",
              "      <th>...</th>\n",
              "      <td>...</td>\n",
              "      <td>...</td>\n",
              "      <td>...</td>\n",
              "    </tr>\n",
              "    <tr>\n",
              "      <th>8502</th>\n",
              "      <td>OUT045</td>\n",
              "      <td>NaN</td>\n",
              "      <td>Supermarket Type1</td>\n",
              "    </tr>\n",
              "    <tr>\n",
              "      <th>8508</th>\n",
              "      <td>OUT045</td>\n",
              "      <td>NaN</td>\n",
              "      <td>Supermarket Type1</td>\n",
              "    </tr>\n",
              "    <tr>\n",
              "      <th>8509</th>\n",
              "      <td>OUT010</td>\n",
              "      <td>NaN</td>\n",
              "      <td>Grocery Store</td>\n",
              "    </tr>\n",
              "    <tr>\n",
              "      <th>8514</th>\n",
              "      <td>OUT045</td>\n",
              "      <td>NaN</td>\n",
              "      <td>Supermarket Type1</td>\n",
              "    </tr>\n",
              "    <tr>\n",
              "      <th>8519</th>\n",
              "      <td>OUT045</td>\n",
              "      <td>NaN</td>\n",
              "      <td>Supermarket Type1</td>\n",
              "    </tr>\n",
              "  </tbody>\n",
              "</table>\n",
              "<p>2410 rows × 3 columns</p>\n",
              "</div>"
            ],
            "text/plain": [
              "     Outlet_Identifier Outlet_Size        Outlet_Type\n",
              "3               OUT010         NaN      Grocery Store\n",
              "8               OUT045         NaN  Supermarket Type1\n",
              "9               OUT017         NaN  Supermarket Type1\n",
              "25              OUT017         NaN  Supermarket Type1\n",
              "28              OUT010         NaN      Grocery Store\n",
              "...                ...         ...                ...\n",
              "8502            OUT045         NaN  Supermarket Type1\n",
              "8508            OUT045         NaN  Supermarket Type1\n",
              "8509            OUT010         NaN      Grocery Store\n",
              "8514            OUT045         NaN  Supermarket Type1\n",
              "8519            OUT045         NaN  Supermarket Type1\n",
              "\n",
              "[2410 rows x 3 columns]"
            ]
          },
          "metadata": {
            "tags": []
          },
          "execution_count": 107
        }
      ]
    },
    {
      "cell_type": "code",
      "metadata": {
        "colab": {
          "base_uri": "https://localhost:8080/"
        },
        "id": "DiU0MBqqGvXm",
        "outputId": "70811cf0-e316-4383-8f0b-acf177305599"
      },
      "source": [
        "df.loc[df['Outlet_Size'].isnull(),['Outlet_Identifier']].value_counts()"
      ],
      "execution_count": null,
      "outputs": [
        {
          "output_type": "execute_result",
          "data": {
            "text/plain": [
              "Outlet_Identifier\n",
              "OUT045               929\n",
              "OUT017               926\n",
              "OUT010               555\n",
              "dtype: int64"
            ]
          },
          "metadata": {
            "tags": []
          },
          "execution_count": 108
        }
      ]
    },
    {
      "cell_type": "markdown",
      "metadata": {
        "id": "Ewb4OquEG3Nf"
      },
      "source": [
        "Tenemos 3 Outlet con errores en el tamaño.\n",
        "- OUT045: Type 1\n",
        "- OUT017: Type 1\n",
        "- OUT010: Grocery Store"
      ]
    },
    {
      "cell_type": "code",
      "metadata": {
        "colab": {
          "base_uri": "https://localhost:8080/"
        },
        "id": "ZGlLO588HVBw",
        "outputId": "c428371f-f66a-4afc-f070-2e14171f130b"
      },
      "source": [
        "df.loc[df['Outlet_Type'] =='Grocery Store','Outlet_Size'].value_counts() # Todas Grocery son SMALL"
      ],
      "execution_count": null,
      "outputs": [
        {
          "output_type": "execute_result",
          "data": {
            "text/plain": [
              "Small    528\n",
              "Name: Outlet_Size, dtype: int64"
            ]
          },
          "metadata": {
            "tags": []
          },
          "execution_count": 60
        }
      ]
    },
    {
      "cell_type": "markdown",
      "metadata": {
        "id": "663eqb8nJ9xP"
      },
      "source": [
        "Grocery Store cambiamos Outlet_Size por SMALL"
      ]
    },
    {
      "cell_type": "code",
      "metadata": {
        "colab": {
          "base_uri": "https://localhost:8080/"
        },
        "id": "ILCYTLzNI0Xg",
        "outputId": "401c8735-c075-40ad-b393-71fcb2ce2bc7"
      },
      "source": [
        "df.loc[df['Outlet_Type'] =='Supermarket Type1',['Outlet_Size']].value_counts() # Todas Grocery son SMALL"
      ],
      "execution_count": null,
      "outputs": [
        {
          "output_type": "execute_result",
          "data": {
            "text/plain": [
              "Outlet_Size\n",
              "Small          1860\n",
              "High            932\n",
              "Medium          930\n",
              "dtype: int64"
            ]
          },
          "metadata": {
            "tags": []
          },
          "execution_count": 61
        }
      ]
    },
    {
      "cell_type": "markdown",
      "metadata": {
        "id": "kotG4Y80KKgv"
      },
      "source": [
        "Está igualado. Vamos a ver si podemos mejorar la estimación"
      ]
    },
    {
      "cell_type": "code",
      "metadata": {
        "colab": {
          "base_uri": "https://localhost:8080/"
        },
        "id": "zZwgNsigJVPP",
        "outputId": "fba82c48-fda2-4622-a727-663be08ea012"
      },
      "source": [
        "df.loc[(df['Outlet_Type'] =='Supermarket Type1') & (df['Outlet_Location_Type'] =='Tier 1'),'Outlet_Size'].value_counts()"
      ],
      "execution_count": null,
      "outputs": [
        {
          "output_type": "execute_result",
          "data": {
            "text/plain": [
              "Small     930\n",
              "Medium    930\n",
              "Name: Outlet_Size, dtype: int64"
            ]
          },
          "metadata": {
            "tags": []
          },
          "execution_count": 62
        }
      ]
    },
    {
      "cell_type": "code",
      "metadata": {
        "colab": {
          "base_uri": "https://localhost:8080/"
        },
        "id": "vuUUOsT8M-T8",
        "outputId": "0ff6bc11-572c-41a5-85b6-bb21cbb259f9"
      },
      "source": [
        "df.loc[(df['Outlet_Type'] =='Supermarket Type1') & (df['Outlet_Location_Type'] =='Tier 2'),'Outlet_Size'].value_counts()"
      ],
      "execution_count": null,
      "outputs": [
        {
          "output_type": "execute_result",
          "data": {
            "text/plain": [
              "Small    930\n",
              "Name: Outlet_Size, dtype: int64"
            ]
          },
          "metadata": {
            "tags": []
          },
          "execution_count": 63
        }
      ]
    },
    {
      "cell_type": "code",
      "metadata": {
        "colab": {
          "base_uri": "https://localhost:8080/"
        },
        "id": "bNzkIAqoNBsh",
        "outputId": "4259b02d-bc99-4708-9ecd-5698ff768a7b"
      },
      "source": [
        "df.loc[(df['Outlet_Type'] =='Supermarket Type1') & (df['Outlet_Location_Type'] =='Tier 3'),'Outlet_Size'].value_counts()"
      ],
      "execution_count": null,
      "outputs": [
        {
          "output_type": "execute_result",
          "data": {
            "text/plain": [
              "High    932\n",
              "Name: Outlet_Size, dtype: int64"
            ]
          },
          "metadata": {
            "tags": []
          },
          "execution_count": 64
        }
      ]
    },
    {
      "cell_type": "markdown",
      "metadata": {
        "id": "09mhegMXLdpq"
      },
      "source": [
        "Tiar 3 siempre HIGHT, Tier 2 siempre 'SMALL', Tier 1 a la mitad. Podemos añadir uno nuevo 'MED' "
      ]
    },
    {
      "cell_type": "code",
      "metadata": {
        "id": "YWekBumkL2MS"
      },
      "source": [
        "df_copy=df.copy()"
      ],
      "execution_count": null,
      "outputs": []
    },
    {
      "cell_type": "code",
      "metadata": {
        "id": "PT3lsTmCNhWL"
      },
      "source": [
        "df_copy.fillna(value={'Outlet_Size':'Small'},inplace=True)"
      ],
      "execution_count": null,
      "outputs": []
    },
    {
      "cell_type": "code",
      "metadata": {
        "colab": {
          "base_uri": "https://localhost:8080/"
        },
        "id": "pFEx7gaoO4LF",
        "outputId": "e2f3fa36-af6f-415a-b2c9-e22e64fb5115"
      },
      "source": [
        "df_copy.isnull().sum()"
      ],
      "execution_count": null,
      "outputs": [
        {
          "output_type": "execute_result",
          "data": {
            "text/plain": [
              "Item_Identifier                 0\n",
              "Item_Weight                  1463\n",
              "Item_Fat_Content                0\n",
              "Item_Visibility                 0\n",
              "Item_Type                       0\n",
              "Item_MRP                        0\n",
              "Outlet_Identifier               0\n",
              "Outlet_Establishment_Year       0\n",
              "Outlet_Size                     0\n",
              "Outlet_Location_Type            0\n",
              "Outlet_Type                     0\n",
              "Item_Outlet_Sales               0\n",
              "dtype: int64"
            ]
          },
          "metadata": {
            "tags": []
          },
          "execution_count": 213
        }
      ]
    },
    {
      "cell_type": "code",
      "metadata": {
        "id": "9IkEpn8aLeS5"
      },
      "source": [
        "dep_var='Item_Outlet_Sales'"
      ],
      "execution_count": null,
      "outputs": []
    },
    {
      "cell_type": "code",
      "metadata": {
        "id": "5IeYT3v4LeTn"
      },
      "source": [
        "cont,cat = cont_cat_split(df_copy,max_card=200,dep_var=dep_var)"
      ],
      "execution_count": null,
      "outputs": []
    },
    {
      "cell_type": "code",
      "metadata": {
        "id": "wBZAGNOBLeTo"
      },
      "source": [
        "splits = RandomSplitter(seed=48)(range_of(df_copy))"
      ],
      "execution_count": null,
      "outputs": []
    },
    {
      "cell_type": "code",
      "metadata": {
        "id": "rqkgjzpyQNTU"
      },
      "source": [
        "procs=[Categorify,FillMissing]\n",
        "to=TabularPandas(df_copy,procs=procs,cat_names=cat,cont_names=cont,y_names=dep_var,splits=splits)"
      ],
      "execution_count": null,
      "outputs": []
    },
    {
      "cell_type": "code",
      "metadata": {
        "colab": {
          "base_uri": "https://localhost:8080/"
        },
        "id": "7Llvc30TThf1",
        "outputId": "7e2dbda4-a443-4b4c-d2d7-7fbc9c535042"
      },
      "source": [
        "to.classes"
      ],
      "execution_count": null,
      "outputs": [
        {
          "output_type": "execute_result",
          "data": {
            "text/plain": [
              "{'Item_Fat_Content': ['#na#', 'LF', 'Low Fat', 'Regular', 'low fat', 'reg'],\n",
              " 'Item_Identifier': ['#na#', 'DRA12', 'DRA24', 'DRA59', 'DRB01', 'DRB13', 'DRB24', 'DRB25', 'DRB48', 'DRC01', 'DRC12', 'DRC13', 'DRC24', 'DRC25', 'DRC27', 'DRC36', 'DRC49', 'DRD01', 'DRD12', 'DRD13', 'DRD15', 'DRD24', 'DRD25', 'DRD27', 'DRD37', 'DRD49', 'DRD60', 'DRE01', 'DRE03', 'DRE12', 'DRE13', 'DRE15', 'DRE25', 'DRE27', 'DRE37', 'DRE48', 'DRE49', 'DRE60', 'DRF01', 'DRF03', 'DRF13', 'DRF15', 'DRF23', 'DRF25', 'DRF27', 'DRF36', 'DRF37', 'DRF48', 'DRF49', 'DRF51', 'DRF60', 'DRG01', 'DRG03', 'DRG11', 'DRG13', 'DRG15', 'DRG23', 'DRG25', 'DRG27', 'DRG36', 'DRG37', 'DRG39', 'DRG48', 'DRG49', 'DRG51', 'DRH01', 'DRH03', 'DRH11', 'DRH13', 'DRH15', 'DRH23', 'DRH25', 'DRH36', 'DRH37', 'DRH39', 'DRH49', 'DRH51', 'DRH59', 'DRI01', 'DRI03', 'DRI11', 'DRI13', 'DRI23', 'DRI25', 'DRI37', 'DRI39', 'DRI47', 'DRI49', 'DRI51', 'DRI59', 'DRJ01', 'DRJ11', 'DRJ13', 'DRJ23', 'DRJ24', 'DRJ25', 'DRJ35', 'DRJ37', 'DRJ39', 'DRJ47', 'DRJ49', 'DRJ51', 'DRJ59', 'DRK01', 'DRK11', 'DRK12', 'DRK13', 'DRK23', 'DRK35', 'DRK37', 'DRK39', 'DRK47', 'DRK49', 'DRK59', 'DRL01', 'DRL11', 'DRL23', 'DRL35', 'DRL37', 'DRL47', 'DRL49', 'DRL59', 'DRL60', 'DRM11', 'DRM23', 'DRM35', 'DRM37', 'DRM47', 'DRM48', 'DRM49', 'DRM59', 'DRN11', 'DRN35', 'DRN36', 'DRN37', 'DRN47', 'DRN59', 'DRO35', 'DRO47', 'DRO59', 'DRP35', 'DRP47', 'DRQ35', 'DRY23', 'DRZ11', 'DRZ24', 'FDA01', 'FDA02', 'FDA03', 'FDA04', 'FDA07', 'FDA08', 'FDA09', 'FDA10', 'FDA11', 'FDA13', 'FDA14', 'FDA15', 'FDA16', 'FDA19', 'FDA20', 'FDA21', 'FDA22', 'FDA23', 'FDA25', 'FDA26', 'FDA27', 'FDA28', 'FDA31', 'FDA32', 'FDA33', 'FDA34', 'FDA35', 'FDA36', 'FDA37', 'FDA38', 'FDA39', 'FDA40', 'FDA43', 'FDA44', 'FDA45', 'FDA46', 'FDA47', 'FDA48', 'FDA49', 'FDA50', 'FDA51', 'FDA52', 'FDA55', 'FDA56', 'FDA57', 'FDA58', 'FDB02', 'FDB03', 'FDB04', 'FDB05', 'FDB08', 'FDB09', 'FDB10', 'FDB11', 'FDB12', 'FDB14', 'FDB15', 'FDB16', 'FDB17', 'FDB20', 'FDB21', 'FDB22', 'FDB23', 'FDB26', 'FDB27', 'FDB28', 'FDB29', 'FDB32', 'FDB33', 'FDB34', 'FDB35', 'FDB36', 'FDB37', 'FDB38', 'FDB39', 'FDB40', 'FDB41', 'FDB44', 'FDB45', 'FDB46', 'FDB47', 'FDB49', 'FDB50', 'FDB51', 'FDB52', 'FDB53', 'FDB56', 'FDB57', 'FDB58', 'FDB59', 'FDB60', 'FDC02', 'FDC03', 'FDC04', 'FDC05', 'FDC08', 'FDC09', 'FDC10', 'FDC11', 'FDC14', 'FDC15', 'FDC16', 'FDC17', 'FDC20', 'FDC21', 'FDC22', 'FDC23', 'FDC26', 'FDC28', 'FDC29', 'FDC32', 'FDC33', 'FDC34', 'FDC35', 'FDC37', 'FDC38', 'FDC39', 'FDC40', 'FDC41', 'FDC44', 'FDC45', 'FDC46', 'FDC47', 'FDC48', 'FDC50', 'FDC51', 'FDC52', 'FDC53', 'FDC56', 'FDC57', 'FDC58', 'FDC59', 'FDC60', 'FDD02', 'FDD03', 'FDD04', 'FDD05', 'FDD08', 'FDD09', 'FDD10', 'FDD11', 'FDD14', 'FDD16', 'FDD17', 'FDD20', 'FDD21', 'FDD22', 'FDD23', 'FDD26', 'FDD28', 'FDD29', 'FDD32', 'FDD33', 'FDD34', 'FDD35', 'FDD36', 'FDD38', 'FDD39', 'FDD40', 'FDD41', 'FDD44', 'FDD45', 'FDD46', 'FDD47', 'FDD48', 'FDD50', 'FDD51', 'FDD52', 'FDD53', 'FDD56', 'FDD57', 'FDD58', 'FDD59', 'FDE02', 'FDE04', 'FDE05', 'FDE08', 'FDE09', 'FDE10', 'FDE11', 'FDE14', 'FDE16', 'FDE17', 'FDE20', 'FDE21', 'FDE22', 'FDE23', 'FDE24', 'FDE26', 'FDE28', 'FDE29', 'FDE32', 'FDE33', 'FDE34', 'FDE35', 'FDE36', 'FDE38', 'FDE39', 'FDE40', 'FDE41', 'FDE44', 'FDE45', 'FDE46', 'FDE47', 'FDE50', 'FDE51', 'FDE52', 'FDE53', 'FDE56', 'FDE57', 'FDE58', 'FDE59', 'FDF02', 'FDF04', 'FDF05', 'FDF08', 'FDF09', 'FDF10', 'FDF11', 'FDF12', 'FDF14', 'FDF16', 'FDF17', 'FDF20', 'FDF21', 'FDF22', 'FDF24', 'FDF26', 'FDF28', 'FDF29', 'FDF32', 'FDF33', 'FDF34', 'FDF35', 'FDF38', 'FDF39', 'FDF40', 'FDF41', 'FDF44', 'FDF45', 'FDF46', 'FDF47', 'FDF50', 'FDF52', 'FDF53', 'FDF56', 'FDF57', 'FDF58', 'FDF59', 'FDG02', 'FDG04', 'FDG05', 'FDG08', 'FDG09', 'FDG10', 'FDG12', 'FDG14', 'FDG16', 'FDG17', 'FDG20', 'FDG21', 'FDG22', 'FDG24', 'FDG26', 'FDG28', 'FDG29', 'FDG31', 'FDG32', 'FDG33', 'FDG34', 'FDG35', 'FDG38', 'FDG40', 'FDG41', 'FDG44', 'FDG45', 'FDG46', 'FDG47', 'FDG50', 'FDG52', 'FDG53', 'FDG56', 'FDG57', 'FDG58', 'FDG59', 'FDG60', 'FDH02', 'FDH04', 'FDH05', 'FDH08', 'FDH09', 'FDH10', 'FDH12', 'FDH14', 'FDH16', 'FDH17', 'FDH19', 'FDH20', 'FDH21', 'FDH22', 'FDH24', 'FDH26', 'FDH27', 'FDH28', 'FDH31', 'FDH32', 'FDH33', 'FDH34', 'FDH35', 'FDH38', 'FDH40', 'FDH41', 'FDH44', 'FDH45', 'FDH46', 'FDH47', 'FDH48', 'FDH50', 'FDH52', 'FDH53', 'FDH56', 'FDH57', 'FDH58', 'FDH60', 'FDI02', 'FDI04', 'FDI05', 'FDI07', 'FDI08', 'FDI09', 'FDI10', 'FDI12', 'FDI14', 'FDI15', 'FDI16', 'FDI19', 'FDI20', 'FDI21', 'FDI22', 'FDI24', 'FDI26', 'FDI27', 'FDI28', 'FDI32', 'FDI33', 'FDI34', 'FDI35', 'FDI36', 'FDI38', 'FDI40', 'FDI41', 'FDI44', 'FDI45', 'FDI46', 'FDI48', 'FDI50', 'FDI52', 'FDI53', 'FDI56', 'FDI57', 'FDI58', 'FDI60', 'FDJ02', 'FDJ03', 'FDJ04', 'FDJ07', 'FDJ08', 'FDJ09', 'FDJ10', 'FDJ12', 'FDJ14', 'FDJ15', 'FDJ16', 'FDJ20', 'FDJ21', 'FDJ22', 'FDJ26', 'FDJ27', 'FDJ28', 'FDJ32', 'FDJ33', 'FDJ34', 'FDJ36', 'FDJ38', 'FDJ40', 'FDJ41', 'FDJ44', 'FDJ45', 'FDJ46', 'FDJ48', 'FDJ50', 'FDJ52', 'FDJ53', 'FDJ55', 'FDJ56', 'FDJ57', 'FDJ58', 'FDJ60', 'FDK02', 'FDK03', 'FDK04', 'FDK08', 'FDK09', 'FDK10', 'FDK14', 'FDK15', 'FDK16', 'FDK20', 'FDK21', 'FDK22', 'FDK24', 'FDK25', 'FDK26', 'FDK27', 'FDK28', 'FDK32', 'FDK33', 'FDK34', 'FDK36', 'FDK38', 'FDK40', 'FDK41', 'FDK43', 'FDK44', 'FDK45', 'FDK46', 'FDK48', 'FDK50', 'FDK51', 'FDK52', 'FDK55', 'FDK56', 'FDK57', 'FDK58', 'FDK60', 'FDL02', 'FDL03', 'FDL04', 'FDL08', 'FDL09', 'FDL10', 'FDL12', 'FDL13', 'FDL14', 'FDL15', 'FDL16', 'FDL20', 'FDL21', 'FDL22', 'FDL24', 'FDL25', 'FDL26', 'FDL27', 'FDL28', 'FDL32', 'FDL33', 'FDL34', 'FDL36', 'FDL38', 'FDL39', 'FDL40', 'FDL43', 'FDL44', 'FDL45', 'FDL46', 'FDL48', 'FDL50', 'FDL51', 'FDL52', 'FDL56', 'FDL57', 'FDL58', 'FDM01', 'FDM02', 'FDM03', 'FDM04', 'FDM08', 'FDM09', 'FDM10', 'FDM12', 'FDM13', 'FDM14', 'FDM15', 'FDM16', 'FDM20', 'FDM21', 'FDM22', 'FDM24', 'FDM25', 'FDM27', 'FDM28', 'FDM32', 'FDM33', 'FDM34', 'FDM36', 'FDM38', 'FDM39', 'FDM40', 'FDM44', 'FDM45', 'FDM46', 'FDM50', 'FDM51', 'FDM52', 'FDM56', 'FDM57', 'FDM58', 'FDM60', 'FDN01', 'FDN02', 'FDN03', 'FDN04', 'FDN08', 'FDN09', 'FDN10', 'FDN12', 'FDN13', 'FDN15', 'FDN16', 'FDN20', 'FDN21', 'FDN22', 'FDN23', 'FDN24', 'FDN25', 'FDN27', 'FDN28', 'FDN31', 'FDN32', 'FDN33', 'FDN34', 'FDN38', 'FDN39', 'FDN40', 'FDN44', 'FDN45', 'FDN46', 'FDN48', 'FDN49', 'FDN50', 'FDN51', 'FDN52', 'FDN56', 'FDN57', 'FDN58', 'FDN60', 'FDO01', 'FDO03', 'FDO04', 'FDO08', 'FDO09', 'FDO10', 'FDO11', 'FDO12', 'FDO13', 'FDO15', 'FDO16', 'FDO19', 'FDO20', 'FDO21', 'FDO22', 'FDO23', 'FDO24', 'FDO25', 'FDO27', 'FDO28', 'FDO31', 'FDO32', 'FDO33', 'FDO34', 'FDO36', 'FDO37', 'FDO38', 'FDO39', 'FDO40', 'FDO44', 'FDO45', 'FDO46', 'FDO48', 'FDO49', 'FDO50', 'FDO51', 'FDO52', 'FDO56', 'FDO57', 'FDO58', 'FDO60', 'FDP01', 'FDP03', 'FDP04', 'FDP07', 'FDP08', 'FDP09', 'FDP10', 'FDP11', 'FDP12', 'FDP13', 'FDP15', 'FDP16', 'FDP19', 'FDP20', 'FDP21', 'FDP22', 'FDP23', 'FDP24', 'FDP25', 'FDP26', 'FDP27', 'FDP28', 'FDP31', 'FDP32', 'FDP33', 'FDP34', 'FDP36', 'FDP37', 'FDP38', 'FDP39', 'FDP40', 'FDP44', 'FDP45', 'FDP46', 'FDP48', 'FDP49', 'FDP51', 'FDP52', 'FDP56', 'FDP57', 'FDP58', 'FDP59', 'FDP60', 'FDQ01', 'FDQ03', 'FDQ04', 'FDQ07', 'FDQ08', 'FDQ09', 'FDQ10', 'FDQ11', 'FDQ12', 'FDQ13', 'FDQ14', 'FDQ15', 'FDQ16', 'FDQ19', 'FDQ20', 'FDQ21', 'FDQ22', 'FDQ23', 'FDQ24', 'FDQ25', 'FDQ26', 'FDQ27', 'FDQ28', 'FDQ31', 'FDQ32', 'FDQ33', 'FDQ34', 'FDQ36', 'FDQ37', 'FDQ39', 'FDQ40', 'FDQ44', 'FDQ45', 'FDQ46', 'FDQ47', 'FDQ48', 'FDQ49', 'FDQ51', 'FDQ52', 'FDQ55', 'FDQ56', 'FDQ57', 'FDQ58', 'FDQ59', 'FDQ60', 'FDR01', 'FDR02', 'FDR03', 'FDR04', 'FDR07', 'FDR08', 'FDR09', 'FDR10', 'FDR11', 'FDR12', 'FDR13', 'FDR14', 'FDR15', 'FDR16', 'FDR19', 'FDR20', 'FDR21', 'FDR22', 'FDR23', 'FDR24', 'FDR25', 'FDR26', 'FDR27', 'FDR28', 'FDR31', 'FDR32', 'FDR33', 'FDR34', 'FDR35', 'FDR36', 'FDR37', 'FDR39', 'FDR40', 'FDR43', 'FDR44', 'FDR45', 'FDR46', 'FDR47', 'FDR48', 'FDR49', 'FDR51', 'FDR52', 'FDR55', 'FDR56', 'FDR57', 'FDR58', 'FDR59', 'FDR60', 'FDS01', 'FDS02', 'FDS03', 'FDS04', 'FDS07', 'FDS08', 'FDS09', 'FDS10', 'FDS11', 'FDS12', 'FDS13', 'FDS14', 'FDS15', 'FDS16', 'FDS19', 'FDS20', 'FDS21', 'FDS22', 'FDS23', 'FDS24', 'FDS25', 'FDS26', 'FDS27', 'FDS28', 'FDS31', 'FDS32', 'FDS33', 'FDS34', 'FDS35', 'FDS36', 'FDS37', 'FDS39', 'FDS40', 'FDS43', 'FDS44', 'FDS45', 'FDS46', 'FDS47', 'FDS48', 'FDS49', 'FDS50', 'FDS51', 'FDS52', 'FDS55', 'FDS56', 'FDS57', 'FDS58', 'FDS59', 'FDS60', 'FDT01', 'FDT02', 'FDT03', 'FDT04', 'FDT07', 'FDT08', 'FDT09', 'FDT10', 'FDT11', 'FDT12', 'FDT13', 'FDT14', 'FDT15', 'FDT16', 'FDT19', 'FDT20', 'FDT21', 'FDT22', 'FDT23', 'FDT24', 'FDT25', 'FDT26', 'FDT27', 'FDT28', 'FDT31', 'FDT32', 'FDT33', 'FDT34', 'FDT35', 'FDT36', 'FDT37', 'FDT38', 'FDT39', 'FDT40', 'FDT43', 'FDT44', 'FDT45', 'FDT46', 'FDT47', 'FDT48', 'FDT49', 'FDT50', 'FDT51', 'FDT52', 'FDT55', 'FDT56', 'FDT57', 'FDT58', 'FDT59', 'FDT60', 'FDU01', 'FDU02', 'FDU03', 'FDU04', 'FDU07', 'FDU08', 'FDU09', 'FDU10', 'FDU11', 'FDU12', 'FDU13', 'FDU14', 'FDU15', 'FDU16', 'FDU19', 'FDU20', 'FDU21', 'FDU22', 'FDU23', 'FDU24', 'FDU25', 'FDU26', 'FDU27', 'FDU28', 'FDU31', 'FDU32', 'FDU33', 'FDU34', 'FDU35', 'FDU36', 'FDU37', 'FDU38', 'FDU39', 'FDU40', 'FDU43', 'FDU44', 'FDU45', 'FDU46', 'FDU47', 'FDU48', 'FDU49', 'FDU50', 'FDU51', 'FDU52', 'FDU55', 'FDU56', 'FDU57', 'FDU58', 'FDU59', 'FDU60', 'FDV01', 'FDV02', 'FDV03', 'FDV04', 'FDV07', 'FDV08', 'FDV09', 'FDV10', 'FDV11', 'FDV12', 'FDV13', 'FDV14', 'FDV15', 'FDV16', 'FDV19', 'FDV20', 'FDV21', 'FDV22', 'FDV23', 'FDV24', 'FDV25', 'FDV26', 'FDV27', 'FDV28', 'FDV31', 'FDV32', 'FDV33', 'FDV34', 'FDV35', 'FDV36', 'FDV37', 'FDV38', 'FDV39', 'FDV40', 'FDV43', 'FDV44', 'FDV45', 'FDV46', 'FDV47', 'FDV48', 'FDV49', 'FDV50', 'FDV51', 'FDV52', 'FDV55', 'FDV56', 'FDV57', 'FDV58', 'FDV59', 'FDV60', 'FDW01', 'FDW02', 'FDW03', 'FDW04', 'FDW07', 'FDW08', 'FDW09', 'FDW10', 'FDW11', 'FDW12', 'FDW13', 'FDW14', 'FDW15', 'FDW16', 'FDW19', 'FDW20', 'FDW21', 'FDW22', 'FDW23', 'FDW24', 'FDW25', 'FDW26', 'FDW27', 'FDW28', 'FDW31', 'FDW32', 'FDW33', 'FDW34', 'FDW35', 'FDW36', 'FDW37', 'FDW38', 'FDW39', 'FDW40', 'FDW43', 'FDW44', 'FDW45', 'FDW46', 'FDW47', 'FDW48', 'FDW49', 'FDW50', 'FDW51', 'FDW52', 'FDW55', 'FDW56', 'FDW57', 'FDW58', 'FDW59', 'FDW60', 'FDX01', 'FDX02', 'FDX03', 'FDX04', 'FDX07', 'FDX08', 'FDX09', 'FDX10', 'FDX11', 'FDX12', 'FDX13', 'FDX14', 'FDX15', 'FDX16', 'FDX19', 'FDX20', 'FDX21', 'FDX22', 'FDX23', 'FDX24', 'FDX25', 'FDX26', 'FDX27', 'FDX28', 'FDX31', 'FDX32', 'FDX33', 'FDX34', 'FDX35', 'FDX36', 'FDX37', 'FDX38', 'FDX39', 'FDX40', 'FDX43', 'FDX44', 'FDX45', 'FDX46', 'FDX47', 'FDX48', 'FDX49', 'FDX50', 'FDX51', 'FDX52', 'FDX55', 'FDX56', 'FDX57', 'FDX58', 'FDX59', 'FDX60', 'FDY01', 'FDY02', 'FDY03', 'FDY04', 'FDY07', 'FDY08', 'FDY09', 'FDY10', 'FDY11', 'FDY12', 'FDY13', 'FDY14', 'FDY15', 'FDY16', 'FDY19', 'FDY20', 'FDY21', 'FDY22', 'FDY24', 'FDY25', 'FDY26', 'FDY27', 'FDY28', 'FDY31', 'FDY32', 'FDY33', 'FDY34', 'FDY35', 'FDY36', 'FDY37', 'FDY38', 'FDY39', 'FDY40', 'FDY43', 'FDY44', 'FDY45', 'FDY46', 'FDY47', 'FDY48', 'FDY49', 'FDY50', 'FDY51', 'FDY52', 'FDY55', 'FDY56', 'FDY57', 'FDY58', 'FDY59', 'FDY60', 'FDZ01', 'FDZ02', 'FDZ03', 'FDZ04', 'FDZ07', 'FDZ08', 'FDZ09', 'FDZ10', 'FDZ12', 'FDZ13', 'FDZ14', 'FDZ15', 'FDZ16', 'FDZ19', 'FDZ20', 'FDZ21', 'FDZ22', 'FDZ23', 'FDZ25', 'FDZ26', 'FDZ27', 'FDZ28', 'FDZ31', 'FDZ32', 'FDZ33', 'FDZ34', 'FDZ35', 'FDZ36', 'FDZ37', 'FDZ38', 'FDZ39', 'FDZ40', 'FDZ43', 'FDZ44', 'FDZ45', 'FDZ46', 'FDZ47', 'FDZ48', 'FDZ49', 'FDZ50', 'FDZ51', 'FDZ52', 'FDZ55', 'FDZ56', 'FDZ57', 'FDZ58', 'FDZ59', 'FDZ60', 'NCA05', 'NCA06', 'NCA17', 'NCA18', 'NCA29', 'NCA30', 'NCA41', 'NCA42', 'NCA53', 'NCA54', 'NCB06', 'NCB07', 'NCB18', 'NCB19', 'NCB30', 'NCB31', 'NCB42', 'NCB43', 'NCB54', 'NCB55', 'NCC06', 'NCC07', 'NCC18', 'NCC19', 'NCC30', 'NCC31', 'NCC42', 'NCC43', 'NCC54', 'NCC55', 'NCD06', 'NCD07', 'NCD18', 'NCD19', 'NCD30', 'NCD31', 'NCD42', 'NCD43', 'NCD54', 'NCD55', 'NCE06', 'NCE07', 'NCE18', 'NCE19', 'NCE30', 'NCE31', 'NCE42', 'NCE43', 'NCE54', 'NCE55', 'NCF06', 'NCF07', 'NCF18', 'NCF19', 'NCF30', 'NCF31', 'NCF42', 'NCF43', 'NCF54', 'NCF55', 'NCG06', 'NCG07', 'NCG18', 'NCG19', 'NCG30', 'NCG42', 'NCG43', 'NCG54', 'NCG55', 'NCH06', 'NCH07', 'NCH18', 'NCH29', 'NCH30', 'NCH42', 'NCH43', 'NCH54', 'NCH55', 'NCI06', 'NCI17', 'NCI18', 'NCI29', 'NCI30', 'NCI31', 'NCI42', 'NCI43', 'NCI54', 'NCI55', 'NCJ05', 'NCJ06', 'NCJ17', 'NCJ18', 'NCJ19', 'NCJ29', 'NCJ30', 'NCJ31', 'NCJ42', 'NCJ43', 'NCJ54', 'NCK05', 'NCK06', 'NCK07', 'NCK17', 'NCK18', 'NCK19', 'NCK29', 'NCK30', 'NCK31', 'NCK42', 'NCK53', 'NCK54', 'NCL05', 'NCL06', 'NCL07', 'NCL17', 'NCL18', 'NCL19', 'NCL29', 'NCL30', 'NCL31', 'NCL41', 'NCL42', 'NCL53', 'NCL54', 'NCL55', 'NCM05', 'NCM06', 'NCM07', 'NCM17', 'NCM18', 'NCM19', 'NCM26', 'NCM29', 'NCM30', 'NCM31', 'NCM41', 'NCM42', 'NCM43', 'NCM53', 'NCM54', 'NCM55', 'NCN05', 'NCN06', 'NCN07', 'NCN14', 'NCN17', 'NCN18', 'NCN19', 'NCN26', 'NCN29', 'NCN30', 'NCN41', 'NCN42', 'NCN43', 'NCN53', 'NCN54', 'NCN55', 'NCO02', 'NCO05', 'NCO06', 'NCO07', 'NCO14', 'NCO17', 'NCO18', 'NCO26', 'NCO29', 'NCO30', 'NCO41', 'NCO42', 'NCO43', 'NCO53', 'NCO54', 'NCO55', 'NCP02', 'NCP05', 'NCP06', 'NCP14', 'NCP17', 'NCP18', 'NCP29', 'NCP30', 'NCP41', 'NCP42', 'NCP43', 'NCP50', 'NCP53', 'NCP54', 'NCP55', 'NCQ02', 'NCQ05', 'NCQ06', 'NCQ17', 'NCQ18', 'NCQ29', 'NCQ30', 'NCQ38', 'NCQ41', 'NCQ42', 'NCQ43', 'NCQ50', 'NCQ53', 'NCQ54', 'NCR05', 'NCR06', 'NCR17', 'NCR18', 'NCR29', 'NCR30', 'NCR38', 'NCR41', 'NCR42', 'NCR50', 'NCR53', 'NCR54', 'NCS05', 'NCS06', 'NCS17', 'NCS18', 'NCS29', 'NCS30', 'NCS38', 'NCS41', 'NCS42', 'NCS53', 'NCS54', 'NCT05', 'NCT06', 'NCT17', 'NCT18', 'NCT29', 'NCT30', 'NCT41', 'NCT42', 'NCT53', 'NCT54', 'NCU05', 'NCU06', 'NCU17', 'NCU18', 'NCU29', 'NCU30', 'NCU41', 'NCU42', 'NCU53', 'NCU54', 'NCV05', 'NCV06', 'NCV17', 'NCV18', 'NCV29', 'NCV30', 'NCV41', 'NCV42', 'NCV53', 'NCV54', 'NCW05', 'NCW06', 'NCW17', 'NCW18', 'NCW29', 'NCW30', 'NCW41', 'NCW42', 'NCW53', 'NCW54', 'NCX05', 'NCX06', 'NCX17', 'NCX18', 'NCX29', 'NCX30', 'NCX41', 'NCX42', 'NCX53', 'NCX54', 'NCY05', 'NCY06', 'NCY17', 'NCY18', 'NCY29', 'NCY30', 'NCY41', 'NCY42', 'NCY53', 'NCY54', 'NCZ05', 'NCZ06', 'NCZ17', 'NCZ18', 'NCZ29', 'NCZ30', 'NCZ41', 'NCZ42', 'NCZ53', 'NCZ54'],\n",
              " 'Item_Type': ['#na#', 'Baking Goods', 'Breads', 'Breakfast', 'Canned', 'Dairy', 'Frozen Foods', 'Fruits and Vegetables', 'Hard Drinks', 'Health and Hygiene', 'Household', 'Meat', 'Others', 'Seafood', 'Snack Foods', 'Soft Drinks', 'Starchy Foods'],\n",
              " 'Item_Weight_na': ['#na#', False, True],\n",
              " 'Outlet_Establishment_Year': ['#na#', 1985, 1987, 1997, 1998, 1999, 2002, 2004, 2007, 2009],\n",
              " 'Outlet_Identifier': ['#na#', 'OUT010', 'OUT013', 'OUT017', 'OUT018', 'OUT019', 'OUT027', 'OUT035', 'OUT045', 'OUT046', 'OUT049'],\n",
              " 'Outlet_Location_Type': ['#na#', 'Tier 1', 'Tier 2', 'Tier 3'],\n",
              " 'Outlet_Size': ['#na#', 'High', 'Medium', 'Small'],\n",
              " 'Outlet_Type': ['#na#', 'Grocery Store', 'Supermarket Type1', 'Supermarket Type2', 'Supermarket Type3']}"
            ]
          },
          "metadata": {
            "tags": []
          },
          "execution_count": 218
        }
      ]
    },
    {
      "cell_type": "code",
      "metadata": {
        "id": "pVVvHuVDL7cP"
      },
      "source": [
        "train_x, train_y=to.train.xs,to.train.y\n",
        "valid_x,valid_y=to.valid.xs,to.valid.y"
      ],
      "execution_count": null,
      "outputs": []
    },
    {
      "cell_type": "code",
      "metadata": {
        "id": "mVXKlmgCPwU9"
      },
      "source": [
        "m_rf = rf(train_x, train_y);"
      ],
      "execution_count": null,
      "outputs": []
    },
    {
      "cell_type": "code",
      "metadata": {
        "colab": {
          "base_uri": "https://localhost:8080/",
          "height": 440
        },
        "id": "SnO3y89IPwU9",
        "outputId": "900141d8-6195-425d-add8-f644e956664c"
      },
      "source": [
        "modelfit(m_rf, train_x,train_y)"
      ],
      "execution_count": null,
      "outputs": [
        {
          "output_type": "stream",
          "text": [
            "/nModel Report\n",
            "RMSE : 1079\n"
          ],
          "name": "stdout"
        },
        {
          "output_type": "display_data",
          "data": {
            "image/png": "[encoded data removed]",
            "text/plain": [
              "<Figure size 864x288 with 1 Axes>"
            ]
          },
          "metadata": {
            "tags": [],
            "needs_background": "light"
          }
        }
      ]
    },
    {
      "cell_type": "code",
      "metadata": {
        "colab": {
          "base_uri": "https://localhost:8080/"
        },
        "id": "n__i5KE8PwU-",
        "outputId": "d2a13186-60df-4515-e98e-b41e5a33d8d7"
      },
      "source": [
        "result_reg(m_rf,valid_x,valid_y)"
      ],
      "execution_count": null,
      "outputs": [
        {
          "output_type": "stream",
          "text": [
            "RMSE : 1129\n"
          ],
          "name": "stdout"
        }
      ]
    },
    {
      "cell_type": "markdown",
      "metadata": {
        "id": "7OhXQ-6eNXHp"
      },
      "source": [
        "Se produce una mejora \n",
        "- RMSE_train=1089\n",
        "- RSME_valid=1137"
      ]
    },
    {
      "cell_type": "markdown",
      "metadata": {
        "id": "AtTMK9f9Ng_Q"
      },
      "source": [
        "### Vamos a revisar Item Weight"
      ]
    },
    {
      "cell_type": "code",
      "metadata": {
        "colab": {
          "base_uri": "https://localhost:8080/",
          "height": 414
        },
        "id": "XxNpC_lUNx2k",
        "outputId": "9dd48d48-b14b-4b70-cca3-c2ae39a0677b"
      },
      "source": [
        "df.loc[:,['Item_Identifier','Item_Weight','Item_MRP','Item_Type']]"
      ],
      "execution_count": null,
      "outputs": [
        {
          "output_type": "execute_result",
          "data": {
            "text/html": [
              "<div>\n",
              "<style scoped>\n",
              "    .dataframe tbody tr th:only-of-type {\n",
              "        vertical-align: middle;\n",
              "    }\n",
              "\n",
              "    .dataframe tbody tr th {\n",
              "        vertical-align: top;\n",
              "    }\n",
              "\n",
              "    .dataframe thead th {\n",
              "        text-align: right;\n",
              "    }\n",
              "</style>\n",
              "<table border=\"1\" class=\"dataframe\">\n",
              "  <thead>\n",
              "    <tr style=\"text-align: right;\">\n",
              "      <th></th>\n",
              "      <th>Item_Identifier</th>\n",
              "      <th>Item_Weight</th>\n",
              "      <th>Item_MRP</th>\n",
              "      <th>Item_Type</th>\n",
              "    </tr>\n",
              "  </thead>\n",
              "  <tbody>\n",
              "    <tr>\n",
              "      <th>0</th>\n",
              "      <td>FDA15</td>\n",
              "      <td>9.300</td>\n",
              "      <td>249.8092</td>\n",
              "      <td>Dairy</td>\n",
              "    </tr>\n",
              "    <tr>\n",
              "      <th>1</th>\n",
              "      <td>DRC01</td>\n",
              "      <td>5.920</td>\n",
              "      <td>48.2692</td>\n",
              "      <td>Soft Drinks</td>\n",
              "    </tr>\n",
              "    <tr>\n",
              "      <th>2</th>\n",
              "      <td>FDN15</td>\n",
              "      <td>17.500</td>\n",
              "      <td>141.6180</td>\n",
              "      <td>Meat</td>\n",
              "    </tr>\n",
              "    <tr>\n",
              "      <th>3</th>\n",
              "      <td>FDX07</td>\n",
              "      <td>19.200</td>\n",
              "      <td>182.0950</td>\n",
              "      <td>Fruits and Vegetables</td>\n",
              "    </tr>\n",
              "    <tr>\n",
              "      <th>4</th>\n",
              "      <td>NCD19</td>\n",
              "      <td>8.930</td>\n",
              "      <td>53.8614</td>\n",
              "      <td>Household</td>\n",
              "    </tr>\n",
              "    <tr>\n",
              "      <th>...</th>\n",
              "      <td>...</td>\n",
              "      <td>...</td>\n",
              "      <td>...</td>\n",
              "      <td>...</td>\n",
              "    </tr>\n",
              "    <tr>\n",
              "      <th>8518</th>\n",
              "      <td>FDF22</td>\n",
              "      <td>6.865</td>\n",
              "      <td>214.5218</td>\n",
              "      <td>Snack Foods</td>\n",
              "    </tr>\n",
              "    <tr>\n",
              "      <th>8519</th>\n",
              "      <td>FDS36</td>\n",
              "      <td>8.380</td>\n",
              "      <td>108.1570</td>\n",
              "      <td>Baking Goods</td>\n",
              "    </tr>\n",
              "    <tr>\n",
              "      <th>8520</th>\n",
              "      <td>NCJ29</td>\n",
              "      <td>10.600</td>\n",
              "      <td>85.1224</td>\n",
              "      <td>Health and Hygiene</td>\n",
              "    </tr>\n",
              "    <tr>\n",
              "      <th>8521</th>\n",
              "      <td>FDN46</td>\n",
              "      <td>7.210</td>\n",
              "      <td>103.1332</td>\n",
              "      <td>Snack Foods</td>\n",
              "    </tr>\n",
              "    <tr>\n",
              "      <th>8522</th>\n",
              "      <td>DRG01</td>\n",
              "      <td>14.800</td>\n",
              "      <td>75.4670</td>\n",
              "      <td>Soft Drinks</td>\n",
              "    </tr>\n",
              "  </tbody>\n",
              "</table>\n",
              "<p>8523 rows × 4 columns</p>\n",
              "</div>"
            ],
            "text/plain": [
              "     Item_Identifier  Item_Weight  Item_MRP              Item_Type\n",
              "0              FDA15        9.300  249.8092                  Dairy\n",
              "1              DRC01        5.920   48.2692            Soft Drinks\n",
              "2              FDN15       17.500  141.6180                   Meat\n",
              "3              FDX07       19.200  182.0950  Fruits and Vegetables\n",
              "4              NCD19        8.930   53.8614              Household\n",
              "...              ...          ...       ...                    ...\n",
              "8518           FDF22        6.865  214.5218            Snack Foods\n",
              "8519           FDS36        8.380  108.1570           Baking Goods\n",
              "8520           NCJ29       10.600   85.1224     Health and Hygiene\n",
              "8521           FDN46        7.210  103.1332            Snack Foods\n",
              "8522           DRG01       14.800   75.4670            Soft Drinks\n",
              "\n",
              "[8523 rows x 4 columns]"
            ]
          },
          "metadata": {
            "tags": []
          },
          "execution_count": 223
        }
      ]
    },
    {
      "cell_type": "code",
      "metadata": {
        "colab": {
          "base_uri": "https://localhost:8080/",
          "height": 405
        },
        "id": "xuTkYU9WPGq1",
        "outputId": "8200072d-75be-4f37-97af-a7e27286c7a0"
      },
      "source": [
        "df.hist()"
      ],
      "execution_count": null,
      "outputs": [
        {
          "output_type": "execute_result",
          "data": {
            "text/plain": [
              "array([[<matplotlib.axes._subplots.AxesSubplot object at 0x7f05bd8a3f90>,\n",
              "        <matplotlib.axes._subplots.AxesSubplot object at 0x7f05e20c8610>],\n",
              "       [<matplotlib.axes._subplots.AxesSubplot object at 0x7f05c13fd150>,\n",
              "        <matplotlib.axes._subplots.AxesSubplot object at 0x7f05e1f757d0>],\n",
              "       [<matplotlib.axes._subplots.AxesSubplot object at 0x7f05c13c0110>,\n",
              "        <matplotlib.axes._subplots.AxesSubplot object at 0x7f05c1375690>]],\n",
              "      dtype=object)"
            ]
          },
          "metadata": {
            "tags": []
          },
          "execution_count": 224
        },
        {
          "output_type": "display_data",
          "data": {
            "image/png": "[encoded data removed]",
            "text/plain": [
              "<Figure size 864x288 with 6 Axes>"
            ]
          },
          "metadata": {
            "tags": [],
            "needs_background": "light"
          }
        }
      ]
    },
    {
      "cell_type": "markdown",
      "metadata": {
        "id": "X6_flj3bTYOd"
      },
      "source": [
        "## Vamos a comprobar las clases Categorical"
      ]
    },
    {
      "cell_type": "markdown",
      "metadata": {
        "id": "b1Snq7U_QtUq"
      },
      "source": [
        "No hay mucha mejora. Vamos a eliminar el campo"
      ]
    },
    {
      "cell_type": "code",
      "metadata": {
        "colab": {
          "base_uri": "https://localhost:8080/"
        },
        "id": "dJjh-x05Q-I1",
        "outputId": "0b7ea1ee-6701-49d9-a507-247b46731db9"
      },
      "source": [
        "to.classes"
      ],
      "execution_count": null,
      "outputs": [
        {
          "output_type": "execute_result",
          "data": {
            "text/plain": [
              "{'Item_Fat_Content': ['#na#', 'LF', 'Low Fat', 'Regular', 'low fat', 'reg'],\n",
              " 'Item_Identifier': ['#na#', 'DRA12', 'DRA24', 'DRA59', 'DRB01', 'DRB13', 'DRB24', 'DRB25', 'DRB48', 'DRC01', 'DRC12', 'DRC13', 'DRC24', 'DRC25', 'DRC27', 'DRC36', 'DRC49', 'DRD01', 'DRD12', 'DRD13', 'DRD15', 'DRD24', 'DRD25', 'DRD27', 'DRD37', 'DRD49', 'DRD60', 'DRE01', 'DRE03', 'DRE12', 'DRE13', 'DRE15', 'DRE25', 'DRE27', 'DRE37', 'DRE48', 'DRE49', 'DRE60', 'DRF01', 'DRF03', 'DRF13', 'DRF15', 'DRF23', 'DRF25', 'DRF27', 'DRF36', 'DRF37', 'DRF48', 'DRF49', 'DRF51', 'DRF60', 'DRG01', 'DRG03', 'DRG11', 'DRG13', 'DRG15', 'DRG23', 'DRG25', 'DRG27', 'DRG36', 'DRG37', 'DRG39', 'DRG48', 'DRG49', 'DRG51', 'DRH01', 'DRH03', 'DRH11', 'DRH13', 'DRH15', 'DRH23', 'DRH25', 'DRH36', 'DRH37', 'DRH39', 'DRH49', 'DRH51', 'DRH59', 'DRI01', 'DRI03', 'DRI11', 'DRI13', 'DRI23', 'DRI25', 'DRI37', 'DRI39', 'DRI47', 'DRI49', 'DRI51', 'DRI59', 'DRJ01', 'DRJ11', 'DRJ13', 'DRJ23', 'DRJ24', 'DRJ25', 'DRJ35', 'DRJ37', 'DRJ39', 'DRJ47', 'DRJ49', 'DRJ51', 'DRJ59', 'DRK01', 'DRK11', 'DRK12', 'DRK13', 'DRK23', 'DRK35', 'DRK37', 'DRK39', 'DRK47', 'DRK49', 'DRK59', 'DRL01', 'DRL11', 'DRL23', 'DRL35', 'DRL37', 'DRL47', 'DRL49', 'DRL59', 'DRL60', 'DRM11', 'DRM23', 'DRM35', 'DRM37', 'DRM47', 'DRM48', 'DRM49', 'DRM59', 'DRN11', 'DRN35', 'DRN36', 'DRN37', 'DRN47', 'DRN59', 'DRO35', 'DRO47', 'DRO59', 'DRP35', 'DRP47', 'DRQ35', 'DRY23', 'DRZ11', 'DRZ24', 'FDA01', 'FDA02', 'FDA03', 'FDA04', 'FDA07', 'FDA08', 'FDA09', 'FDA10', 'FDA11', 'FDA13', 'FDA14', 'FDA15', 'FDA16', 'FDA19', 'FDA20', 'FDA21', 'FDA22', 'FDA23', 'FDA25', 'FDA26', 'FDA27', 'FDA28', 'FDA31', 'FDA32', 'FDA33', 'FDA34', 'FDA35', 'FDA36', 'FDA37', 'FDA38', 'FDA39', 'FDA40', 'FDA43', 'FDA44', 'FDA45', 'FDA46', 'FDA47', 'FDA48', 'FDA49', 'FDA50', 'FDA51', 'FDA52', 'FDA55', 'FDA56', 'FDA57', 'FDA58', 'FDB02', 'FDB03', 'FDB04', 'FDB05', 'FDB08', 'FDB09', 'FDB10', 'FDB11', 'FDB12', 'FDB14', 'FDB15', 'FDB16', 'FDB17', 'FDB20', 'FDB21', 'FDB22', 'FDB23', 'FDB26', 'FDB27', 'FDB28', 'FDB29', 'FDB32', 'FDB33', 'FDB34', 'FDB35', 'FDB36', 'FDB37', 'FDB38', 'FDB39', 'FDB40', 'FDB41', 'FDB44', 'FDB45', 'FDB46', 'FDB47', 'FDB49', 'FDB50', 'FDB51', 'FDB52', 'FDB53', 'FDB56', 'FDB57', 'FDB58', 'FDB59', 'FDB60', 'FDC02', 'FDC03', 'FDC04', 'FDC05', 'FDC08', 'FDC09', 'FDC10', 'FDC11', 'FDC14', 'FDC15', 'FDC16', 'FDC17', 'FDC20', 'FDC21', 'FDC22', 'FDC23', 'FDC26', 'FDC28', 'FDC29', 'FDC32', 'FDC33', 'FDC34', 'FDC35', 'FDC37', 'FDC38', 'FDC39', 'FDC40', 'FDC41', 'FDC44', 'FDC45', 'FDC46', 'FDC47', 'FDC48', 'FDC50', 'FDC51', 'FDC52', 'FDC53', 'FDC56', 'FDC57', 'FDC58', 'FDC59', 'FDC60', 'FDD02', 'FDD03', 'FDD04', 'FDD05', 'FDD08', 'FDD09', 'FDD10', 'FDD11', 'FDD14', 'FDD16', 'FDD17', 'FDD20', 'FDD21', 'FDD22', 'FDD23', 'FDD26', 'FDD28', 'FDD29', 'FDD32', 'FDD33', 'FDD34', 'FDD35', 'FDD36', 'FDD38', 'FDD39', 'FDD40', 'FDD41', 'FDD44', 'FDD45', 'FDD46', 'FDD47', 'FDD48', 'FDD50', 'FDD51', 'FDD52', 'FDD53', 'FDD56', 'FDD57', 'FDD58', 'FDD59', 'FDE02', 'FDE04', 'FDE05', 'FDE08', 'FDE09', 'FDE10', 'FDE11', 'FDE14', 'FDE16', 'FDE17', 'FDE20', 'FDE21', 'FDE22', 'FDE23', 'FDE24', 'FDE26', 'FDE28', 'FDE29', 'FDE32', 'FDE33', 'FDE34', 'FDE35', 'FDE36', 'FDE38', 'FDE39', 'FDE40', 'FDE41', 'FDE44', 'FDE45', 'FDE46', 'FDE47', 'FDE50', 'FDE51', 'FDE52', 'FDE53', 'FDE56', 'FDE57', 'FDE58', 'FDE59', 'FDF02', 'FDF04', 'FDF05', 'FDF08', 'FDF09', 'FDF10', 'FDF11', 'FDF12', 'FDF14', 'FDF16', 'FDF17', 'FDF20', 'FDF21', 'FDF22', 'FDF24', 'FDF26', 'FDF28', 'FDF29', 'FDF32', 'FDF33', 'FDF34', 'FDF35', 'FDF38', 'FDF39', 'FDF40', 'FDF41', 'FDF44', 'FDF45', 'FDF46', 'FDF47', 'FDF50', 'FDF52', 'FDF53', 'FDF56', 'FDF57', 'FDF58', 'FDF59', 'FDG02', 'FDG04', 'FDG05', 'FDG08', 'FDG09', 'FDG10', 'FDG12', 'FDG14', 'FDG16', 'FDG17', 'FDG20', 'FDG21', 'FDG22', 'FDG24', 'FDG26', 'FDG28', 'FDG29', 'FDG31', 'FDG32', 'FDG33', 'FDG34', 'FDG35', 'FDG38', 'FDG40', 'FDG41', 'FDG44', 'FDG45', 'FDG46', 'FDG47', 'FDG50', 'FDG52', 'FDG53', 'FDG56', 'FDG57', 'FDG58', 'FDG59', 'FDG60', 'FDH02', 'FDH04', 'FDH05', 'FDH08', 'FDH09', 'FDH10', 'FDH12', 'FDH14', 'FDH16', 'FDH17', 'FDH19', 'FDH20', 'FDH21', 'FDH22', 'FDH24', 'FDH26', 'FDH27', 'FDH28', 'FDH31', 'FDH32', 'FDH33', 'FDH34', 'FDH35', 'FDH38', 'FDH40', 'FDH41', 'FDH44', 'FDH45', 'FDH46', 'FDH47', 'FDH48', 'FDH50', 'FDH52', 'FDH53', 'FDH56', 'FDH57', 'FDH58', 'FDH60', 'FDI02', 'FDI04', 'FDI05', 'FDI07', 'FDI08', 'FDI09', 'FDI10', 'FDI12', 'FDI14', 'FDI15', 'FDI16', 'FDI19', 'FDI20', 'FDI21', 'FDI22', 'FDI24', 'FDI26', 'FDI27', 'FDI28', 'FDI32', 'FDI33', 'FDI34', 'FDI35', 'FDI36', 'FDI38', 'FDI40', 'FDI41', 'FDI44', 'FDI45', 'FDI46', 'FDI48', 'FDI50', 'FDI52', 'FDI53', 'FDI56', 'FDI57', 'FDI58', 'FDI60', 'FDJ02', 'FDJ03', 'FDJ04', 'FDJ07', 'FDJ08', 'FDJ09', 'FDJ10', 'FDJ12', 'FDJ14', 'FDJ15', 'FDJ16', 'FDJ20', 'FDJ21', 'FDJ22', 'FDJ26', 'FDJ27', 'FDJ28', 'FDJ32', 'FDJ33', 'FDJ34', 'FDJ36', 'FDJ38', 'FDJ40', 'FDJ41', 'FDJ44', 'FDJ45', 'FDJ46', 'FDJ48', 'FDJ50', 'FDJ52', 'FDJ53', 'FDJ55', 'FDJ56', 'FDJ57', 'FDJ58', 'FDJ60', 'FDK02', 'FDK03', 'FDK04', 'FDK08', 'FDK09', 'FDK10', 'FDK14', 'FDK15', 'FDK16', 'FDK20', 'FDK21', 'FDK22', 'FDK24', 'FDK25', 'FDK26', 'FDK27', 'FDK28', 'FDK32', 'FDK33', 'FDK34', 'FDK36', 'FDK38', 'FDK40', 'FDK41', 'FDK43', 'FDK44', 'FDK45', 'FDK46', 'FDK48', 'FDK50', 'FDK51', 'FDK52', 'FDK55', 'FDK56', 'FDK57', 'FDK58', 'FDK60', 'FDL02', 'FDL03', 'FDL04', 'FDL08', 'FDL09', 'FDL10', 'FDL12', 'FDL13', 'FDL14', 'FDL15', 'FDL16', 'FDL20', 'FDL21', 'FDL22', 'FDL24', 'FDL25', 'FDL26', 'FDL27', 'FDL28', 'FDL32', 'FDL33', 'FDL34', 'FDL36', 'FDL38', 'FDL39', 'FDL40', 'FDL43', 'FDL44', 'FDL45', 'FDL46', 'FDL48', 'FDL50', 'FDL51', 'FDL52', 'FDL56', 'FDL57', 'FDL58', 'FDM01', 'FDM02', 'FDM03', 'FDM04', 'FDM08', 'FDM09', 'FDM10', 'FDM12', 'FDM13', 'FDM14', 'FDM15', 'FDM16', 'FDM20', 'FDM21', 'FDM22', 'FDM24', 'FDM25', 'FDM27', 'FDM28', 'FDM32', 'FDM33', 'FDM34', 'FDM36', 'FDM38', 'FDM39', 'FDM40', 'FDM44', 'FDM45', 'FDM46', 'FDM50', 'FDM51', 'FDM52', 'FDM56', 'FDM57', 'FDM58', 'FDM60', 'FDN01', 'FDN02', 'FDN03', 'FDN04', 'FDN08', 'FDN09', 'FDN10', 'FDN12', 'FDN13', 'FDN15', 'FDN16', 'FDN20', 'FDN21', 'FDN22', 'FDN23', 'FDN24', 'FDN25', 'FDN27', 'FDN28', 'FDN31', 'FDN32', 'FDN33', 'FDN34', 'FDN38', 'FDN39', 'FDN40', 'FDN44', 'FDN45', 'FDN46', 'FDN48', 'FDN49', 'FDN50', 'FDN51', 'FDN52', 'FDN56', 'FDN57', 'FDN58', 'FDN60', 'FDO01', 'FDO03', 'FDO04', 'FDO08', 'FDO09', 'FDO10', 'FDO11', 'FDO12', 'FDO13', 'FDO15', 'FDO16', 'FDO19', 'FDO20', 'FDO21', 'FDO22', 'FDO23', 'FDO24', 'FDO25', 'FDO27', 'FDO28', 'FDO31', 'FDO32', 'FDO33', 'FDO34', 'FDO36', 'FDO37', 'FDO38', 'FDO39', 'FDO40', 'FDO44', 'FDO45', 'FDO46', 'FDO48', 'FDO49', 'FDO50', 'FDO51', 'FDO52', 'FDO56', 'FDO57', 'FDO58', 'FDO60', 'FDP01', 'FDP03', 'FDP04', 'FDP07', 'FDP08', 'FDP09', 'FDP10', 'FDP11', 'FDP12', 'FDP13', 'FDP15', 'FDP16', 'FDP19', 'FDP20', 'FDP21', 'FDP22', 'FDP23', 'FDP24', 'FDP25', 'FDP26', 'FDP27', 'FDP28', 'FDP31', 'FDP32', 'FDP33', 'FDP34', 'FDP36', 'FDP37', 'FDP38', 'FDP39', 'FDP40', 'FDP44', 'FDP45', 'FDP46', 'FDP48', 'FDP49', 'FDP51', 'FDP52', 'FDP56', 'FDP57', 'FDP58', 'FDP59', 'FDP60', 'FDQ01', 'FDQ03', 'FDQ04', 'FDQ07', 'FDQ08', 'FDQ09', 'FDQ10', 'FDQ11', 'FDQ12', 'FDQ13', 'FDQ14', 'FDQ15', 'FDQ16', 'FDQ19', 'FDQ20', 'FDQ21', 'FDQ22', 'FDQ23', 'FDQ24', 'FDQ25', 'FDQ26', 'FDQ27', 'FDQ28', 'FDQ31', 'FDQ32', 'FDQ33', 'FDQ34', 'FDQ36', 'FDQ37', 'FDQ39', 'FDQ40', 'FDQ44', 'FDQ45', 'FDQ46', 'FDQ47', 'FDQ48', 'FDQ49', 'FDQ51', 'FDQ52', 'FDQ55', 'FDQ56', 'FDQ57', 'FDQ58', 'FDQ59', 'FDQ60', 'FDR01', 'FDR02', 'FDR03', 'FDR04', 'FDR07', 'FDR08', 'FDR09', 'FDR10', 'FDR11', 'FDR12', 'FDR13', 'FDR14', 'FDR15', 'FDR16', 'FDR19', 'FDR20', 'FDR21', 'FDR22', 'FDR23', 'FDR24', 'FDR25', 'FDR26', 'FDR27', 'FDR28', 'FDR31', 'FDR32', 'FDR33', 'FDR34', 'FDR35', 'FDR36', 'FDR37', 'FDR39', 'FDR40', 'FDR43', 'FDR44', 'FDR45', 'FDR46', 'FDR47', 'FDR48', 'FDR49', 'FDR51', 'FDR52', 'FDR55', 'FDR56', 'FDR57', 'FDR58', 'FDR59', 'FDR60', 'FDS01', 'FDS02', 'FDS03', 'FDS04', 'FDS07', 'FDS08', 'FDS09', 'FDS10', 'FDS11', 'FDS12', 'FDS13', 'FDS14', 'FDS15', 'FDS16', 'FDS19', 'FDS20', 'FDS21', 'FDS22', 'FDS23', 'FDS24', 'FDS25', 'FDS26', 'FDS27', 'FDS28', 'FDS31', 'FDS32', 'FDS33', 'FDS34', 'FDS35', 'FDS36', 'FDS37', 'FDS39', 'FDS40', 'FDS43', 'FDS44', 'FDS45', 'FDS46', 'FDS47', 'FDS48', 'FDS49', 'FDS50', 'FDS51', 'FDS52', 'FDS55', 'FDS56', 'FDS57', 'FDS58', 'FDS59', 'FDS60', 'FDT01', 'FDT02', 'FDT03', 'FDT04', 'FDT07', 'FDT08', 'FDT09', 'FDT10', 'FDT11', 'FDT12', 'FDT13', 'FDT14', 'FDT15', 'FDT16', 'FDT19', 'FDT20', 'FDT21', 'FDT22', 'FDT23', 'FDT24', 'FDT25', 'FDT26', 'FDT27', 'FDT28', 'FDT31', 'FDT32', 'FDT33', 'FDT34', 'FDT35', 'FDT36', 'FDT37', 'FDT38', 'FDT39', 'FDT40', 'FDT43', 'FDT44', 'FDT45', 'FDT46', 'FDT47', 'FDT48', 'FDT49', 'FDT50', 'FDT51', 'FDT52', 'FDT55', 'FDT56', 'FDT57', 'FDT58', 'FDT59', 'FDT60', 'FDU01', 'FDU02', 'FDU03', 'FDU04', 'FDU07', 'FDU08', 'FDU09', 'FDU10', 'FDU11', 'FDU12', 'FDU13', 'FDU14', 'FDU15', 'FDU16', 'FDU19', 'FDU20', 'FDU21', 'FDU22', 'FDU23', 'FDU24', 'FDU25', 'FDU26', 'FDU27', 'FDU28', 'FDU31', 'FDU32', 'FDU33', 'FDU34', 'FDU35', 'FDU36', 'FDU37', 'FDU38', 'FDU39', 'FDU40', 'FDU43', 'FDU44', 'FDU45', 'FDU46', 'FDU47', 'FDU48', 'FDU49', 'FDU50', 'FDU51', 'FDU52', 'FDU55', 'FDU56', 'FDU57', 'FDU58', 'FDU59', 'FDU60', 'FDV01', 'FDV02', 'FDV03', 'FDV04', 'FDV07', 'FDV08', 'FDV09', 'FDV10', 'FDV11', 'FDV12', 'FDV13', 'FDV14', 'FDV15', 'FDV16', 'FDV19', 'FDV20', 'FDV21', 'FDV22', 'FDV23', 'FDV24', 'FDV25', 'FDV26', 'FDV27', 'FDV28', 'FDV31', 'FDV32', 'FDV33', 'FDV34', 'FDV35', 'FDV36', 'FDV37', 'FDV38', 'FDV39', 'FDV40', 'FDV43', 'FDV44', 'FDV45', 'FDV46', 'FDV47', 'FDV48', 'FDV49', 'FDV50', 'FDV51', 'FDV52', 'FDV55', 'FDV56', 'FDV57', 'FDV58', 'FDV59', 'FDV60', 'FDW01', 'FDW02', 'FDW03', 'FDW04', 'FDW07', 'FDW08', 'FDW09', 'FDW10', 'FDW11', 'FDW12', 'FDW13', 'FDW14', 'FDW15', 'FDW16', 'FDW19', 'FDW20', 'FDW21', 'FDW22', 'FDW23', 'FDW24', 'FDW25', 'FDW26', 'FDW27', 'FDW28', 'FDW31', 'FDW32', 'FDW33', 'FDW34', 'FDW35', 'FDW36', 'FDW37', 'FDW38', 'FDW39', 'FDW40', 'FDW43', 'FDW44', 'FDW45', 'FDW46', 'FDW47', 'FDW48', 'FDW49', 'FDW50', 'FDW51', 'FDW52', 'FDW55', 'FDW56', 'FDW57', 'FDW58', 'FDW59', 'FDW60', 'FDX01', 'FDX02', 'FDX03', 'FDX04', 'FDX07', 'FDX08', 'FDX09', 'FDX10', 'FDX11', 'FDX12', 'FDX13', 'FDX14', 'FDX15', 'FDX16', 'FDX19', 'FDX20', 'FDX21', 'FDX22', 'FDX23', 'FDX24', 'FDX25', 'FDX26', 'FDX27', 'FDX28', 'FDX31', 'FDX32', 'FDX33', 'FDX34', 'FDX35', 'FDX36', 'FDX37', 'FDX38', 'FDX39', 'FDX40', 'FDX43', 'FDX44', 'FDX45', 'FDX46', 'FDX47', 'FDX48', 'FDX49', 'FDX50', 'FDX51', 'FDX52', 'FDX55', 'FDX56', 'FDX57', 'FDX58', 'FDX59', 'FDX60', 'FDY01', 'FDY02', 'FDY03', 'FDY04', 'FDY07', 'FDY08', 'FDY09', 'FDY10', 'FDY11', 'FDY12', 'FDY13', 'FDY14', 'FDY15', 'FDY16', 'FDY19', 'FDY20', 'FDY21', 'FDY22', 'FDY24', 'FDY25', 'FDY26', 'FDY27', 'FDY28', 'FDY31', 'FDY32', 'FDY33', 'FDY34', 'FDY35', 'FDY36', 'FDY37', 'FDY38', 'FDY39', 'FDY40', 'FDY43', 'FDY44', 'FDY45', 'FDY46', 'FDY47', 'FDY48', 'FDY49', 'FDY50', 'FDY51', 'FDY52', 'FDY55', 'FDY56', 'FDY57', 'FDY58', 'FDY59', 'FDY60', 'FDZ01', 'FDZ02', 'FDZ03', 'FDZ04', 'FDZ07', 'FDZ08', 'FDZ09', 'FDZ10', 'FDZ12', 'FDZ13', 'FDZ14', 'FDZ15', 'FDZ16', 'FDZ19', 'FDZ20', 'FDZ21', 'FDZ22', 'FDZ23', 'FDZ25', 'FDZ26', 'FDZ27', 'FDZ28', 'FDZ31', 'FDZ32', 'FDZ33', 'FDZ34', 'FDZ35', 'FDZ36', 'FDZ37', 'FDZ38', 'FDZ39', 'FDZ40', 'FDZ43', 'FDZ44', 'FDZ45', 'FDZ46', 'FDZ47', 'FDZ48', 'FDZ49', 'FDZ50', 'FDZ51', 'FDZ52', 'FDZ55', 'FDZ56', 'FDZ57', 'FDZ58', 'FDZ59', 'FDZ60', 'NCA05', 'NCA06', 'NCA17', 'NCA18', 'NCA29', 'NCA30', 'NCA41', 'NCA42', 'NCA53', 'NCA54', 'NCB06', 'NCB07', 'NCB18', 'NCB19', 'NCB30', 'NCB31', 'NCB42', 'NCB43', 'NCB54', 'NCB55', 'NCC06', 'NCC07', 'NCC18', 'NCC19', 'NCC30', 'NCC31', 'NCC42', 'NCC43', 'NCC54', 'NCC55', 'NCD06', 'NCD07', 'NCD18', 'NCD19', 'NCD30', 'NCD31', 'NCD42', 'NCD43', 'NCD54', 'NCD55', 'NCE06', 'NCE07', 'NCE18', 'NCE19', 'NCE30', 'NCE31', 'NCE42', 'NCE43', 'NCE54', 'NCE55', 'NCF06', 'NCF07', 'NCF18', 'NCF19', 'NCF30', 'NCF31', 'NCF42', 'NCF43', 'NCF54', 'NCF55', 'NCG06', 'NCG07', 'NCG18', 'NCG19', 'NCG30', 'NCG42', 'NCG43', 'NCG54', 'NCG55', 'NCH06', 'NCH07', 'NCH18', 'NCH29', 'NCH30', 'NCH42', 'NCH43', 'NCH54', 'NCH55', 'NCI06', 'NCI17', 'NCI18', 'NCI29', 'NCI30', 'NCI31', 'NCI42', 'NCI43', 'NCI54', 'NCI55', 'NCJ05', 'NCJ06', 'NCJ17', 'NCJ18', 'NCJ19', 'NCJ29', 'NCJ30', 'NCJ31', 'NCJ42', 'NCJ43', 'NCJ54', 'NCK05', 'NCK06', 'NCK07', 'NCK17', 'NCK18', 'NCK19', 'NCK29', 'NCK30', 'NCK31', 'NCK42', 'NCK53', 'NCK54', 'NCL05', 'NCL06', 'NCL07', 'NCL17', 'NCL18', 'NCL19', 'NCL29', 'NCL30', 'NCL31', 'NCL41', 'NCL42', 'NCL53', 'NCL54', 'NCL55', 'NCM05', 'NCM06', 'NCM07', 'NCM17', 'NCM18', 'NCM19', 'NCM26', 'NCM29', 'NCM30', 'NCM31', 'NCM41', 'NCM42', 'NCM43', 'NCM53', 'NCM54', 'NCM55', 'NCN05', 'NCN06', 'NCN07', 'NCN14', 'NCN17', 'NCN18', 'NCN19', 'NCN26', 'NCN29', 'NCN30', 'NCN41', 'NCN42', 'NCN43', 'NCN53', 'NCN54', 'NCN55', 'NCO02', 'NCO05', 'NCO06', 'NCO07', 'NCO14', 'NCO17', 'NCO18', 'NCO26', 'NCO29', 'NCO30', 'NCO41', 'NCO42', 'NCO43', 'NCO53', 'NCO54', 'NCO55', 'NCP02', 'NCP05', 'NCP06', 'NCP14', 'NCP17', 'NCP18', 'NCP29', 'NCP30', 'NCP41', 'NCP42', 'NCP43', 'NCP50', 'NCP53', 'NCP54', 'NCP55', 'NCQ02', 'NCQ05', 'NCQ06', 'NCQ17', 'NCQ18', 'NCQ29', 'NCQ30', 'NCQ38', 'NCQ41', 'NCQ42', 'NCQ43', 'NCQ50', 'NCQ53', 'NCQ54', 'NCR05', 'NCR06', 'NCR17', 'NCR18', 'NCR29', 'NCR30', 'NCR38', 'NCR41', 'NCR42', 'NCR50', 'NCR53', 'NCR54', 'NCS05', 'NCS06', 'NCS17', 'NCS18', 'NCS29', 'NCS30', 'NCS38', 'NCS41', 'NCS42', 'NCS53', 'NCS54', 'NCT05', 'NCT06', 'NCT17', 'NCT18', 'NCT29', 'NCT30', 'NCT41', 'NCT42', 'NCT53', 'NCT54', 'NCU05', 'NCU06', 'NCU17', 'NCU18', 'NCU29', 'NCU30', 'NCU41', 'NCU42', 'NCU53', 'NCU54', 'NCV05', 'NCV06', 'NCV17', 'NCV18', 'NCV29', 'NCV30', 'NCV41', 'NCV42', 'NCV53', 'NCV54', 'NCW05', 'NCW06', 'NCW17', 'NCW18', 'NCW29', 'NCW30', 'NCW41', 'NCW42', 'NCW53', 'NCW54', 'NCX05', 'NCX06', 'NCX17', 'NCX18', 'NCX29', 'NCX30', 'NCX41', 'NCX42', 'NCX53', 'NCX54', 'NCY05', 'NCY06', 'NCY17', 'NCY18', 'NCY29', 'NCY30', 'NCY41', 'NCY42', 'NCY53', 'NCY54', 'NCZ05', 'NCZ06', 'NCZ17', 'NCZ18', 'NCZ29', 'NCZ30', 'NCZ41', 'NCZ42', 'NCZ53', 'NCZ54'],\n",
              " 'Item_Type': ['#na#', 'Baking Goods', 'Breads', 'Breakfast', 'Canned', 'Dairy', 'Frozen Foods', 'Fruits and Vegetables', 'Hard Drinks', 'Health and Hygiene', 'Household', 'Meat', 'Others', 'Seafood', 'Snack Foods', 'Soft Drinks', 'Starchy Foods'],\n",
              " 'Item_Weight_na': ['#na#', False, True],\n",
              " 'Outlet_Establishment_Year': ['#na#', 1985, 1987, 1997, 1998, 1999, 2002, 2004, 2007, 2009],\n",
              " 'Outlet_Identifier': ['#na#', 'OUT010', 'OUT013', 'OUT017', 'OUT018', 'OUT019', 'OUT027', 'OUT035', 'OUT045', 'OUT046', 'OUT049'],\n",
              " 'Outlet_Location_Type': ['#na#', 'Tier 1', 'Tier 2', 'Tier 3'],\n",
              " 'Outlet_Size': ['#na#', 'High', 'Medium', 'Small'],\n",
              " 'Outlet_Type': ['#na#', 'Grocery Store', 'Supermarket Type1', 'Supermarket Type2', 'Supermarket Type3']}"
            ]
          },
          "metadata": {
            "tags": []
          },
          "execution_count": 225
        }
      ]
    },
    {
      "cell_type": "markdown",
      "metadata": {
        "id": "WckzxgGhUEb8"
      },
      "source": [
        "EL campo Item_Fat_Content tiene valores repetidos. \n",
        "- LF , Low Fat y low fat se convierten en LOW FAT\n",
        "- Regular y reg en REGULAR"
      ]
    },
    {
      "cell_type": "code",
      "metadata": {
        "colab": {
          "base_uri": "https://localhost:8080/"
        },
        "id": "1vWthZ8sUcot",
        "outputId": "2c47a4cb-8fde-4f1d-8ca0-6afc0811b1dc"
      },
      "source": [
        "df_copy['Item_Fat_Content'].value_counts()"
      ],
      "execution_count": null,
      "outputs": [
        {
          "output_type": "execute_result",
          "data": {
            "text/plain": [
              "Low Fat    5089\n",
              "Regular    2889\n",
              "LF          316\n",
              "reg         117\n",
              "low fat     112\n",
              "Name: Item_Fat_Content, dtype: int64"
            ]
          },
          "metadata": {
            "tags": []
          },
          "execution_count": 226
        }
      ]
    },
    {
      "cell_type": "code",
      "metadata": {
        "id": "SXF8_jmuRYGa"
      },
      "source": [
        "df_copy['Item_Fat_Content']=df_copy['Item_Fat_Content'].map(lambda x : 'LOW FAT' if x in ['Low Fat','LF','low fat'] else 'REG')"
      ],
      "execution_count": null,
      "outputs": []
    },
    {
      "cell_type": "code",
      "metadata": {
        "id": "ZH0h7tHAUquE",
        "colab": {
          "base_uri": "https://localhost:8080/",
          "height": 231
        },
        "outputId": "50cbe4c1-718e-4094-c544-1a9b679f89ce"
      },
      "source": [
        "df_copy.head()"
      ],
      "execution_count": null,
      "outputs": [
        {
          "output_type": "execute_result",
          "data": {
            "text/html": [
              "<div>\n",
              "<style scoped>\n",
              "    .dataframe tbody tr th:only-of-type {\n",
              "        vertical-align: middle;\n",
              "    }\n",
              "\n",
              "    .dataframe tbody tr th {\n",
              "        vertical-align: top;\n",
              "    }\n",
              "\n",
              "    .dataframe thead th {\n",
              "        text-align: right;\n",
              "    }\n",
              "</style>\n",
              "<table border=\"1\" class=\"dataframe\">\n",
              "  <thead>\n",
              "    <tr style=\"text-align: right;\">\n",
              "      <th></th>\n",
              "      <th>Item_Identifier</th>\n",
              "      <th>Item_Weight</th>\n",
              "      <th>Item_Fat_Content</th>\n",
              "      <th>Item_Visibility</th>\n",
              "      <th>...</th>\n",
              "      <th>Outlet_Size</th>\n",
              "      <th>Outlet_Location_Type</th>\n",
              "      <th>Outlet_Type</th>\n",
              "      <th>Item_Outlet_Sales</th>\n",
              "    </tr>\n",
              "  </thead>\n",
              "  <tbody>\n",
              "    <tr>\n",
              "      <th>0</th>\n",
              "      <td>FDA15</td>\n",
              "      <td>9.30</td>\n",
              "      <td>LOW FAT</td>\n",
              "      <td>0.016047</td>\n",
              "      <td>...</td>\n",
              "      <td>Medium</td>\n",
              "      <td>Tier 1</td>\n",
              "      <td>Supermarket Type1</td>\n",
              "      <td>3735.1380</td>\n",
              "    </tr>\n",
              "    <tr>\n",
              "      <th>1</th>\n",
              "      <td>DRC01</td>\n",
              "      <td>5.92</td>\n",
              "      <td>REG</td>\n",
              "      <td>0.019278</td>\n",
              "      <td>...</td>\n",
              "      <td>Medium</td>\n",
              "      <td>Tier 3</td>\n",
              "      <td>Supermarket Type2</td>\n",
              "      <td>443.4228</td>\n",
              "    </tr>\n",
              "    <tr>\n",
              "      <th>2</th>\n",
              "      <td>FDN15</td>\n",
              "      <td>17.50</td>\n",
              "      <td>LOW FAT</td>\n",
              "      <td>0.016760</td>\n",
              "      <td>...</td>\n",
              "      <td>Medium</td>\n",
              "      <td>Tier 1</td>\n",
              "      <td>Supermarket Type1</td>\n",
              "      <td>2097.2700</td>\n",
              "    </tr>\n",
              "    <tr>\n",
              "      <th>3</th>\n",
              "      <td>FDX07</td>\n",
              "      <td>19.20</td>\n",
              "      <td>REG</td>\n",
              "      <td>0.000000</td>\n",
              "      <td>...</td>\n",
              "      <td>Small</td>\n",
              "      <td>Tier 3</td>\n",
              "      <td>Grocery Store</td>\n",
              "      <td>732.3800</td>\n",
              "    </tr>\n",
              "    <tr>\n",
              "      <th>4</th>\n",
              "      <td>NCD19</td>\n",
              "      <td>8.93</td>\n",
              "      <td>LOW FAT</td>\n",
              "      <td>0.000000</td>\n",
              "      <td>...</td>\n",
              "      <td>High</td>\n",
              "      <td>Tier 3</td>\n",
              "      <td>Supermarket Type1</td>\n",
              "      <td>994.7052</td>\n",
              "    </tr>\n",
              "  </tbody>\n",
              "</table>\n",
              "<p>5 rows × 12 columns</p>\n",
              "</div>"
            ],
            "text/plain": [
              "  Item_Identifier  Item_Weight Item_Fat_Content  Item_Visibility  ...  \\\n",
              "0           FDA15         9.30          LOW FAT         0.016047  ...   \n",
              "1           DRC01         5.92              REG         0.019278  ...   \n",
              "2           FDN15        17.50          LOW FAT         0.016760  ...   \n",
              "3           FDX07        19.20              REG         0.000000  ...   \n",
              "4           NCD19         8.93          LOW FAT         0.000000  ...   \n",
              "\n",
              "  Outlet_Size  Outlet_Location_Type        Outlet_Type  Item_Outlet_Sales  \n",
              "0      Medium                Tier 1  Supermarket Type1          3735.1380  \n",
              "1      Medium                Tier 3  Supermarket Type2           443.4228  \n",
              "2      Medium                Tier 1  Supermarket Type1          2097.2700  \n",
              "3       Small                Tier 3      Grocery Store           732.3800  \n",
              "4        High                Tier 3  Supermarket Type1           994.7052  \n",
              "\n",
              "[5 rows x 12 columns]"
            ]
          },
          "metadata": {
            "tags": []
          },
          "execution_count": 228
        }
      ]
    },
    {
      "cell_type": "markdown",
      "metadata": {
        "id": "UtjEIwUNU6pn"
      },
      "source": [
        "Vamos a ver Item_Identifier"
      ]
    },
    {
      "cell_type": "code",
      "metadata": {
        "colab": {
          "base_uri": "https://localhost:8080/"
        },
        "id": "LywgzJ2hU92e",
        "outputId": "a3bba663-2dc1-452d-fc1e-53e56c90bcae"
      },
      "source": [
        "df.Item_Identifier.value_counts()"
      ],
      "execution_count": null,
      "outputs": [
        {
          "output_type": "execute_result",
          "data": {
            "text/plain": [
              "FDG33    10\n",
              "FDW13    10\n",
              "FDV60     9\n",
              "NCF42     9\n",
              "FDX04     9\n",
              "         ..\n",
              "FDC23     1\n",
              "FDY43     1\n",
              "FDT35     1\n",
              "FDE52     1\n",
              "DRF48     1\n",
              "Name: Item_Identifier, Length: 1559, dtype: int64"
            ]
          },
          "metadata": {
            "tags": []
          },
          "execution_count": 229
        }
      ]
    },
    {
      "cell_type": "markdown",
      "metadata": {
        "id": "8v_FZ9jtVPR9"
      },
      "source": [
        "Vamos a probar a eliminarlo"
      ]
    },
    {
      "cell_type": "code",
      "metadata": {
        "colab": {
          "base_uri": "https://localhost:8080/",
          "height": 231
        },
        "id": "6WbTqgxyZIKk",
        "outputId": "c660a57f-69c0-4268-8d0b-07444c88d353"
      },
      "source": [
        "df_copy.drop('Item_Identifier',axis=1,inplace=True)\n",
        "df_copy.head()"
      ],
      "execution_count": null,
      "outputs": [
        {
          "output_type": "execute_result",
          "data": {
            "text/html": [
              "<div>\n",
              "<style scoped>\n",
              "    .dataframe tbody tr th:only-of-type {\n",
              "        vertical-align: middle;\n",
              "    }\n",
              "\n",
              "    .dataframe tbody tr th {\n",
              "        vertical-align: top;\n",
              "    }\n",
              "\n",
              "    .dataframe thead th {\n",
              "        text-align: right;\n",
              "    }\n",
              "</style>\n",
              "<table border=\"1\" class=\"dataframe\">\n",
              "  <thead>\n",
              "    <tr style=\"text-align: right;\">\n",
              "      <th></th>\n",
              "      <th>Item_Weight</th>\n",
              "      <th>Item_Fat_Content</th>\n",
              "      <th>Item_Visibility</th>\n",
              "      <th>Item_Type</th>\n",
              "      <th>...</th>\n",
              "      <th>Outlet_Size</th>\n",
              "      <th>Outlet_Location_Type</th>\n",
              "      <th>Outlet_Type</th>\n",
              "      <th>Item_Outlet_Sales</th>\n",
              "    </tr>\n",
              "  </thead>\n",
              "  <tbody>\n",
              "    <tr>\n",
              "      <th>0</th>\n",
              "      <td>9.30</td>\n",
              "      <td>LOW FAT</td>\n",
              "      <td>0.016047</td>\n",
              "      <td>Dairy</td>\n",
              "      <td>...</td>\n",
              "      <td>Medium</td>\n",
              "      <td>Tier 1</td>\n",
              "      <td>Supermarket Type1</td>\n",
              "      <td>3735.1380</td>\n",
              "    </tr>\n",
              "    <tr>\n",
              "      <th>1</th>\n",
              "      <td>5.92</td>\n",
              "      <td>REG</td>\n",
              "      <td>0.019278</td>\n",
              "      <td>Soft Drinks</td>\n",
              "      <td>...</td>\n",
              "      <td>Medium</td>\n",
              "      <td>Tier 3</td>\n",
              "      <td>Supermarket Type2</td>\n",
              "      <td>443.4228</td>\n",
              "    </tr>\n",
              "    <tr>\n",
              "      <th>2</th>\n",
              "      <td>17.50</td>\n",
              "      <td>LOW FAT</td>\n",
              "      <td>0.016760</td>\n",
              "      <td>Meat</td>\n",
              "      <td>...</td>\n",
              "      <td>Medium</td>\n",
              "      <td>Tier 1</td>\n",
              "      <td>Supermarket Type1</td>\n",
              "      <td>2097.2700</td>\n",
              "    </tr>\n",
              "    <tr>\n",
              "      <th>3</th>\n",
              "      <td>19.20</td>\n",
              "      <td>REG</td>\n",
              "      <td>0.000000</td>\n",
              "      <td>Fruits and Vegetables</td>\n",
              "      <td>...</td>\n",
              "      <td>Small</td>\n",
              "      <td>Tier 3</td>\n",
              "      <td>Grocery Store</td>\n",
              "      <td>732.3800</td>\n",
              "    </tr>\n",
              "    <tr>\n",
              "      <th>4</th>\n",
              "      <td>8.93</td>\n",
              "      <td>LOW FAT</td>\n",
              "      <td>0.000000</td>\n",
              "      <td>Household</td>\n",
              "      <td>...</td>\n",
              "      <td>High</td>\n",
              "      <td>Tier 3</td>\n",
              "      <td>Supermarket Type1</td>\n",
              "      <td>994.7052</td>\n",
              "    </tr>\n",
              "  </tbody>\n",
              "</table>\n",
              "<p>5 rows × 11 columns</p>\n",
              "</div>"
            ],
            "text/plain": [
              "   Item_Weight Item_Fat_Content  Item_Visibility              Item_Type  ...  \\\n",
              "0         9.30          LOW FAT         0.016047                  Dairy  ...   \n",
              "1         5.92              REG         0.019278            Soft Drinks  ...   \n",
              "2        17.50          LOW FAT         0.016760                   Meat  ...   \n",
              "3        19.20              REG         0.000000  Fruits and Vegetables  ...   \n",
              "4         8.93          LOW FAT         0.000000              Household  ...   \n",
              "\n",
              "   Outlet_Size Outlet_Location_Type        Outlet_Type Item_Outlet_Sales  \n",
              "0       Medium               Tier 1  Supermarket Type1         3735.1380  \n",
              "1       Medium               Tier 3  Supermarket Type2          443.4228  \n",
              "2       Medium               Tier 1  Supermarket Type1         2097.2700  \n",
              "3        Small               Tier 3      Grocery Store          732.3800  \n",
              "4         High               Tier 3  Supermarket Type1          994.7052  \n",
              "\n",
              "[5 rows x 11 columns]"
            ]
          },
          "metadata": {
            "tags": []
          },
          "execution_count": 176
        }
      ]
    },
    {
      "cell_type": "code",
      "metadata": {
        "id": "mn9DAqQLVQVe"
      },
      "source": [
        "def fastTest(df1):\n",
        "    dep_var='Item_Outlet_Sales'\n",
        "    cont,cat = cont_cat_split(df1,max_card=200,dep_var=dep_var)\n",
        "    splits = RandomSplitter(seed=48)(range_of(df1))\n",
        "\n",
        "    procs=[Categorify,FillMissing]\n",
        "    to=TabularPandas(df1,procs=procs,cat_names=cat,cont_names=cont,y_names=dep_var,splits=splits)\n",
        "\n",
        "    train_x, train_y=to.train.xs,to.train.y\n",
        "    valid_x,valid_y=to.valid.xs,to.valid.y\n",
        "    model=rf(train_x, train_y)\n",
        "    modelfit(rf(train_x, train_y), train_x,train_y)\n",
        "    print('\\n RMSE valid: ') \n",
        "    rmse_valid = result_reg(model,valid_x,valid_y)    \n",
        "    "
      ],
      "execution_count": null,
      "outputs": []
    },
    {
      "cell_type": "code",
      "metadata": {
        "colab": {
          "base_uri": "https://localhost:8080/",
          "height": 493
        },
        "id": "2X0SgPIUWWou",
        "outputId": "e57173f4-3dcb-40fc-ea09-59aed32323e3"
      },
      "source": [
        "fastTest(df_copy)"
      ],
      "execution_count": null,
      "outputs": [
        {
          "output_type": "stream",
          "text": [
            "/nModel Report\n",
            "RMSE : 1082\n",
            "\n",
            " RMSE valid: \n",
            "RMSE : 1129\n"
          ],
          "name": "stdout"
        },
        {
          "output_type": "display_data",
          "data": {
            "image/png": "[encoded data removed]",
            "text/plain": [
              "<Figure size 864x288 with 1 Axes>"
            ]
          },
          "metadata": {
            "tags": [],
            "needs_background": "light"
          }
        }
      ]
    },
    {
      "cell_type": "code",
      "metadata": {
        "id": "t_OnEBEhWWov"
      },
      "source": [
        "df_copy['id_new']=df['Item_Identifier'].str[:3]"
      ],
      "execution_count": null,
      "outputs": []
    },
    {
      "cell_type": "code",
      "metadata": {
        "colab": {
          "base_uri": "https://localhost:8080/",
          "height": 493
        },
        "id": "Y21xh1vLbBXc",
        "outputId": "f4532495-3641-4585-a32d-8bbfee55b2b2"
      },
      "source": [
        "fastTest(df_copy)"
      ],
      "execution_count": null,
      "outputs": [
        {
          "output_type": "stream",
          "text": [
            "/nModel Report\n",
            "RMSE : 1091\n",
            "\n",
            " RMSE valid: \n",
            "RMSE : 1132\n"
          ],
          "name": "stdout"
        },
        {
          "output_type": "display_data",
          "data": {
            "image/png": "[encoded data removed]",
            "text/plain": [
              "<Figure size 864x288 with 1 Axes>"
            ]
          },
          "metadata": {
            "tags": [],
            "needs_background": "light"
          }
        }
      ]
    },
    {
      "cell_type": "code",
      "metadata": {
        "id": "iINWqNFNbfpe"
      },
      "source": [
        "df_copy2 =df.copy()"
      ],
      "execution_count": null,
      "outputs": []
    },
    {
      "cell_type": "code",
      "metadata": {
        "id": "NfHkZBolblgU"
      },
      "source": [
        "df_copy2['IdItem']=df['Item_Identifier'].str[:3]"
      ],
      "execution_count": null,
      "outputs": []
    },
    {
      "cell_type": "code",
      "metadata": {
        "id": "MEZKTQlSbukM"
      },
      "source": [
        "df_copy2['Item_Fat_Content']=df_copy2['Item_Fat_Content'].map(lambda x : 'LOW FAT' if x in ['Low Fat','LF','low fat'] else 'REG')"
      ],
      "execution_count": null,
      "outputs": []
    },
    {
      "cell_type": "code",
      "metadata": {
        "colab": {
          "base_uri": "https://localhost:8080/",
          "height": 493
        },
        "id": "yIjbRkgfb1Ck",
        "outputId": "5f87e4b0-515c-4ed7-a70d-9d69a6fd3d27"
      },
      "source": [
        "fastTest(df_copy2)"
      ],
      "execution_count": null,
      "outputs": [
        {
          "output_type": "stream",
          "text": [
            "/nModel Report\n",
            "RMSE : 1092\n",
            "\n",
            " RMSE valid: \n",
            "RMSE : 1128\n"
          ],
          "name": "stdout"
        },
        {
          "output_type": "display_data",
          "data": {
            "image/png": "[encoded data removed]",
            "text/plain": [
              "<Figure size 864x288 with 1 Axes>"
            ]
          },
          "metadata": {
            "tags": [],
            "needs_background": "light"
          }
        }
      ]
    },
    {
      "cell_type": "code",
      "metadata": {
        "id": "2wc46GF2dwHc"
      },
      "source": [
        "save_pickle(path/'to_mod.pkl',to)"
      ],
      "execution_count": null,
      "outputs": []
    },
    {
      "cell_type": "markdown",
      "metadata": {
        "id": "mJVedeeLfIuc"
      },
      "source": [
        "# Modelo GBoostModel"
      ]
    },
    {
      "cell_type": "code",
      "metadata": {
        "id": "mfb7F6wmfQdb"
      },
      "source": [
        "#to = load_pickle(path/'to_full.pkl')\n",
        "#to = load_pickle(path/'to_opt_nor.pkl')\n",
        "to = load_pickle(path/'to_mod.pkl')"
      ],
      "execution_count": null,
      "outputs": []
    },
    {
      "cell_type": "code",
      "metadata": {
        "id": "iHobMmT5fmTm"
      },
      "source": [
        "train_x, train_y=to.train.xs,to.train.y\n",
        "valid_x,valid_y=to.valid.xs,to.valid.y"
      ],
      "execution_count": null,
      "outputs": []
    },
    {
      "cell_type": "code",
      "metadata": {
        "id": "ZNF9kzkf4RUF"
      },
      "source": [
        "from sklearn.ensemble import GradientBoostingRegressor #GBM algorithm \n",
        "from sklearn.model_selection import cross_val_score,cross_validate\n",
        "from sklearn import metrics\n",
        "#from sklearn.model_selection import cross_validation, metrics #Additional scklearn functions \n",
        "from sklearn.model_selection import GridSearchCV #Perforing grid search \n",
        "import matplotlib.pylab as plt\n",
        "#%matplotlib inline \n",
        "from matplotlib.pylab import rcParams \n",
        "\n",
        "rcParams['figure.figsize'] = 12, 4 \n"
      ],
      "execution_count": null,
      "outputs": []
    },
    {
      "cell_type": "code",
      "metadata": {
        "id": "whSfv_0l5RgD"
      },
      "source": [
        "def modelfit(alg, X,y, performCV=True, printFeatureImportance=True, cv_folds=5): \n",
        "    #Fit the algorithm on the data \n",
        "    alg.fit(X, y) \n",
        "    \n",
        "    #Predict training set:\n",
        "    dtrain_predictions = alg.predict(X) \n",
        "    #dtrain_predprob = alg.predict_proba(X)[:,1] \n",
        "    \n",
        "    #Perform cross-validation: \n",
        "    if performCV:\n",
        "        cv_score = cross_val_score(alg,X, y, cv=cv_folds, scoring='neg_root_mean_squared_error')\n",
        "    #Print model report:\n",
        "    print(\"/nModel Report\")\n",
        "    print(\"RMSE : %.4g\" % np.sqrt(metrics.mean_squared_error(y, dtrain_predictions)))\n",
        "    #print(\"AUC Score (Train): %f\" % metrics.roc_auc_score(y, dtrain_predprob)) \n",
        "    if performCV:\n",
        "        print(\"CV Score : Mean - %.7g | Std - %.7g | Min - %.7g | Max - %.7g\" %(np.mean(cv_score),np.std(cv_score),np.min(cv_score),np.max(cv_score))) \n",
        "    \n",
        "    #Print Feature Importance:\n",
        "    if printFeatureImportance:\n",
        "        feat_imp = pd.Series(alg.feature_importances_,list(X.columns)).sort_values(ascending=False)\n",
        "        feat_imp.plot(kind='bar', title='Feature Importances')\n",
        "        plt.ylabel('Feature Importance Score')"
      ],
      "execution_count": null,
      "outputs": []
    },
    {
      "cell_type": "code",
      "metadata": {
        "colab": {
          "base_uri": "https://localhost:8080/",
          "height": 457
        },
        "id": "JpR36G9W9zn1",
        "outputId": "ae6a0975-f707-4e96-c1a5-bec09cd14e7d"
      },
      "source": [
        "#Choose all predictors except target & IDcols\n",
        "#predictors = [x for x in train_x.columns if x not in [IDcol]]\n",
        "gbm0 = GradientBoostingRegressor(random_state=10)\n",
        "modelfit(gbm0, train_x,train_y)"
      ],
      "execution_count": null,
      "outputs": [
        {
          "output_type": "stream",
          "text": [
            "/nModel Report\n",
            "RMSE : 1021\n",
            "CV Score : Mean - -1074.002 | Std - 41.66748 | Min - -1131.118 | Max - -1013.939\n"
          ],
          "name": "stdout"
        },
        {
          "output_type": "display_data",
          "data": {
            "image/png": "[encoded data removed]",
            "text/plain": [
              "<Figure size 864x288 with 1 Axes>"
            ]
          },
          "metadata": {
            "tags": [],
            "needs_background": "light"
          }
        }
      ]
    },
    {
      "cell_type": "code",
      "metadata": {
        "id": "c0eqSnzpZv5v"
      },
      "source": [
        "def result(m,X,y,predictors):\n",
        "    predictions = m.predict(X[predictors])\n",
        "    predprob = m.predict_proba(X[predictors])[:,1]\n",
        "    print(\"Accuracy : %.4g\" % metrics.accuracy_score(y, predictions))\n",
        "    print(\"AUC Score (Train): %f\" % metrics.roc_auc_score(y, predprob)) \n",
        "    metrics.plot_roc_curve(m, X[predictors], y)\n",
        "    plt.show()"
      ],
      "execution_count": null,
      "outputs": []
    },
    {
      "cell_type": "code",
      "metadata": {
        "id": "Jhoo4dt3_j5u"
      },
      "source": [
        "def result_reg(m,X,y):\n",
        "    predictions = m.predict(X)\n",
        "    print(\"RMSE : %.4g\" % np.sqrt(metrics.mean_squared_error(y, predictions)))\n",
        " \n",
        "    "
      ],
      "execution_count": null,
      "outputs": []
    },
    {
      "cell_type": "code",
      "metadata": {
        "colab": {
          "base_uri": "https://localhost:8080/"
        },
        "id": "M-HK02WYaU9K",
        "outputId": "ec7c8f2e-f77f-451f-c8e6-1386ce1474be"
      },
      "source": [
        "result_reg(gbm0,train_x,train_y)"
      ],
      "execution_count": null,
      "outputs": [
        {
          "output_type": "stream",
          "text": [
            "RMSE : 1021\n"
          ],
          "name": "stdout"
        }
      ]
    },
    {
      "cell_type": "code",
      "metadata": {
        "colab": {
          "base_uri": "https://localhost:8080/"
        },
        "id": "kJWQOy-HYndw",
        "outputId": "0decce49-f6da-477d-c1f3-b91903b48876"
      },
      "source": [
        "result_reg(gbm0,valid_x,valid_y)"
      ],
      "execution_count": null,
      "outputs": [
        {
          "output_type": "stream",
          "text": [
            "RMSE : 1119\n"
          ],
          "name": "stdout"
        }
      ]
    },
    {
      "cell_type": "markdown",
      "metadata": {
        "id": "4f0jq6yA-OGB"
      },
      "source": [
        "# Random Forest"
      ]
    },
    {
      "cell_type": "code",
      "metadata": {
        "id": "Db6NGCiiPHaX"
      },
      "source": [
        "#to=load_pickle(path/'to_opt_nor.pkl')\n",
        "to = load_pickle(path/'to_mod.pkl')"
      ],
      "execution_count": null,
      "outputs": []
    },
    {
      "cell_type": "code",
      "metadata": {
        "id": "9v87HmN3PFvQ"
      },
      "source": [
        "train_x, train_y=to.train.xs,to.train.y\n",
        "valid_x,valid_y=to.valid.xs,to.valid.y"
      ],
      "execution_count": null,
      "outputs": []
    },
    {
      "cell_type": "code",
      "metadata": {
        "id": "DaHQSrCsHunc"
      },
      "source": [
        "def rf(xs, y, n_estimators=40, max_samples=200,\n",
        "       max_features=0.5, min_samples_leaf=5, **kwargs):\n",
        "    return RandomForestRegressor(n_jobs=-1, n_estimators=n_estimators,\n",
        "        max_samples=max_samples, max_features=max_features,\n",
        "        min_samples_leaf=min_samples_leaf, oob_score=True).fit(xs, y)"
      ],
      "execution_count": null,
      "outputs": []
    },
    {
      "cell_type": "code",
      "metadata": {
        "id": "dUTLZSQXH8WX"
      },
      "source": [
        "m_rf = rf(train_x, train_y);"
      ],
      "execution_count": null,
      "outputs": []
    },
    {
      "cell_type": "code",
      "metadata": {
        "colab": {
          "base_uri": "https://localhost:8080/",
          "height": 457
        },
        "id": "ZwgrcW_LIMsY",
        "outputId": "d2de0be6-43cf-4da2-a3d8-47414faf5c1b"
      },
      "source": [
        "modelfit(m_rf, train_x,train_y)"
      ],
      "execution_count": null,
      "outputs": [
        {
          "output_type": "stream",
          "text": [
            "/nModel Report\n",
            "RMSE : 1081\n",
            "CV Score : Mean - -1098.251 | Std - 27.36339 | Min - -1130.326 | Max - -1051.396\n"
          ],
          "name": "stdout"
        },
        {
          "output_type": "display_data",
          "data": {
            "image/png": "[encoded data removed]",
            "text/plain": [
              "<Figure size 864x288 with 1 Axes>"
            ]
          },
          "metadata": {
            "tags": [],
            "needs_background": "light"
          }
        }
      ]
    },
    {
      "cell_type": "code",
      "metadata": {
        "colab": {
          "base_uri": "https://localhost:8080/"
        },
        "id": "r15nLMnKZQU3",
        "outputId": "c147b695-2e93-41a8-da55-5ed58b00ce3b"
      },
      "source": [
        "result_reg(m_rf,valid_x,valid_y)"
      ],
      "execution_count": null,
      "outputs": [
        {
          "output_type": "stream",
          "text": [
            "RMSE : 1128\n"
          ],
          "name": "stdout"
        }
      ]
    },
    {
      "cell_type": "code",
      "metadata": {
        "colab": {
          "base_uri": "https://localhost:8080/"
        },
        "id": "yb0BN8qecQit",
        "outputId": "4fc4c795-ebab-4d93-a2c3-3877bd1eb6d4"
      },
      "source": [
        "m_rf.get_params"
      ],
      "execution_count": null,
      "outputs": [
        {
          "output_type": "execute_result",
          "data": {
            "text/plain": [
              "<bound method BaseEstimator.get_params of RandomForestRegressor(bootstrap=True, ccp_alpha=0.0, criterion='mse',\n",
              "                      max_depth=None, max_features=0.5, max_leaf_nodes=None,\n",
              "                      max_samples=200, min_impurity_decrease=0.0,\n",
              "                      min_impurity_split=None, min_samples_leaf=5,\n",
              "                      min_samples_split=2, min_weight_fraction_leaf=0.0,\n",
              "                      n_estimators=40, n_jobs=-1, oob_score=True,\n",
              "                      random_state=None, verbose=0, warm_start=False)>"
            ]
          },
          "metadata": {
            "tags": []
          },
          "execution_count": 253
        }
      ]
    },
    {
      "cell_type": "markdown",
      "metadata": {
        "id": "vZ1SUd-Nb-Pv"
      },
      "source": [
        "## Vamos a mejorar el Random Forest. Primero estimators"
      ]
    },
    {
      "cell_type": "markdown",
      "metadata": {
        "id": "5WKG9TEgh1AN"
      },
      "source": [
        "1.- Primero vemos el número óptimo de estimators: con 80 ewstimator -> RMSE 1168\n",
        "\n",
        "---\n",
        "\n"
      ]
    },
    {
      "cell_type": "code",
      "metadata": {
        "colab": {
          "base_uri": "https://localhost:8080/"
        },
        "id": "mhwnzaeVcNvG",
        "outputId": "4f9d75f6-d0af-4634-d84d-fa891d504ec6"
      },
      "source": [
        "param_test1 = {'n_estimators':range(20,81,10)}\n",
        "gsearch1 = GridSearchCV(estimator = RandomForestRegressor(max_samples=200,max_features=0.5, min_samples_leaf=5,random_state=10),param_grid = param_test1, scoring='neg_root_mean_squared_error',n_jobs=4, cv=5)\n",
        "gsearch1.fit(train_x,train_y)"
      ],
      "execution_count": null,
      "outputs": [
        {
          "output_type": "execute_result",
          "data": {
            "text/plain": [
              "GridSearchCV(cv=5, error_score=nan,\n",
              "             estimator=RandomForestRegressor(bootstrap=True, ccp_alpha=0.0,\n",
              "                                             criterion='mse', max_depth=None,\n",
              "                                             max_features=0.5,\n",
              "                                             max_leaf_nodes=None,\n",
              "                                             max_samples=200,\n",
              "                                             min_impurity_decrease=0.0,\n",
              "                                             min_impurity_split=None,\n",
              "                                             min_samples_leaf=5,\n",
              "                                             min_samples_split=2,\n",
              "                                             min_weight_fraction_leaf=0.0,\n",
              "                                             n_estimators=100, n_jobs=None,\n",
              "                                             oob_score=False, random_state=10,\n",
              "                                             verbose=0, warm_start=False),\n",
              "             iid='deprecated', n_jobs=4,\n",
              "             param_grid={'n_estimators': range(20, 81, 10)},\n",
              "             pre_dispatch='2*n_jobs', refit=True, return_train_score=False,\n",
              "             scoring='neg_root_mean_squared_error', verbose=0)"
            ]
          },
          "metadata": {
            "tags": []
          },
          "execution_count": 254
        }
      ]
    },
    {
      "cell_type": "code",
      "metadata": {
        "colab": {
          "base_uri": "https://localhost:8080/"
        },
        "id": "Uy7FCQCedlyv",
        "outputId": "5bb7ef5d-fdcd-4b6a-901c-be8434469eed"
      },
      "source": [
        "gsearch1.best_params_,gsearch1.best_score_"
      ],
      "execution_count": null,
      "outputs": [
        {
          "output_type": "execute_result",
          "data": {
            "text/plain": [
              "({'n_estimators': 80}, -1090.3176169641627)"
            ]
          },
          "metadata": {
            "tags": []
          },
          "execution_count": 255
        }
      ]
    },
    {
      "cell_type": "code",
      "metadata": {
        "colab": {
          "base_uri": "https://localhost:8080/"
        },
        "id": "rMTq1Ra2d6zt",
        "outputId": "b4c83ba9-5104-4252-da83-a95af45be75f"
      },
      "source": [
        "result_reg(gsearch1.best_estimator_,valid_x,valid_y)"
      ],
      "execution_count": null,
      "outputs": [
        {
          "output_type": "stream",
          "text": [
            "RMSE : 1123\n"
          ],
          "name": "stdout"
        }
      ]
    },
    {
      "cell_type": "markdown",
      "metadata": {
        "id": "Rs4xnAqWiX-3"
      },
      "source": [
        "2.- Vamos a optimizar 'max_depth' y 'min_samples_split'\n",
        "\n",
        "---\n"
      ]
    },
    {
      "cell_type": "code",
      "metadata": {
        "id": "2pja8dtVigoU"
      },
      "source": [
        "param_test2 = {'max_depth':range(2,8,2), 'min_samples_split':range(2,12,1)}"
      ],
      "execution_count": null,
      "outputs": []
    },
    {
      "cell_type": "code",
      "metadata": {
        "colab": {
          "base_uri": "https://localhost:8080/"
        },
        "id": "-ZDhLVSHiymE",
        "outputId": "deaf57c0-98f3-4b38-8f76-d45d415c41da"
      },
      "source": [
        "gsearch2= GridSearchCV(estimator=RandomForestRegressor(n_estimators=80,max_samples=200,max_features=0.5, min_samples_leaf=5,random_state=10),param_grid=param_test2,scoring='neg_root_mean_squared_error',n_jobs=4, cv=5)\n",
        "gsearch2.fit(train_x,train_y)\n"
      ],
      "execution_count": null,
      "outputs": [
        {
          "output_type": "execute_result",
          "data": {
            "text/plain": [
              "GridSearchCV(cv=5, error_score=nan,\n",
              "             estimator=RandomForestRegressor(bootstrap=True, ccp_alpha=0.0,\n",
              "                                             criterion='mse', max_depth=None,\n",
              "                                             max_features=0.5,\n",
              "                                             max_leaf_nodes=None,\n",
              "                                             max_samples=200,\n",
              "                                             min_impurity_decrease=0.0,\n",
              "                                             min_impurity_split=None,\n",
              "                                             min_samples_leaf=5,\n",
              "                                             min_samples_split=2,\n",
              "                                             min_weight_fraction_leaf=0.0,\n",
              "                                             n_estimators=80, n_jobs=None,\n",
              "                                             oob_score=False, random_state=10,\n",
              "                                             verbose=0, warm_start=False),\n",
              "             iid='deprecated', n_jobs=4,\n",
              "             param_grid={'max_depth': range(2, 8, 2),\n",
              "                         'min_samples_split': range(2, 12)},\n",
              "             pre_dispatch='2*n_jobs', refit=True, return_train_score=False,\n",
              "             scoring='neg_root_mean_squared_error', verbose=0)"
            ]
          },
          "metadata": {
            "tags": []
          },
          "execution_count": 258
        }
      ]
    },
    {
      "cell_type": "code",
      "metadata": {
        "colab": {
          "base_uri": "https://localhost:8080/"
        },
        "id": "s5Pbi_bIjblR",
        "outputId": "c0225b84-780e-4a63-d1bb-0c2df8bf08e3"
      },
      "source": [
        "gsearch2.best_params_,gsearch2.best_score_"
      ],
      "execution_count": null,
      "outputs": [
        {
          "output_type": "execute_result",
          "data": {
            "text/plain": [
              "({'max_depth': 6, 'min_samples_split': 2}, -1094.144183681116)"
            ]
          },
          "metadata": {
            "tags": []
          },
          "execution_count": 260
        }
      ]
    },
    {
      "cell_type": "code",
      "metadata": {
        "colab": {
          "base_uri": "https://localhost:8080/"
        },
        "id": "3r28dfZDkC_v",
        "outputId": "62b4b70e-8e13-4b2f-baf8-48f91df5c802"
      },
      "source": [
        "result_reg(gsearch2.best_estimator_,valid_x,valid_y)"
      ],
      "execution_count": null,
      "outputs": [
        {
          "output_type": "stream",
          "text": [
            "RMSE : 1124\n"
          ],
          "name": "stdout"
        }
      ]
    },
    {
      "cell_type": "markdown",
      "metadata": {
        "id": "UaFM6unilX7u"
      },
      "source": [
        "Resultado"
      ]
    },
    {
      "cell_type": "code",
      "metadata": {
        "id": "5-aYw3TalbWj"
      },
      "source": [
        "m_rf_opt=RandomForestRegressor(n_estimators=80,max_samples=200,max_features=0.5, min_samples_leaf=5,min_samples_split=11,random_state=10)"
      ],
      "execution_count": null,
      "outputs": []
    },
    {
      "cell_type": "code",
      "metadata": {
        "id": "onu7_LAumOIA"
      },
      "source": [
        "m_rf_opt.fit(train_x, train_y);"
      ],
      "execution_count": null,
      "outputs": []
    },
    {
      "cell_type": "code",
      "metadata": {
        "colab": {
          "base_uri": "https://localhost:8080/"
        },
        "id": "0f01tzfxnXER",
        "outputId": "a2be31a1-74d4-4102-a3f5-f6d7170aac0b"
      },
      "source": [
        "result_reg(m_rf_opt,valid_x,valid_y)"
      ],
      "execution_count": null,
      "outputs": [
        {
          "output_type": "stream",
          "text": [
            "RMSE : 1120\n"
          ],
          "name": "stdout"
        }
      ]
    },
    {
      "cell_type": "code",
      "metadata": {
        "id": "ki31D1HQ0Znj"
      },
      "source": [
        "save_pickle(path/'model_rf.pkl',m_rf_opt)"
      ],
      "execution_count": null,
      "outputs": []
    },
    {
      "cell_type": "code",
      "metadata": {
        "id": "9ZCrMb-NID9D",
        "colab": {
          "base_uri": "https://localhost:8080/",
          "height": 167
        },
        "outputId": "d20bf779-f661-4e48-d72d-18ab8b14e0ce"
      },
      "source": [
        "pred_rf=m_rf_opt.predict(test_x)"
      ],
      "execution_count": null,
      "outputs": [
        {
          "output_type": "error",
          "ename": "NameError",
          "evalue": "ignored",
          "traceback": [
            "\u001b[0;31m---------------------------------------------------------------------------\u001b[0m",
            "\u001b[0;31mNameError\u001b[0m                                 Traceback (most recent call last)",
            "\u001b[0;32m<ipython-input-266-3751b9e376df>\u001b[0m in \u001b[0;36m<module>\u001b[0;34m()\u001b[0m\n\u001b[0;32m----> 1\u001b[0;31m \u001b[0mpred_rf\u001b[0m\u001b[0;34m=\u001b[0m\u001b[0mm_rf_opt\u001b[0m\u001b[0;34m.\u001b[0m\u001b[0mpredict\u001b[0m\u001b[0;34m(\u001b[0m\u001b[0mtest_x\u001b[0m\u001b[0;34m)\u001b[0m\u001b[0;34m\u001b[0m\u001b[0;34m\u001b[0m\u001b[0m\n\u001b[0m",
            "\u001b[0;31mNameError\u001b[0m: name 'test_x' is not defined"
          ]
        }
      ]
    },
    {
      "cell_type": "code",
      "metadata": {
        "id": "IZO1IcmJIBHg"
      },
      "source": [
        "df_test[]="
      ],
      "execution_count": null,
      "outputs": []
    },
    {
      "cell_type": "code",
      "metadata": {
        "id": "YsQTYJEiIWUX"
      },
      "source": [
        "df_test['Item_Outlet_Sales']=pred_rf"
      ],
      "execution_count": null,
      "outputs": []
    },
    {
      "cell_type": "code",
      "metadata": {
        "id": "XE0nm5kfIWUa"
      },
      "source": [
        "result_rf=df_test.loc[:,['Item_Identifier','Outlet_Identifier','Item_Outlet_Sales']]"
      ],
      "execution_count": null,
      "outputs": []
    },
    {
      "cell_type": "code",
      "metadata": {
        "id": "NMgfGnxoIWUb"
      },
      "source": [
        "result_rf.to_csv(path/'submit_rff.csv',index=False)"
      ],
      "execution_count": null,
      "outputs": []
    },
    {
      "cell_type": "markdown",
      "metadata": {
        "id": "7FpzDmDXIb5R"
      },
      "source": [
        "## Vamos a optimizar GBoostModel"
      ]
    },
    {
      "cell_type": "code",
      "metadata": {
        "id": "FPMV1wY3fpdi"
      },
      "source": [
        "#to= load_pickle(path/'to_opt_nor.pkl')\n",
        "to = load_pickle(path/'to_mod.pkl')"
      ],
      "execution_count": null,
      "outputs": []
    },
    {
      "cell_type": "code",
      "metadata": {
        "id": "AO9orLsjgE2_"
      },
      "source": [
        "train_x, train_y=to.train.xs,to.train.y\n",
        "valid_x,valid_y=to.valid.xs,to.valid.y"
      ],
      "execution_count": null,
      "outputs": []
    },
    {
      "cell_type": "code",
      "metadata": {
        "colab": {
          "base_uri": "https://localhost:8080/"
        },
        "id": "4zD_Uck1KM0C",
        "outputId": "ff4437f1-333b-4f63-9b33-267efaa253dd"
      },
      "source": [
        "#Choose all predictors except target & IDcols\n",
        "#predictors = [x for x in train.columns if x not in [target, IDcol]]\n",
        "param_test1 = {'n_estimators':range(20,81,10)}\n",
        "gsearch1 = GridSearchCV(estimator = GradientBoostingRegressor(learning_rate=0.1, min_samples_split=500,min_samples_leaf=50,max_depth=8,max_features='sqrt',subsample=0.8,random_state=10),param_grid = param_test1, scoring='neg_root_mean_squared_error',n_jobs=4, cv=5)\n",
        "gsearch1.fit(train_x,train_y)"
      ],
      "execution_count": null,
      "outputs": [
        {
          "output_type": "execute_result",
          "data": {
            "text/plain": [
              "GridSearchCV(cv=5, error_score=nan,\n",
              "             estimator=GradientBoostingRegressor(alpha=0.9, ccp_alpha=0.0,\n",
              "                                                 criterion='friedman_mse',\n",
              "                                                 init=None, learning_rate=0.1,\n",
              "                                                 loss='ls', max_depth=8,\n",
              "                                                 max_features='sqrt',\n",
              "                                                 max_leaf_nodes=None,\n",
              "                                                 min_impurity_decrease=0.0,\n",
              "                                                 min_impurity_split=None,\n",
              "                                                 min_samples_leaf=50,\n",
              "                                                 min_samples_split=500,\n",
              "                                                 min_weight_fraction_leaf=0.0,\n",
              "                                                 n_estimators=100,\n",
              "                                                 n_iter_no_change=None,\n",
              "                                                 presort='deprecated',\n",
              "                                                 random_state=10, subsample=0.8,\n",
              "                                                 tol=0.0001,\n",
              "                                                 validation_fraction=0.1,\n",
              "                                                 verbose=0, warm_start=False),\n",
              "             iid='deprecated', n_jobs=4,\n",
              "             param_grid={'n_estimators': range(20, 81, 10)},\n",
              "             pre_dispatch='2*n_jobs', refit=True, return_train_score=False,\n",
              "             scoring='neg_root_mean_squared_error', verbose=0)"
            ]
          },
          "metadata": {
            "tags": []
          },
          "execution_count": 269
        }
      ]
    },
    {
      "cell_type": "code",
      "metadata": {
        "colab": {
          "base_uri": "https://localhost:8080/"
        },
        "id": "TOOevP7SKdgt",
        "outputId": "3c02ef32-d52e-4e55-bbe4-f033d7d4e570"
      },
      "source": [
        "gsearch1.cv_results_,gsearch1.best_params_,gsearch1.best_score_"
      ],
      "execution_count": null,
      "outputs": [
        {
          "output_type": "execute_result",
          "data": {
            "text/plain": [
              "({'mean_fit_time': array([0.20860648, 0.33953242, 0.43872862, 0.5398519 , 0.63806324,\n",
              "         0.73974104, 0.74660254]),\n",
              "  'mean_score_time': array([0.00944557, 0.00720091, 0.01028156, 0.01014094, 0.01012483,\n",
              "         0.01112671, 0.00863609]),\n",
              "  'mean_test_score': array([-1126.243458  , -1093.65951454, -1082.11571799, -1078.13763371,\n",
              "         -1078.66270443, -1079.21720772, -1080.3969927 ]),\n",
              "  'param_n_estimators': masked_array(data=[20, 30, 40, 50, 60, 70, 80],\n",
              "               mask=[False, False, False, False, False, False, False],\n",
              "         fill_value='?',\n",
              "              dtype=object),\n",
              "  'params': [{'n_estimators': 20},\n",
              "   {'n_estimators': 30},\n",
              "   {'n_estimators': 40},\n",
              "   {'n_estimators': 50},\n",
              "   {'n_estimators': 60},\n",
              "   {'n_estimators': 70},\n",
              "   {'n_estimators': 80}],\n",
              "  'rank_test_score': array([7, 6, 5, 1, 2, 3, 4], dtype=int32),\n",
              "  'split0_test_score': array([-1176.33229183, -1145.80837513, -1137.49872199, -1130.53656113,\n",
              "         -1131.66613948, -1134.78972157, -1137.02928644]),\n",
              "  'split1_test_score': array([-1145.20947924, -1115.9473267 , -1104.11397164, -1102.07652117,\n",
              "         -1102.77821444, -1104.69437089, -1107.61123659]),\n",
              "  'split2_test_score': array([-1108.62581858, -1075.90741936, -1065.065907  , -1061.35760697,\n",
              "         -1060.97751032, -1060.89585161, -1060.15016253]),\n",
              "  'split3_test_score': array([-1129.31765159, -1094.05421331, -1082.2633967 , -1077.52985383,\n",
              "         -1078.68781837, -1077.3192494 , -1079.4488643 ]),\n",
              "  'split4_test_score': array([-1071.73204873, -1036.5802382 , -1021.63659263, -1019.18762546,\n",
              "         -1019.20383955, -1018.38684515, -1017.74541366]),\n",
              "  'std_fit_time': array([0.04863694, 0.01707542, 0.07446681, 0.03523499, 0.01208904,\n",
              "         0.01550327, 0.13609696]),\n",
              "  'std_score_time': array([0.00385012, 0.00317473, 0.00520206, 0.00300303, 0.00443935,\n",
              "         0.00287052, 0.00332565]),\n",
              "  'std_test_score': array([35.09964918, 36.84992996, 38.72891107, 37.61850633, 38.05008616,\n",
              "         39.43855343, 40.70352614])},\n",
              " {'n_estimators': 50},\n",
              " -1078.1376337104)"
            ]
          },
          "metadata": {
            "tags": []
          },
          "execution_count": 270
        }
      ]
    },
    {
      "cell_type": "markdown",
      "metadata": {
        "id": "KGctulUEM8I4"
      },
      "source": [
        "Vamos a afinar\n",
        "\n",
        "\n",
        "1.   x_depth y num_samples_splits\n",
        "2.   min_samples_leaf\n",
        "3. max_features\n",
        "\n",
        "\n"
      ]
    },
    {
      "cell_type": "code",
      "metadata": {
        "colab": {
          "base_uri": "https://localhost:8080/"
        },
        "id": "owSf1Rc7QhJD",
        "outputId": "142289b8-747b-414a-f557-79e08efa71a1"
      },
      "source": [
        "param_test2 = {'max_depth':range(5,16,2), 'min_samples_split':range(200,1001,200)}\n",
        "gsearch2 = GridSearchCV(estimator = GradientBoostingRegressor(learning_rate=0.1, n_estimators=60, max_features='sqrt', subsample=0.8, random_state=10), \n",
        "param_grid = param_test2, scoring='neg_root_mean_squared_error',n_jobs=4, cv=5)\n",
        "gsearch2.fit(train_x,train_y)\n"
      ],
      "execution_count": null,
      "outputs": [
        {
          "output_type": "execute_result",
          "data": {
            "text/plain": [
              "GridSearchCV(cv=5, error_score=nan,\n",
              "             estimator=GradientBoostingRegressor(alpha=0.9, ccp_alpha=0.0,\n",
              "                                                 criterion='friedman_mse',\n",
              "                                                 init=None, learning_rate=0.1,\n",
              "                                                 loss='ls', max_depth=3,\n",
              "                                                 max_features='sqrt',\n",
              "                                                 max_leaf_nodes=None,\n",
              "                                                 min_impurity_decrease=0.0,\n",
              "                                                 min_impurity_split=None,\n",
              "                                                 min_samples_leaf=1,\n",
              "                                                 min_samples_split=2,\n",
              "                                                 min_weight_fraction_leaf=0.0,\n",
              "                                                 n_estimators=60,\n",
              "                                                 n_iter_no_change=None,\n",
              "                                                 presort='deprecated',\n",
              "                                                 random_state=10, subsample=0.8,\n",
              "                                                 tol=0.0001,\n",
              "                                                 validation_fraction=0.1,\n",
              "                                                 verbose=0, warm_start=False),\n",
              "             iid='deprecated', n_jobs=4,\n",
              "             param_grid={'max_depth': range(5, 16, 2),\n",
              "                         'min_samples_split': range(200, 1001, 200)},\n",
              "             pre_dispatch='2*n_jobs', refit=True, return_train_score=False,\n",
              "             scoring='neg_root_mean_squared_error', verbose=0)"
            ]
          },
          "metadata": {
            "tags": []
          },
          "execution_count": 271
        }
      ]
    },
    {
      "cell_type": "code",
      "metadata": {
        "colab": {
          "base_uri": "https://localhost:8080/"
        },
        "id": "xhtKr9mjOhFZ",
        "outputId": "0171af4c-f177-4d11-8369-f80d54123c20"
      },
      "source": [
        "gsearch2.cv_results_, gsearch2.best_params_, gsearch2.best_score_"
      ],
      "execution_count": null,
      "outputs": [
        {
          "output_type": "execute_result",
          "data": {
            "text/plain": [
              "({'mean_fit_time': array([0.57166305, 0.55703664, 0.52356219, 0.53426275, 0.49727497,\n",
              "         0.70084162, 0.66415348, 0.61447043, 0.57900867, 0.54330397,\n",
              "         0.79913325, 0.72044501, 0.65367298, 0.60408125, 0.56406431,\n",
              "         0.87317858, 0.78761692, 0.69158001, 0.61766248, 0.58562465,\n",
              "         0.90737062, 0.80779314, 0.68657541, 0.61688685, 0.60365343,\n",
              "         0.92678723, 0.81240907, 0.71503191, 0.63330779, 0.49538302]),\n",
              "  'mean_score_time': array([0.01458163, 0.00825095, 0.00848265, 0.00896096, 0.0094192 ,\n",
              "         0.01365051, 0.0119453 , 0.00728183, 0.00921779, 0.00994358,\n",
              "         0.01234541, 0.01188021, 0.0092063 , 0.01105576, 0.01064401,\n",
              "         0.01172585, 0.01050434, 0.01114483, 0.01008472, 0.00776062,\n",
              "         0.01625137, 0.00843725, 0.01411057, 0.00997791, 0.00805173,\n",
              "         0.01366258, 0.01606669, 0.01141424, 0.00739775, 0.0056901 ]),\n",
              "  'mean_test_score': array([-1077.73785321, -1078.15149311, -1077.33077487, -1078.85717286,\n",
              "         -1079.6397077 , -1081.86973109, -1078.54663383, -1079.03809381,\n",
              "         -1079.8363517 , -1081.05519398, -1088.98290752, -1083.50636568,\n",
              "         -1077.85626369, -1081.31694195, -1081.13115695, -1092.88963335,\n",
              "         -1085.23074766, -1077.63708896, -1081.04548762, -1080.66253228,\n",
              "         -1093.4228099 , -1082.58654075, -1078.08781143, -1080.64059294,\n",
              "         -1080.64377998, -1094.7000441 , -1084.04370274, -1079.9851282 ,\n",
              "         -1080.59236478, -1080.93284371]),\n",
              "  'param_max_depth': masked_array(data=[5, 5, 5, 5, 5, 7, 7, 7, 7, 7, 9, 9, 9, 9, 9, 11, 11,\n",
              "                     11, 11, 11, 13, 13, 13, 13, 13, 15, 15, 15, 15, 15],\n",
              "               mask=[False, False, False, False, False, False, False, False,\n",
              "                     False, False, False, False, False, False, False, False,\n",
              "                     False, False, False, False, False, False, False, False,\n",
              "                     False, False, False, False, False, False],\n",
              "         fill_value='?',\n",
              "              dtype=object),\n",
              "  'param_min_samples_split': masked_array(data=[200, 400, 600, 800, 1000, 200, 400, 600, 800, 1000,\n",
              "                     200, 400, 600, 800, 1000, 200, 400, 600, 800, 1000,\n",
              "                     200, 400, 600, 800, 1000, 200, 400, 600, 800, 1000],\n",
              "               mask=[False, False, False, False, False, False, False, False,\n",
              "                     False, False, False, False, False, False, False, False,\n",
              "                     False, False, False, False, False, False, False, False,\n",
              "                     False, False, False, False, False, False],\n",
              "         fill_value='?',\n",
              "              dtype=object),\n",
              "  'params': [{'max_depth': 5, 'min_samples_split': 200},\n",
              "   {'max_depth': 5, 'min_samples_split': 400},\n",
              "   {'max_depth': 5, 'min_samples_split': 600},\n",
              "   {'max_depth': 5, 'min_samples_split': 800},\n",
              "   {'max_depth': 5, 'min_samples_split': 1000},\n",
              "   {'max_depth': 7, 'min_samples_split': 200},\n",
              "   {'max_depth': 7, 'min_samples_split': 400},\n",
              "   {'max_depth': 7, 'min_samples_split': 600},\n",
              "   {'max_depth': 7, 'min_samples_split': 800},\n",
              "   {'max_depth': 7, 'min_samples_split': 1000},\n",
              "   {'max_depth': 9, 'min_samples_split': 200},\n",
              "   {'max_depth': 9, 'min_samples_split': 400},\n",
              "   {'max_depth': 9, 'min_samples_split': 600},\n",
              "   {'max_depth': 9, 'min_samples_split': 800},\n",
              "   {'max_depth': 9, 'min_samples_split': 1000},\n",
              "   {'max_depth': 11, 'min_samples_split': 200},\n",
              "   {'max_depth': 11, 'min_samples_split': 400},\n",
              "   {'max_depth': 11, 'min_samples_split': 600},\n",
              "   {'max_depth': 11, 'min_samples_split': 800},\n",
              "   {'max_depth': 11, 'min_samples_split': 1000},\n",
              "   {'max_depth': 13, 'min_samples_split': 200},\n",
              "   {'max_depth': 13, 'min_samples_split': 400},\n",
              "   {'max_depth': 13, 'min_samples_split': 600},\n",
              "   {'max_depth': 13, 'min_samples_split': 800},\n",
              "   {'max_depth': 13, 'min_samples_split': 1000},\n",
              "   {'max_depth': 15, 'min_samples_split': 200},\n",
              "   {'max_depth': 15, 'min_samples_split': 400},\n",
              "   {'max_depth': 15, 'min_samples_split': 600},\n",
              "   {'max_depth': 15, 'min_samples_split': 800},\n",
              "   {'max_depth': 15, 'min_samples_split': 1000}],\n",
              "  'rank_test_score': array([ 3,  6,  1,  8, 10, 22,  7,  9, 11, 19, 27, 24,  4, 21, 20, 28, 26,\n",
              "          2, 18, 16, 29, 23,  5, 14, 15, 30, 25, 12, 13, 17], dtype=int32),\n",
              "  'split0_test_score': array([-1134.3406983 , -1128.4322965 , -1131.76008354, -1134.33626708,\n",
              "         -1134.7358706 , -1135.3595479 , -1131.50752742, -1132.29407538,\n",
              "         -1131.46721013, -1138.58021783, -1141.48270529, -1142.47724836,\n",
              "         -1131.17863717, -1131.36396565, -1140.22339456, -1138.94867964,\n",
              "         -1133.98455991, -1132.84822867, -1135.36531539, -1139.38236918,\n",
              "         -1149.99410347, -1134.42769844, -1132.30558826, -1134.1538533 ,\n",
              "         -1140.18803168, -1148.29455219, -1139.6937445 , -1133.37765212,\n",
              "         -1135.83081227, -1141.64464009]),\n",
              "  'split1_test_score': array([-1105.38899075, -1109.80763147, -1097.36528555, -1100.72628424,\n",
              "         -1098.71434821, -1113.82166193, -1109.03464794, -1101.50770913,\n",
              "         -1098.50283877, -1101.19708089, -1131.60522244, -1113.40482056,\n",
              "         -1103.32282297, -1104.41233186, -1098.14652551, -1129.5963868 ,\n",
              "         -1114.43128345, -1102.42290976, -1105.2382299 , -1099.32555147,\n",
              "         -1125.03680621, -1116.10841975, -1105.59154321, -1103.15823933,\n",
              "         -1098.76299661, -1132.9883748 , -1111.8017516 , -1105.79264111,\n",
              "         -1101.17822959, -1098.76299661]),\n",
              "  'split2_test_score': array([-1057.98499759, -1055.08118692, -1056.75941481, -1060.30260025,\n",
              "         -1055.52296977, -1060.91167523, -1053.98629967, -1059.17569062,\n",
              "         -1061.53673153, -1055.41774696, -1059.17538508, -1054.04868816,\n",
              "         -1053.43190084, -1063.22040149, -1054.85327024, -1076.13086938,\n",
              "         -1059.80070774, -1054.03408374, -1062.84221575, -1058.82688115,\n",
              "         -1066.86684389, -1058.9251255 , -1055.76352018, -1060.38062249,\n",
              "         -1056.36326281, -1067.86302531, -1061.59145847, -1059.24990264,\n",
              "         -1062.36868475, -1055.9947512 ]),\n",
              "  'split3_test_score': array([-1074.61110394, -1074.12325791, -1076.63298135, -1077.81028431,\n",
              "         -1081.83156552, -1073.88336748, -1075.50581193, -1076.79537412,\n",
              "         -1077.43174387, -1080.54408255, -1086.89317121, -1077.67210026,\n",
              "         -1075.34612085, -1082.12696115, -1081.3730778 , -1085.67988257,\n",
              "         -1082.65130519, -1075.67226465, -1077.51182986, -1077.44074028,\n",
              "         -1089.86902681, -1076.50107269, -1076.37418681, -1077.89895782,\n",
              "         -1080.65728257, -1085.60937441, -1080.01366191, -1077.64326445,\n",
              "         -1079.72464357, -1080.27197252]),\n",
              "  'split4_test_score': array([-1016.36347549, -1023.31309277, -1024.13610907, -1021.1104284 ,\n",
              "         -1027.39378439, -1025.3724029 , -1022.6988822 , -1025.4176198 ,\n",
              "         -1030.24323421, -1029.53684168, -1025.75805358, -1029.92897105,\n",
              "         -1026.0018366 , -1025.46104957, -1031.05951664, -1034.09234836,\n",
              "         -1035.28588202, -1023.20795798, -1024.26984722, -1028.33711934,\n",
              "         -1035.34726911, -1026.97038734, -1020.40421869, -1027.61129174,\n",
              "         -1027.24732623, -1038.74489379, -1027.11789722, -1023.8621807 ,\n",
              "         -1023.85945371, -1027.98985814]),\n",
              "  'std_fit_time': array([0.022795  , 0.00431573, 0.08577598, 0.08986865, 0.00795875,\n",
              "         0.00584741, 0.01445173, 0.00976482, 0.01127844, 0.01350838,\n",
              "         0.01949316, 0.01214345, 0.13540472, 0.11281958, 0.01986913,\n",
              "         0.0347111 , 0.01229048, 0.01985529, 0.01415793, 0.02392381,\n",
              "         0.06072285, 0.0152825 , 0.01725658, 0.03205695, 0.03698039,\n",
              "         0.04144601, 0.04171697, 0.02386599, 0.01357887, 0.10883798]),\n",
              "  'std_score_time': array([0.00430693, 0.00439965, 0.00527719, 0.00410732, 0.00281468,\n",
              "         0.00293484, 0.00075626, 0.00310937, 0.0025856 , 0.0028605 ,\n",
              "         0.00049634, 0.00388773, 0.00394667, 0.00340203, 0.00394611,\n",
              "         0.00278368, 0.00516324, 0.00138114, 0.00263227, 0.00355102,\n",
              "         0.00385692, 0.00336659, 0.00259624, 0.00486969, 0.0047323 ,\n",
              "         0.0004349 , 0.00646079, 0.00172819, 0.00319968, 0.00302928]),\n",
              "  'std_test_score': array([40.33666716, 37.64568008, 36.37931143, 38.04271958, 36.64829292,\n",
              "         38.92828429, 38.6414369 , 36.37522033, 34.10078832, 37.48734326,\n",
              "         43.50431712, 40.35793167, 36.83355286, 36.01700498, 37.36086277,\n",
              "         38.10191305, 35.71396241, 37.91068332, 37.69151537, 37.47386282,\n",
              "         40.71946258, 38.73312281, 38.79363336, 36.33401488, 38.24800358,\n",
              "         40.67483808, 39.05977025, 37.68821692, 37.48744473, 38.54644342])},\n",
              " {'max_depth': 5, 'min_samples_split': 600},\n",
              " -1077.3307748677532)"
            ]
          },
          "metadata": {
            "tags": []
          },
          "execution_count": 272
        }
      ]
    },
    {
      "cell_type": "markdown",
      "metadata": {
        "id": "BKFkIpNlTY4m"
      },
      "source": [
        "Vamos a estudiar los parámetros min_samples_split y min_samples_leaf"
      ]
    },
    {
      "cell_type": "code",
      "metadata": {
        "colab": {
          "base_uri": "https://localhost:8080/"
        },
        "id": "42fLPDMUS4Yp",
        "outputId": "29e1c124-df99-4066-fe57-e6949944f958"
      },
      "source": [
        "param_test3 = {'min_samples_split':range(1000,2100,200), 'min_samples_leaf':range(30,71,10)}\n",
        "gsearch3 = GridSearchCV(estimator = GradientBoostingRegressor(learning_rate=0.1, n_estimators=60,max_depth=5,max_features='sqrt',min_samples_split=600, subsample=0.8, random_state=10), \n",
        "param_grid = param_test3, scoring='neg_root_mean_squared_error',n_jobs=4,cv=5)\n",
        "gsearch3.fit(train_x,train_y)\n"
      ],
      "execution_count": null,
      "outputs": [
        {
          "output_type": "execute_result",
          "data": {
            "text/plain": [
              "GridSearchCV(cv=5, error_score=nan,\n",
              "             estimator=GradientBoostingRegressor(alpha=0.9, ccp_alpha=0.0,\n",
              "                                                 criterion='friedman_mse',\n",
              "                                                 init=None, learning_rate=0.1,\n",
              "                                                 loss='ls', max_depth=5,\n",
              "                                                 max_features='sqrt',\n",
              "                                                 max_leaf_nodes=None,\n",
              "                                                 min_impurity_decrease=0.0,\n",
              "                                                 min_impurity_split=None,\n",
              "                                                 min_samples_leaf=1,\n",
              "                                                 min_samples_split=600,\n",
              "                                                 min_weight_fraction_leaf=0.0,\n",
              "                                                 n_estimators=60,\n",
              "                                                 n_ite..._change=None,\n",
              "                                                 presort='deprecated',\n",
              "                                                 random_state=10, subsample=0.8,\n",
              "                                                 tol=0.0001,\n",
              "                                                 validation_fraction=0.1,\n",
              "                                                 verbose=0, warm_start=False),\n",
              "             iid='deprecated', n_jobs=4,\n",
              "             param_grid={'min_samples_leaf': range(30, 71, 10),\n",
              "                         'min_samples_split': range(1000, 2100, 200)},\n",
              "             pre_dispatch='2*n_jobs', refit=True, return_train_score=False,\n",
              "             scoring='neg_root_mean_squared_error', verbose=0)"
            ]
          },
          "metadata": {
            "tags": []
          },
          "execution_count": 274
        }
      ]
    },
    {
      "cell_type": "code",
      "metadata": {
        "colab": {
          "base_uri": "https://localhost:8080/"
        },
        "id": "cfgPaMfiTy4d",
        "outputId": "658d9803-3757-4d1a-f24d-b15c0b662246"
      },
      "source": [
        "gsearch3.cv_results_, gsearch3.best_params_, gsearch3.best_score_"
      ],
      "execution_count": null,
      "outputs": [
        {
          "output_type": "execute_result",
          "data": {
            "text/plain": [
              "({'mean_fit_time': array([0.47581406, 0.47548556, 0.4463973 , 0.43245611, 0.43916793,\n",
              "         0.38621421, 0.47116785, 0.45802379, 0.44490728, 0.42158146,\n",
              "         0.41561399, 0.38925343, 0.47273388, 0.46049004, 0.44888153,\n",
              "         0.4340517 , 0.39299145, 0.38367715, 0.47551093, 0.46445742,\n",
              "         0.44245906, 0.41939096, 0.4431664 , 0.37986579, 0.47419109,\n",
              "         0.47607603, 0.44806476, 0.44947457, 0.39131665, 0.3318089 ]),\n",
              "  'mean_score_time': array([0.00659399, 0.00946774, 0.00879803, 0.00711923, 0.01103053,\n",
              "         0.00744982, 0.0111526 , 0.00987763, 0.01081648, 0.00921898,\n",
              "         0.00454273, 0.00874972, 0.00822296, 0.01003032, 0.00737085,\n",
              "         0.00498881, 0.00509028, 0.01046247, 0.0068469 , 0.00408602,\n",
              "         0.00819926, 0.00845938, 0.00502763, 0.00925641, 0.00827432,\n",
              "         0.00801916, 0.00935316, 0.00722661, 0.00913606, 0.00589638]),\n",
              "  'mean_test_score': array([-1078.00468717, -1083.96814686, -1087.77958825, -1095.25229269,\n",
              "         -1092.44182857, -1096.35056532, -1078.74917306, -1083.29076094,\n",
              "         -1086.79799075, -1094.77649543, -1093.10236042, -1096.57396031,\n",
              "         -1079.18415145, -1083.3077683 , -1088.10905377, -1095.28161541,\n",
              "         -1093.54517131, -1097.63262313, -1079.23135865, -1083.31541778,\n",
              "         -1088.15360957, -1095.55482219, -1093.81186672, -1096.61131488,\n",
              "         -1078.89240881, -1083.45355353, -1087.55182096, -1095.25584187,\n",
              "         -1093.40102436, -1095.53618594]),\n",
              "  'param_min_samples_leaf': masked_array(data=[30, 30, 30, 30, 30, 30, 40, 40, 40, 40, 40, 40, 50, 50,\n",
              "                     50, 50, 50, 50, 60, 60, 60, 60, 60, 60, 70, 70, 70, 70,\n",
              "                     70, 70],\n",
              "               mask=[False, False, False, False, False, False, False, False,\n",
              "                     False, False, False, False, False, False, False, False,\n",
              "                     False, False, False, False, False, False, False, False,\n",
              "                     False, False, False, False, False, False],\n",
              "         fill_value='?',\n",
              "              dtype=object),\n",
              "  'param_min_samples_split': masked_array(data=[1000, 1200, 1400, 1600, 1800, 2000, 1000, 1200, 1400,\n",
              "                     1600, 1800, 2000, 1000, 1200, 1400, 1600, 1800, 2000,\n",
              "                     1000, 1200, 1400, 1600, 1800, 2000, 1000, 1200, 1400,\n",
              "                     1600, 1800, 2000],\n",
              "               mask=[False, False, False, False, False, False, False, False,\n",
              "                     False, False, False, False, False, False, False, False,\n",
              "                     False, False, False, False, False, False, False, False,\n",
              "                     False, False, False, False, False, False],\n",
              "         fill_value='?',\n",
              "              dtype=object),\n",
              "  'params': [{'min_samples_leaf': 30, 'min_samples_split': 1000},\n",
              "   {'min_samples_leaf': 30, 'min_samples_split': 1200},\n",
              "   {'min_samples_leaf': 30, 'min_samples_split': 1400},\n",
              "   {'min_samples_leaf': 30, 'min_samples_split': 1600},\n",
              "   {'min_samples_leaf': 30, 'min_samples_split': 1800},\n",
              "   {'min_samples_leaf': 30, 'min_samples_split': 2000},\n",
              "   {'min_samples_leaf': 40, 'min_samples_split': 1000},\n",
              "   {'min_samples_leaf': 40, 'min_samples_split': 1200},\n",
              "   {'min_samples_leaf': 40, 'min_samples_split': 1400},\n",
              "   {'min_samples_leaf': 40, 'min_samples_split': 1600},\n",
              "   {'min_samples_leaf': 40, 'min_samples_split': 1800},\n",
              "   {'min_samples_leaf': 40, 'min_samples_split': 2000},\n",
              "   {'min_samples_leaf': 50, 'min_samples_split': 1000},\n",
              "   {'min_samples_leaf': 50, 'min_samples_split': 1200},\n",
              "   {'min_samples_leaf': 50, 'min_samples_split': 1400},\n",
              "   {'min_samples_leaf': 50, 'min_samples_split': 1600},\n",
              "   {'min_samples_leaf': 50, 'min_samples_split': 1800},\n",
              "   {'min_samples_leaf': 50, 'min_samples_split': 2000},\n",
              "   {'min_samples_leaf': 60, 'min_samples_split': 1000},\n",
              "   {'min_samples_leaf': 60, 'min_samples_split': 1200},\n",
              "   {'min_samples_leaf': 60, 'min_samples_split': 1400},\n",
              "   {'min_samples_leaf': 60, 'min_samples_split': 1600},\n",
              "   {'min_samples_leaf': 60, 'min_samples_split': 1800},\n",
              "   {'min_samples_leaf': 60, 'min_samples_split': 2000},\n",
              "   {'min_samples_leaf': 70, 'min_samples_split': 1000},\n",
              "   {'min_samples_leaf': 70, 'min_samples_split': 1200},\n",
              "   {'min_samples_leaf': 70, 'min_samples_split': 1400},\n",
              "   {'min_samples_leaf': 70, 'min_samples_split': 1600},\n",
              "   {'min_samples_leaf': 70, 'min_samples_split': 1800},\n",
              "   {'min_samples_leaf': 70, 'min_samples_split': 2000}],\n",
              "  'rank_test_score': array([ 1, 10, 13, 22, 16, 27,  2,  6, 11, 21, 17, 28,  4,  7, 14, 24, 19,\n",
              "         30,  5,  8, 15, 26, 20, 29,  3,  9, 12, 23, 18, 25], dtype=int32),\n",
              "  'split0_test_score': array([-1132.31786525, -1138.25143892, -1140.17803739, -1150.0578381 ,\n",
              "         -1152.94425505, -1157.76034451, -1132.44545594, -1137.77637351,\n",
              "         -1137.42081845, -1151.00752026, -1155.56278378, -1157.24700192,\n",
              "         -1133.66535214, -1136.18675375, -1137.67564808, -1150.4072345 ,\n",
              "         -1153.79381026, -1156.96509566, -1133.50095248, -1136.66128476,\n",
              "         -1138.35845582, -1150.51726532, -1154.15579995, -1159.36442693,\n",
              "         -1132.10812069, -1136.4498084 , -1137.64846408, -1148.55488979,\n",
              "         -1153.75291169, -1158.3569871 ]),\n",
              "  'split1_test_score': array([-1096.63285566, -1100.88959176, -1106.15739863, -1111.60702654,\n",
              "         -1110.89292398, -1113.66487262, -1097.09933263, -1100.84300771,\n",
              "         -1104.961083  , -1111.73412009, -1109.87742581, -1114.66913158,\n",
              "         -1096.74068554, -1101.38981702, -1104.36306349, -1111.9295984 ,\n",
              "         -1109.68362256, -1114.26508674, -1096.86034457, -1101.56144731,\n",
              "         -1106.25281026, -1112.97220892, -1113.8173483 , -1115.15124252,\n",
              "         -1096.10592318, -1099.79032866, -1105.99700375, -1110.7275942 ,\n",
              "         -1114.08519264, -1115.11215253]),\n",
              "  'split2_test_score': array([-1056.77838447, -1059.22308646, -1060.89985154, -1072.20928685,\n",
              "         -1071.80602303, -1069.65819493, -1055.78821175, -1058.05111995,\n",
              "         -1059.99186581, -1071.86119336, -1072.29297805, -1069.66687496,\n",
              "         -1055.31695071, -1057.12296168, -1061.92293917, -1072.15145003,\n",
              "         -1075.91348221, -1070.71261322, -1055.5171328 , -1056.12433204,\n",
              "         -1060.34095016, -1070.48674078, -1073.13458889, -1071.12303812,\n",
              "         -1055.58291175, -1057.51093038, -1060.5166333 , -1072.93997821,\n",
              "         -1067.615384  , -1069.94093186]),\n",
              "  'split3_test_score': array([-1079.86002311, -1089.43051982, -1097.6119564 , -1101.74595795,\n",
              "         -1096.46841346, -1103.53877423, -1080.38545041, -1088.07983797,\n",
              "         -1099.4691306 , -1098.57723785, -1094.95533538, -1103.54222709,\n",
              "         -1084.20095874, -1091.45254238, -1102.06680681, -1099.87105051,\n",
              "         -1096.18568085, -1104.52149102, -1083.90731733, -1090.13936971,\n",
              "         -1100.19904583, -1100.26456835, -1095.95523148, -1095.7190378 ,\n",
              "         -1083.84556704, -1090.81458262, -1097.60236341, -1102.93966655,\n",
              "         -1098.12076021, -1095.50325732]),\n",
              "  'split4_test_score': array([-1024.43430738, -1032.04609736, -1034.05069731, -1040.641354  ,\n",
              "         -1030.09752735, -1037.13064031, -1028.02741458, -1031.70346557,\n",
              "         -1032.14705587, -1040.7024056 , -1032.82327907, -1037.74456601,\n",
              "         -1025.99681009, -1030.38676664, -1034.51681128, -1042.04874362,\n",
              "         -1032.14926069, -1041.69882904, -1026.37104606, -1032.0906551 ,\n",
              "         -1035.6167858 , -1043.53332758, -1031.99636498, -1041.69882904,\n",
              "         -1026.81952139, -1032.70211759, -1035.99464027, -1041.11708059,\n",
              "         -1033.43087327, -1038.76760088]),\n",
              "  'std_fit_time': array([0.00414529, 0.01750317, 0.01151633, 0.09863133, 0.07779402,\n",
              "         0.02838629, 0.05192454, 0.00571028, 0.00992817, 0.00805472,\n",
              "         0.00887734, 0.00965693, 0.00456835, 0.00464927, 0.02749851,\n",
              "         0.03426223, 0.02654991, 0.01936694, 0.09515771, 0.00559952,\n",
              "         0.00619659, 0.00899705, 0.03027814, 0.03312869, 0.00868299,\n",
              "         0.01129951, 0.01721725, 0.06260296, 0.06408926, 0.07294838]),\n",
              "  'std_score_time': array([0.00327742, 0.00464028, 0.00427422, 0.00431201, 0.00209802,\n",
              "         0.00327523, 0.00471045, 0.00320154, 0.00450828, 0.00269547,\n",
              "         0.0019696 , 0.00486628, 0.00342686, 0.00632451, 0.00460402,\n",
              "         0.00280478, 0.0027265 , 0.0042651 , 0.00349149, 0.00036178,\n",
              "         0.00288896, 0.00281461, 0.00278517, 0.00313552, 0.00332134,\n",
              "         0.00253132, 0.00276267, 0.00303136, 0.00270265, 0.00368623]),\n",
              "  'std_test_score': array([36.38877234, 36.25207815, 36.84923559, 36.95031139, 40.81629156,\n",
              "         40.84629413, 35.56008741, 36.32626357, 36.76525372, 37.18347238,\n",
              "         40.62693408, 40.600736  , 36.60638749, 36.53973576, 35.98249582,\n",
              "         36.62183862, 39.94409768, 39.23700778, 36.42639621, 36.30040466,\n",
              "         36.1299379 , 36.55423869, 40.7306019 , 39.86856281, 35.79851701,\n",
              "         35.71667943, 35.60886428, 36.24419411, 40.87488055, 40.5153351 ])},\n",
              " {'min_samples_leaf': 30, 'min_samples_split': 1000},\n",
              " -1078.0046871728323)"
            ]
          },
          "metadata": {
            "tags": []
          },
          "execution_count": 275
        }
      ]
    },
    {
      "cell_type": "code",
      "metadata": {
        "colab": {
          "base_uri": "https://localhost:8080/",
          "height": 457
        },
        "id": "VTFCocNMTu9R",
        "outputId": "8eb71f7b-842c-4b9a-9782-464896bd6fea"
      },
      "source": [
        "modelfit(gsearch3.best_estimator_, train_x ,train_y)"
      ],
      "execution_count": null,
      "outputs": [
        {
          "output_type": "stream",
          "text": [
            "/nModel Report\n",
            "RMSE : 1058\n",
            "CV Score : Mean - -1078.005 | Std - 36.38877 | Min - -1132.318 | Max - -1024.434\n"
          ],
          "name": "stdout"
        },
        {
          "output_type": "display_data",
          "data": {
            "image/png": "[encoded data removed]",
            "text/plain": [
              "<Figure size 864x288 with 1 Axes>"
            ]
          },
          "metadata": {
            "tags": [],
            "needs_background": "light"
          }
        }
      ]
    },
    {
      "cell_type": "code",
      "metadata": {
        "id": "njIRpFWyWV27",
        "colab": {
          "base_uri": "https://localhost:8080/",
          "height": 221
        },
        "outputId": "59305a9e-8546-44ae-fafb-fdb547abf0c0"
      },
      "source": [
        "predictors = [x for x in train_x.columns if x not in [IDcol]]"
      ],
      "execution_count": null,
      "outputs": [
        {
          "output_type": "error",
          "ename": "NameError",
          "evalue": "ignored",
          "traceback": [
            "\u001b[0;31m---------------------------------------------------------------------------\u001b[0m",
            "\u001b[0;31mNameError\u001b[0m                                 Traceback (most recent call last)",
            "\u001b[0;32m<ipython-input-277-e7507e5e453e>\u001b[0m in \u001b[0;36m<module>\u001b[0;34m()\u001b[0m\n\u001b[0;32m----> 1\u001b[0;31m \u001b[0mpredictors\u001b[0m \u001b[0;34m=\u001b[0m \u001b[0;34m[\u001b[0m\u001b[0mx\u001b[0m \u001b[0;32mfor\u001b[0m \u001b[0mx\u001b[0m \u001b[0;32min\u001b[0m \u001b[0mtrain_x\u001b[0m\u001b[0;34m.\u001b[0m\u001b[0mcolumns\u001b[0m \u001b[0;32mif\u001b[0m \u001b[0mx\u001b[0m \u001b[0;32mnot\u001b[0m \u001b[0;32min\u001b[0m \u001b[0;34m[\u001b[0m\u001b[0mIDcol\u001b[0m\u001b[0;34m]\u001b[0m\u001b[0;34m]\u001b[0m\u001b[0;34m\u001b[0m\u001b[0;34m\u001b[0m\u001b[0m\n\u001b[0m",
            "\u001b[0;32m<ipython-input-277-e7507e5e453e>\u001b[0m in \u001b[0;36m<listcomp>\u001b[0;34m(.0)\u001b[0m\n\u001b[0;32m----> 1\u001b[0;31m \u001b[0mpredictors\u001b[0m \u001b[0;34m=\u001b[0m \u001b[0;34m[\u001b[0m\u001b[0mx\u001b[0m \u001b[0;32mfor\u001b[0m \u001b[0mx\u001b[0m \u001b[0;32min\u001b[0m \u001b[0mtrain_x\u001b[0m\u001b[0;34m.\u001b[0m\u001b[0mcolumns\u001b[0m \u001b[0;32mif\u001b[0m \u001b[0mx\u001b[0m \u001b[0;32mnot\u001b[0m \u001b[0;32min\u001b[0m \u001b[0;34m[\u001b[0m\u001b[0mIDcol\u001b[0m\u001b[0;34m]\u001b[0m\u001b[0;34m]\u001b[0m\u001b[0;34m\u001b[0m\u001b[0;34m\u001b[0m\u001b[0m\n\u001b[0m",
            "\u001b[0;31mNameError\u001b[0m: name 'IDcol' is not defined"
          ]
        }
      ]
    },
    {
      "cell_type": "code",
      "metadata": {
        "id": "XZ1C3XC7Wsuy",
        "colab": {
          "base_uri": "https://localhost:8080/"
        },
        "outputId": "654416e6-be73-4203-e503-e8b1438305fc"
      },
      "source": [
        "param_test4 = {'max_features':range(7,20,2)}\n",
        "gsearch4 = GridSearchCV(estimator = GradientBoostingRegressor(learning_rate=0.1, n_estimators=60,max_depth=9, min_samples_split=1200, min_samples_leaf=60, subsample=0.8, random_state=10),\n",
        "param_grid = param_test4, scoring='neg_root_mean_squared_error',n_jobs=4,cv=5)\n",
        "gsearch4.fit(train_x,train_y)\n"
      ],
      "execution_count": null,
      "outputs": [
        {
          "output_type": "execute_result",
          "data": {
            "text/plain": [
              "GridSearchCV(cv=5, error_score=nan,\n",
              "             estimator=GradientBoostingRegressor(alpha=0.9, ccp_alpha=0.0,\n",
              "                                                 criterion='friedman_mse',\n",
              "                                                 init=None, learning_rate=0.1,\n",
              "                                                 loss='ls', max_depth=9,\n",
              "                                                 max_features=None,\n",
              "                                                 max_leaf_nodes=None,\n",
              "                                                 min_impurity_decrease=0.0,\n",
              "                                                 min_impurity_split=None,\n",
              "                                                 min_samples_leaf=60,\n",
              "                                                 min_samples_split=1200,\n",
              "                                                 min_weight_fraction_leaf=0.0,\n",
              "                                                 n_estimators=60,\n",
              "                                                 n_iter_no_change=None,\n",
              "                                                 presort='deprecated',\n",
              "                                                 random_state=10, subsample=0.8,\n",
              "                                                 tol=0.0001,\n",
              "                                                 validation_fraction=0.1,\n",
              "                                                 verbose=0, warm_start=False),\n",
              "             iid='deprecated', n_jobs=4,\n",
              "             param_grid={'max_features': range(7, 20, 2)},\n",
              "             pre_dispatch='2*n_jobs', refit=True, return_train_score=False,\n",
              "             scoring='neg_root_mean_squared_error', verbose=0)"
            ]
          },
          "metadata": {
            "tags": []
          },
          "execution_count": 278
        }
      ]
    },
    {
      "cell_type": "code",
      "metadata": {
        "id": "x_OLNvOVXF7B",
        "colab": {
          "base_uri": "https://localhost:8080/"
        },
        "outputId": "5636df1d-9a7c-49c8-98a3-4a7c7f6880c6"
      },
      "source": [
        "gsearch4.cv_results_, gsearch4.best_params_, gsearch4.best_score_"
      ],
      "execution_count": null,
      "outputs": [
        {
          "output_type": "execute_result",
          "data": {
            "text/plain": [
              "({'mean_fit_time': array([0.97735105, 1.29039402, 1.37475343, 0.00482845, 0.00536051,\n",
              "         0.01117988, 0.00914745]),\n",
              "  'mean_score_time': array([0.01088977, 0.0121347 , 0.00632071, 0.        , 0.        ,\n",
              "         0.        , 0.        ]),\n",
              "  'mean_test_score': array([-1079.59155131, -1075.97289   , -1075.27965305,            nan,\n",
              "                    nan,            nan,            nan]),\n",
              "  'param_max_features': masked_array(data=[7, 9, 11, 13, 15, 17, 19],\n",
              "               mask=[False, False, False, False, False, False, False],\n",
              "         fill_value='?',\n",
              "              dtype=object),\n",
              "  'params': [{'max_features': 7},\n",
              "   {'max_features': 9},\n",
              "   {'max_features': 11},\n",
              "   {'max_features': 13},\n",
              "   {'max_features': 15},\n",
              "   {'max_features': 17},\n",
              "   {'max_features': 19}],\n",
              "  'rank_test_score': array([3, 2, 1, 4, 5, 6, 7], dtype=int32),\n",
              "  'split0_test_score': array([-1132.6757142 , -1131.99652842, -1129.58195269,            nan,\n",
              "                    nan,            nan,            nan]),\n",
              "  'split1_test_score': array([-1108.37084673, -1100.51436778, -1104.43645328,            nan,\n",
              "                    nan,            nan,            nan]),\n",
              "  'split2_test_score': array([-1056.31802927, -1049.66207714, -1049.26177265,            nan,\n",
              "                    nan,            nan,            nan]),\n",
              "  'split3_test_score': array([-1077.42634145, -1076.86743974, -1074.51316871,            nan,\n",
              "                    nan,            nan,            nan]),\n",
              "  'split4_test_score': array([-1023.16682489, -1020.82403692, -1018.60491791,            nan,\n",
              "                    nan,            nan,            nan]),\n",
              "  'std_fit_time': array([0.11630284, 0.16782207, 0.20621011, 0.00293274, 0.00359296,\n",
              "         0.00390461, 0.00251212]),\n",
              "  'std_score_time': array([0.00441139, 0.00456118, 0.00316126, 0.        , 0.        ,\n",
              "         0.        , 0.        ]),\n",
              "  'std_test_score': array([38.40903776, 38.66623147, 39.21326803,         nan,         nan,\n",
              "                 nan,         nan])},\n",
              " {'max_features': 11},\n",
              " -1075.2796530481503)"
            ]
          },
          "metadata": {
            "tags": []
          },
          "execution_count": 279
        }
      ]
    },
    {
      "cell_type": "code",
      "metadata": {
        "id": "-IRdJGYLfInB"
      },
      "source": [
        "save_pickle(path/'model_xg_pkl',gsearch4.best_estimator_)"
      ],
      "execution_count": null,
      "outputs": []
    },
    {
      "cell_type": "code",
      "metadata": {
        "id": "LalipQ7ZzO9V"
      },
      "source": [
        "model_gbm = load_pickle(path/'model_xg_pkl')"
      ],
      "execution_count": null,
      "outputs": []
    },
    {
      "cell_type": "code",
      "metadata": {
        "id": "GhdUhrThzX8-"
      },
      "source": [
        "pred_xg=model_gbm.predict(test_x)"
      ],
      "execution_count": null,
      "outputs": []
    },
    {
      "cell_type": "code",
      "metadata": {
        "id": "jxGOz2AwG98T"
      },
      "source": [
        "pred_xg=gsearch4.best_estimator_.predict(test_x)"
      ],
      "execution_count": null,
      "outputs": []
    },
    {
      "cell_type": "code",
      "metadata": {
        "colab": {
          "base_uri": "https://localhost:8080/"
        },
        "id": "OFD_NPa9HM-j",
        "outputId": "5a2793c3-3092-40f4-ad8e-3cde64b4db0d"
      },
      "source": [
        "pred_xg"
      ],
      "execution_count": null,
      "outputs": [
        {
          "output_type": "execute_result",
          "data": {
            "text/plain": [
              "array([1750.7870877 , 1421.1382474 ,  603.72238091, ..., 1785.90634199,\n",
              "       3658.06920417, 1229.49550917])"
            ]
          },
          "metadata": {
            "tags": []
          },
          "execution_count": 202
        }
      ]
    },
    {
      "cell_type": "code",
      "metadata": {
        "id": "H9A_RbjnHUQM"
      },
      "source": [
        "df_test['Item_Outlet_Sales']=pred_xg"
      ],
      "execution_count": null,
      "outputs": []
    },
    {
      "cell_type": "code",
      "metadata": {
        "id": "k9pKLJ5wHdcl"
      },
      "source": [
        "result_xg=df_test.loc[:,['Item_Identifier','Outlet_Identifier','Item_Outlet_Sales']]"
      ],
      "execution_count": null,
      "outputs": []
    },
    {
      "cell_type": "code",
      "metadata": {
        "id": "d3XmRRmtHdco"
      },
      "source": [
        "result_xg.to_csv(path/'submit_xg.csv',index=False)"
      ],
      "execution_count": null,
      "outputs": []
    },
    {
      "cell_type": "markdown",
      "metadata": {
        "id": "NRaD_4lndJSm"
      },
      "source": [
        "# Usamos NeuralNetwork como modelo"
      ]
    },
    {
      "cell_type": "code",
      "metadata": {
        "id": "Jd3aP_dxxuVY"
      },
      "source": [
        "#to_nn=load_pickle(path/'to_full_nor.pkl')\n",
        "#to_nn=load_pickle(path/'to_opt_nor.pkl')\n",
        "to_nn = load_pickle(path/'to_mod.pkl')"
      ],
      "execution_count": null,
      "outputs": []
    },
    {
      "cell_type": "code",
      "metadata": {
        "colab": {
          "base_uri": "https://localhost:8080/",
          "height": 414
        },
        "id": "pkgGCvxGgq8U",
        "outputId": "4eef727d-fc19-42bb-bfa0-b0ce3ea453bf"
      },
      "source": [
        "to_nn.items"
      ],
      "execution_count": null,
      "outputs": [
        {
          "output_type": "execute_result",
          "data": {
            "text/html": [
              "<div>\n",
              "<style scoped>\n",
              "    .dataframe tbody tr th:only-of-type {\n",
              "        vertical-align: middle;\n",
              "    }\n",
              "\n",
              "    .dataframe tbody tr th {\n",
              "        vertical-align: top;\n",
              "    }\n",
              "\n",
              "    .dataframe thead th {\n",
              "        text-align: right;\n",
              "    }\n",
              "</style>\n",
              "<table border=\"1\" class=\"dataframe\">\n",
              "  <thead>\n",
              "    <tr style=\"text-align: right;\">\n",
              "      <th></th>\n",
              "      <th>Item_Identifier</th>\n",
              "      <th>Item_Weight</th>\n",
              "      <th>Item_Fat_Content</th>\n",
              "      <th>Item_Visibility</th>\n",
              "      <th>...</th>\n",
              "      <th>Outlet_Location_Type</th>\n",
              "      <th>Outlet_Type</th>\n",
              "      <th>Item_Outlet_Sales</th>\n",
              "      <th>Item_Weight_na</th>\n",
              "    </tr>\n",
              "  </thead>\n",
              "  <tbody>\n",
              "    <tr>\n",
              "      <th>7361</th>\n",
              "      <td>315</td>\n",
              "      <td>15.200</td>\n",
              "      <td>3</td>\n",
              "      <td>0.104365</td>\n",
              "      <td>...</td>\n",
              "      <td>2</td>\n",
              "      <td>2</td>\n",
              "      <td>3151.897217</td>\n",
              "      <td>1</td>\n",
              "    </tr>\n",
              "    <tr>\n",
              "      <th>1517</th>\n",
              "      <td>1486</td>\n",
              "      <td>12.850</td>\n",
              "      <td>2</td>\n",
              "      <td>0.053527</td>\n",
              "      <td>...</td>\n",
              "      <td>1</td>\n",
              "      <td>2</td>\n",
              "      <td>2388.890381</td>\n",
              "      <td>1</td>\n",
              "    </tr>\n",
              "    <tr>\n",
              "      <th>3603</th>\n",
              "      <td>986</td>\n",
              "      <td>12.150</td>\n",
              "      <td>2</td>\n",
              "      <td>0.036361</td>\n",
              "      <td>...</td>\n",
              "      <td>3</td>\n",
              "      <td>1</td>\n",
              "      <td>330.236786</td>\n",
              "      <td>1</td>\n",
              "    </tr>\n",
              "    <tr>\n",
              "      <th>2243</th>\n",
              "      <td>1133</td>\n",
              "      <td>7.365</td>\n",
              "      <td>2</td>\n",
              "      <td>0.042801</td>\n",
              "      <td>...</td>\n",
              "      <td>2</td>\n",
              "      <td>2</td>\n",
              "      <td>2037.348022</td>\n",
              "      <td>1</td>\n",
              "    </tr>\n",
              "    <tr>\n",
              "      <th>3907</th>\n",
              "      <td>706</td>\n",
              "      <td>13.500</td>\n",
              "      <td>3</td>\n",
              "      <td>0.017887</td>\n",
              "      <td>...</td>\n",
              "      <td>1</td>\n",
              "      <td>2</td>\n",
              "      <td>1438.128052</td>\n",
              "      <td>1</td>\n",
              "    </tr>\n",
              "    <tr>\n",
              "      <th>...</th>\n",
              "      <td>...</td>\n",
              "      <td>...</td>\n",
              "      <td>...</td>\n",
              "      <td>...</td>\n",
              "      <td>...</td>\n",
              "      <td>...</td>\n",
              "      <td>...</td>\n",
              "      <td>...</td>\n",
              "      <td>...</td>\n",
              "    </tr>\n",
              "    <tr>\n",
              "      <th>5803</th>\n",
              "      <td>1145</td>\n",
              "      <td>6.195</td>\n",
              "      <td>2</td>\n",
              "      <td>0.072279</td>\n",
              "      <td>...</td>\n",
              "      <td>3</td>\n",
              "      <td>3</td>\n",
              "      <td>1807.646973</td>\n",
              "      <td>1</td>\n",
              "    </tr>\n",
              "    <tr>\n",
              "      <th>7261</th>\n",
              "      <td>63</td>\n",
              "      <td>7.810</td>\n",
              "      <td>2</td>\n",
              "      <td>0.067837</td>\n",
              "      <td>...</td>\n",
              "      <td>2</td>\n",
              "      <td>2</td>\n",
              "      <td>5375.669434</td>\n",
              "      <td>1</td>\n",
              "    </tr>\n",
              "    <tr>\n",
              "      <th>7221</th>\n",
              "      <td>757</td>\n",
              "      <td>12.600</td>\n",
              "      <td>2</td>\n",
              "      <td>0.156304</td>\n",
              "      <td>...</td>\n",
              "      <td>1</td>\n",
              "      <td>1</td>\n",
              "      <td>255.667206</td>\n",
              "      <td>2</td>\n",
              "    </tr>\n",
              "    <tr>\n",
              "      <th>4149</th>\n",
              "      <td>483</td>\n",
              "      <td>5.590</td>\n",
              "      <td>3</td>\n",
              "      <td>0.056603</td>\n",
              "      <td>...</td>\n",
              "      <td>1</td>\n",
              "      <td>2</td>\n",
              "      <td>1725.753540</td>\n",
              "      <td>1</td>\n",
              "    </tr>\n",
              "    <tr>\n",
              "      <th>2886</th>\n",
              "      <td>1000</td>\n",
              "      <td>18.850</td>\n",
              "      <td>2</td>\n",
              "      <td>0.036111</td>\n",
              "      <td>...</td>\n",
              "      <td>2</td>\n",
              "      <td>2</td>\n",
              "      <td>1185.124023</td>\n",
              "      <td>1</td>\n",
              "    </tr>\n",
              "  </tbody>\n",
              "</table>\n",
              "<p>8523 rows × 13 columns</p>\n",
              "</div>"
            ],
            "text/plain": [
              "      Item_Identifier  Item_Weight  Item_Fat_Content  Item_Visibility  ...  \\\n",
              "7361              315       15.200                 3         0.104365  ...   \n",
              "1517             1486       12.850                 2         0.053527  ...   \n",
              "3603              986       12.150                 2         0.036361  ...   \n",
              "2243             1133        7.365                 2         0.042801  ...   \n",
              "3907              706       13.500                 3         0.017887  ...   \n",
              "...               ...          ...               ...              ...  ...   \n",
              "5803             1145        6.195                 2         0.072279  ...   \n",
              "7261               63        7.810                 2         0.067837  ...   \n",
              "7221              757       12.600                 2         0.156304  ...   \n",
              "4149              483        5.590                 3         0.056603  ...   \n",
              "2886             1000       18.850                 2         0.036111  ...   \n",
              "\n",
              "      Outlet_Location_Type  Outlet_Type  Item_Outlet_Sales  Item_Weight_na  \n",
              "7361                     2            2        3151.897217               1  \n",
              "1517                     1            2        2388.890381               1  \n",
              "3603                     3            1         330.236786               1  \n",
              "2243                     2            2        2037.348022               1  \n",
              "3907                     1            2        1438.128052               1  \n",
              "...                    ...          ...                ...             ...  \n",
              "5803                     3            3        1807.646973               1  \n",
              "7261                     2            2        5375.669434               1  \n",
              "7221                     1            1         255.667206               2  \n",
              "4149                     1            2        1725.753540               1  \n",
              "2886                     2            2        1185.124023               1  \n",
              "\n",
              "[8523 rows x 13 columns]"
            ]
          },
          "metadata": {
            "tags": []
          },
          "execution_count": 296
        }
      ]
    },
    {
      "cell_type": "code",
      "metadata": {
        "id": "7ObV3LRAhPV1"
      },
      "source": [
        "to_nn.procs.add(Normalize())"
      ],
      "execution_count": null,
      "outputs": []
    },
    {
      "cell_type": "code",
      "metadata": {
        "id": "ocrL70eGgzoz"
      },
      "source": [
        "to.setup()"
      ],
      "execution_count": null,
      "outputs": []
    },
    {
      "cell_type": "code",
      "metadata": {
        "colab": {
          "base_uri": "https://localhost:8080/",
          "height": 414
        },
        "id": "CIsX1nQ3g8CE",
        "outputId": "089581b0-e57c-4e82-e2a7-010db4099801"
      },
      "source": [
        "to.items"
      ],
      "execution_count": null,
      "outputs": [
        {
          "output_type": "execute_result",
          "data": {
            "text/html": [
              "<div>\n",
              "<style scoped>\n",
              "    .dataframe tbody tr th:only-of-type {\n",
              "        vertical-align: middle;\n",
              "    }\n",
              "\n",
              "    .dataframe tbody tr th {\n",
              "        vertical-align: top;\n",
              "    }\n",
              "\n",
              "    .dataframe thead th {\n",
              "        text-align: right;\n",
              "    }\n",
              "</style>\n",
              "<table border=\"1\" class=\"dataframe\">\n",
              "  <thead>\n",
              "    <tr style=\"text-align: right;\">\n",
              "      <th></th>\n",
              "      <th>Item_Identifier</th>\n",
              "      <th>Item_Weight</th>\n",
              "      <th>Item_Fat_Content</th>\n",
              "      <th>Item_Visibility</th>\n",
              "      <th>...</th>\n",
              "      <th>Outlet_Location_Type</th>\n",
              "      <th>Outlet_Type</th>\n",
              "      <th>Item_Outlet_Sales</th>\n",
              "      <th>Item_Weight_na</th>\n",
              "    </tr>\n",
              "  </thead>\n",
              "  <tbody>\n",
              "    <tr>\n",
              "      <th>7361</th>\n",
              "      <td>0</td>\n",
              "      <td>15.200</td>\n",
              "      <td>0</td>\n",
              "      <td>0.104365</td>\n",
              "      <td>...</td>\n",
              "      <td>0</td>\n",
              "      <td>0</td>\n",
              "      <td>3151.897217</td>\n",
              "      <td>1</td>\n",
              "    </tr>\n",
              "    <tr>\n",
              "      <th>1517</th>\n",
              "      <td>0</td>\n",
              "      <td>12.850</td>\n",
              "      <td>0</td>\n",
              "      <td>0.053527</td>\n",
              "      <td>...</td>\n",
              "      <td>0</td>\n",
              "      <td>0</td>\n",
              "      <td>2388.890381</td>\n",
              "      <td>1</td>\n",
              "    </tr>\n",
              "    <tr>\n",
              "      <th>3603</th>\n",
              "      <td>0</td>\n",
              "      <td>12.150</td>\n",
              "      <td>0</td>\n",
              "      <td>0.036361</td>\n",
              "      <td>...</td>\n",
              "      <td>0</td>\n",
              "      <td>0</td>\n",
              "      <td>330.236786</td>\n",
              "      <td>1</td>\n",
              "    </tr>\n",
              "    <tr>\n",
              "      <th>2243</th>\n",
              "      <td>0</td>\n",
              "      <td>7.365</td>\n",
              "      <td>0</td>\n",
              "      <td>0.042801</td>\n",
              "      <td>...</td>\n",
              "      <td>0</td>\n",
              "      <td>0</td>\n",
              "      <td>2037.348022</td>\n",
              "      <td>1</td>\n",
              "    </tr>\n",
              "    <tr>\n",
              "      <th>3907</th>\n",
              "      <td>0</td>\n",
              "      <td>13.500</td>\n",
              "      <td>0</td>\n",
              "      <td>0.017887</td>\n",
              "      <td>...</td>\n",
              "      <td>0</td>\n",
              "      <td>0</td>\n",
              "      <td>1438.128052</td>\n",
              "      <td>1</td>\n",
              "    </tr>\n",
              "    <tr>\n",
              "      <th>...</th>\n",
              "      <td>...</td>\n",
              "      <td>...</td>\n",
              "      <td>...</td>\n",
              "      <td>...</td>\n",
              "      <td>...</td>\n",
              "      <td>...</td>\n",
              "      <td>...</td>\n",
              "      <td>...</td>\n",
              "      <td>...</td>\n",
              "    </tr>\n",
              "    <tr>\n",
              "      <th>5803</th>\n",
              "      <td>0</td>\n",
              "      <td>6.195</td>\n",
              "      <td>0</td>\n",
              "      <td>0.072279</td>\n",
              "      <td>...</td>\n",
              "      <td>0</td>\n",
              "      <td>0</td>\n",
              "      <td>1807.646973</td>\n",
              "      <td>1</td>\n",
              "    </tr>\n",
              "    <tr>\n",
              "      <th>7261</th>\n",
              "      <td>0</td>\n",
              "      <td>7.810</td>\n",
              "      <td>0</td>\n",
              "      <td>0.067837</td>\n",
              "      <td>...</td>\n",
              "      <td>0</td>\n",
              "      <td>0</td>\n",
              "      <td>5375.669434</td>\n",
              "      <td>1</td>\n",
              "    </tr>\n",
              "    <tr>\n",
              "      <th>7221</th>\n",
              "      <td>0</td>\n",
              "      <td>12.600</td>\n",
              "      <td>0</td>\n",
              "      <td>0.156304</td>\n",
              "      <td>...</td>\n",
              "      <td>0</td>\n",
              "      <td>0</td>\n",
              "      <td>255.667206</td>\n",
              "      <td>1</td>\n",
              "    </tr>\n",
              "    <tr>\n",
              "      <th>4149</th>\n",
              "      <td>0</td>\n",
              "      <td>5.590</td>\n",
              "      <td>0</td>\n",
              "      <td>0.056603</td>\n",
              "      <td>...</td>\n",
              "      <td>0</td>\n",
              "      <td>0</td>\n",
              "      <td>1725.753540</td>\n",
              "      <td>1</td>\n",
              "    </tr>\n",
              "    <tr>\n",
              "      <th>2886</th>\n",
              "      <td>0</td>\n",
              "      <td>18.850</td>\n",
              "      <td>0</td>\n",
              "      <td>0.036111</td>\n",
              "      <td>...</td>\n",
              "      <td>0</td>\n",
              "      <td>0</td>\n",
              "      <td>1185.124023</td>\n",
              "      <td>1</td>\n",
              "    </tr>\n",
              "  </tbody>\n",
              "</table>\n",
              "<p>8523 rows × 13 columns</p>\n",
              "</div>"
            ],
            "text/plain": [
              "      Item_Identifier  Item_Weight  Item_Fat_Content  Item_Visibility  ...  \\\n",
              "7361                0       15.200                 0         0.104365  ...   \n",
              "1517                0       12.850                 0         0.053527  ...   \n",
              "3603                0       12.150                 0         0.036361  ...   \n",
              "2243                0        7.365                 0         0.042801  ...   \n",
              "3907                0       13.500                 0         0.017887  ...   \n",
              "...               ...          ...               ...              ...  ...   \n",
              "5803                0        6.195                 0         0.072279  ...   \n",
              "7261                0        7.810                 0         0.067837  ...   \n",
              "7221                0       12.600                 0         0.156304  ...   \n",
              "4149                0        5.590                 0         0.056603  ...   \n",
              "2886                0       18.850                 0         0.036111  ...   \n",
              "\n",
              "      Outlet_Location_Type  Outlet_Type  Item_Outlet_Sales  Item_Weight_na  \n",
              "7361                     0            0        3151.897217               1  \n",
              "1517                     0            0        2388.890381               1  \n",
              "3603                     0            0         330.236786               1  \n",
              "2243                     0            0        2037.348022               1  \n",
              "3907                     0            0        1438.128052               1  \n",
              "...                    ...          ...                ...             ...  \n",
              "5803                     0            0        1807.646973               1  \n",
              "7261                     0            0        5375.669434               1  \n",
              "7221                     0            0         255.667206               1  \n",
              "4149                     0            0        1725.753540               1  \n",
              "2886                     0            0        1185.124023               1  \n",
              "\n",
              "[8523 rows x 13 columns]"
            ]
          },
          "metadata": {
            "tags": []
          },
          "execution_count": 302
        }
      ]
    },
    {
      "cell_type": "code",
      "metadata": {
        "id": "HkRdOw_cdPWU"
      },
      "source": [
        "dls = to_nn.dataloaders(64,set_seed=52)"
      ],
      "execution_count": null,
      "outputs": []
    },
    {
      "cell_type": "code",
      "metadata": {
        "colab": {
          "base_uri": "https://localhost:8080/"
        },
        "id": "rexTrRbYouZf",
        "outputId": "d8ff09c2-765f-4f2a-8824-07e562db36c1"
      },
      "source": [
        "to_nn.train.y.max(),to_nn.train.y.min(),"
      ],
      "execution_count": null,
      "outputs": [
        {
          "output_type": "execute_result",
          "data": {
            "text/plain": [
              "(13086.96484375, 33.290000915527344)"
            ]
          },
          "metadata": {
            "tags": []
          },
          "execution_count": 319
        }
      ]
    },
    {
      "cell_type": "code",
      "metadata": {
        "id": "X9eVyvw5dVWl"
      },
      "source": [
        "learn = tabular_learner(dls,layers=[200,100],metrics=rmse,y_range=[-100,15000.],wd=0.9)"
      ],
      "execution_count": null,
      "outputs": []
    },
    {
      "cell_type": "code",
      "metadata": {
        "id": "p6W-JLb61eFe"
      },
      "source": [
        "#learn.summary()"
      ],
      "execution_count": null,
      "outputs": []
    },
    {
      "cell_type": "code",
      "metadata": {
        "colab": {
          "base_uri": "https://localhost:8080/",
          "height": 312
        },
        "id": "N9kFs8drdgdV",
        "outputId": "1393b2e4-ef0e-44c2-cd12-0a58fcf9e086"
      },
      "source": [
        "learn.lr_find()"
      ],
      "execution_count": null,
      "outputs": [
        {
          "output_type": "display_data",
          "data": {
            "text/html": [
              ""
            ],
            "text/plain": [
              "<IPython.core.display.HTML object>"
            ]
          },
          "metadata": {
            "tags": []
          }
        },
        {
          "output_type": "execute_result",
          "data": {
            "text/plain": [
              "SuggestedLRs(valley=tensor(0.0063))"
            ]
          },
          "metadata": {
            "tags": []
          },
          "execution_count": 334
        },
        {
          "output_type": "display_data",
          "data": {
            "image/png": "[encoded data removed]",
            "text/plain": [
              "<Figure size 864x288 with 1 Axes>"
            ]
          },
          "metadata": {
            "tags": [],
            "needs_background": "light"
          }
        }
      ]
    },
    {
      "cell_type": "code",
      "metadata": {
        "colab": {
          "base_uri": "https://localhost:8080/",
          "height": 202
        },
        "id": "0gJlqyJbfEZE",
        "outputId": "6b1ce5fa-9ef2-4f38-94d9-5d22af294dd2"
      },
      "source": [
        "learn.fit_one_cycle(5,9e-4)"
      ],
      "execution_count": null,
      "outputs": [
        {
          "output_type": "display_data",
          "data": {
            "text/html": [
              "<table border=\"1\" class=\"dataframe\">\n",
              "  <thead>\n",
              "    <tr style=\"text-align: left;\">\n",
              "      <th>epoch</th>\n",
              "      <th>train_loss</th>\n",
              "      <th>valid_loss</th>\n",
              "      <th>_rmse</th>\n",
              "      <th>time</th>\n",
              "    </tr>\n",
              "  </thead>\n",
              "  <tbody>\n",
              "    <tr>\n",
              "      <td>0</td>\n",
              "      <td>828197.625000</td>\n",
              "      <td>1549979.250000</td>\n",
              "      <td>1244.981567</td>\n",
              "      <td>00:01</td>\n",
              "    </tr>\n",
              "    <tr>\n",
              "      <td>1</td>\n",
              "      <td>867461.500000</td>\n",
              "      <td>1476903.000000</td>\n",
              "      <td>1215.278931</td>\n",
              "      <td>00:01</td>\n",
              "    </tr>\n",
              "    <tr>\n",
              "      <td>2</td>\n",
              "      <td>804908.000000</td>\n",
              "      <td>1480990.375000</td>\n",
              "      <td>1216.959473</td>\n",
              "      <td>00:01</td>\n",
              "    </tr>\n",
              "    <tr>\n",
              "      <td>3</td>\n",
              "      <td>693819.062500</td>\n",
              "      <td>1628479.250000</td>\n",
              "      <td>1276.118774</td>\n",
              "      <td>00:01</td>\n",
              "    </tr>\n",
              "    <tr>\n",
              "      <td>4</td>\n",
              "      <td>617653.437500</td>\n",
              "      <td>1673061.875000</td>\n",
              "      <td>1293.468994</td>\n",
              "      <td>00:01</td>\n",
              "    </tr>\n",
              "  </tbody>\n",
              "</table>"
            ],
            "text/plain": [
              "<IPython.core.display.HTML object>"
            ]
          },
          "metadata": {
            "tags": []
          }
        }
      ]
    },
    {
      "cell_type": "code",
      "metadata": {
        "id": "jwYiQJIx8zT6",
        "colab": {
          "base_uri": "https://localhost:8080/"
        },
        "outputId": "1464e1f7-0702-4ba0-c95c-6edbf64114df"
      },
      "source": [
        "learn.save('model_nn3')"
      ],
      "execution_count": null,
      "outputs": [
        {
          "output_type": "execute_result",
          "data": {
            "text/plain": [
              "Path('models/model_nn3.pth')"
            ]
          },
          "metadata": {
            "tags": []
          },
          "execution_count": 300
        }
      ]
    },
    {
      "cell_type": "code",
      "metadata": {
        "colab": {
          "base_uri": "https://localhost:8080/"
        },
        "id": "WFb5QFYecCy8",
        "outputId": "e256ee55-7b01-497d-bfba-011c41a26890"
      },
      "source": [
        "learn.load('model_nn3')"
      ],
      "execution_count": null,
      "outputs": [
        {
          "output_type": "execute_result",
          "data": {
            "text/plain": [
              "<fastai.tabular.learner.TabularLearner at 0x7f5adab84c90>"
            ]
          },
          "metadata": {
            "tags": []
          },
          "execution_count": 301
        }
      ]
    },
    {
      "cell_type": "code",
      "metadata": {
        "id": "O6DJ3ANtfd6M",
        "colab": {
          "base_uri": "https://localhost:8080/",
          "height": 78
        },
        "outputId": "61101618-379d-43ac-edba-0c2ae0303f42"
      },
      "source": [
        "learn.fit_one_cycle(1,1e-1)"
      ],
      "execution_count": null,
      "outputs": [
        {
          "output_type": "display_data",
          "data": {
            "text/html": [
              "<table border=\"1\" class=\"dataframe\">\n",
              "  <thead>\n",
              "    <tr style=\"text-align: left;\">\n",
              "      <th>epoch</th>\n",
              "      <th>train_loss</th>\n",
              "      <th>valid_loss</th>\n",
              "      <th>_rmse</th>\n",
              "      <th>time</th>\n",
              "    </tr>\n",
              "  </thead>\n",
              "  <tbody>\n",
              "    <tr>\n",
              "      <td>0</td>\n",
              "      <td>7763880.500000</td>\n",
              "      <td>7505047.500000</td>\n",
              "      <td>2739.534180</td>\n",
              "      <td>00:01</td>\n",
              "    </tr>\n",
              "  </tbody>\n",
              "</table>"
            ],
            "text/plain": [
              "<IPython.core.display.HTML object>"
            ]
          },
          "metadata": {
            "tags": []
          }
        }
      ]
    },
    {
      "cell_type": "code",
      "metadata": {
        "id": "_MegnwHR9WYV"
      },
      "source": [
        "dl=learn.dls.test_dl(df1_test)"
      ],
      "execution_count": null,
      "outputs": []
    },
    {
      "cell_type": "code",
      "metadata": {
        "colab": {
          "base_uri": "https://localhost:8080/",
          "height": 16
        },
        "id": "yHK2Yi9JAq2T",
        "outputId": "f662d99f-7565-426b-fbf7-ad068191c637"
      },
      "source": [
        "pred,_=learn.get_preds(dl=dl)"
      ],
      "execution_count": null,
      "outputs": [
        {
          "output_type": "display_data",
          "data": {
            "text/html": [
              ""
            ],
            "text/plain": [
              "<IPython.core.display.HTML object>"
            ]
          },
          "metadata": {
            "tags": []
          }
        }
      ]
    },
    {
      "cell_type": "code",
      "metadata": {
        "colab": {
          "base_uri": "https://localhost:8080/"
        },
        "id": "r_VW7LyiBZPe",
        "outputId": "372c3c87-5a73-4232-9d98-66421a831e29"
      },
      "source": [
        "pred.numpy()"
      ],
      "execution_count": null,
      "outputs": [
        {
          "output_type": "execute_result",
          "data": {
            "text/plain": [
              "array([[1809.5634 ],\n",
              "       [1398.3076 ],\n",
              "       [ 489.10516],\n",
              "       ...,\n",
              "       [1838.5967 ],\n",
              "       [3862.3418 ],\n",
              "       [1268.1895 ]], dtype=float32)"
            ]
          },
          "metadata": {
            "tags": []
          },
          "execution_count": 304
        }
      ]
    },
    {
      "cell_type": "code",
      "metadata": {
        "id": "kZC7Lg3pAvww"
      },
      "source": [
        "df_test['Item_Outlet_Sales']=pred.numpy()"
      ],
      "execution_count": null,
      "outputs": []
    },
    {
      "cell_type": "code",
      "metadata": {
        "id": "zVnkRP-UBGVJ"
      },
      "source": [
        "result_nn=df_test.loc[:,['Item_Identifier','Outlet_Identifier','Item_Outlet_Sales']]"
      ],
      "execution_count": null,
      "outputs": []
    },
    {
      "cell_type": "code",
      "metadata": {
        "id": "_VyniNuHBGVo"
      },
      "source": [
        "result_nn.to_csv(path/'submit_nn3.csv',index=False)"
      ],
      "execution_count": null,
      "outputs": []
    },
    {
      "cell_type": "code",
      "metadata": {
        "colab": {
          "base_uri": "https://localhost:8080/",
          "height": 324
        },
        "id": "SVQGVl63w4KU",
        "outputId": "f866a769-9cad-4f7b-b11d-45470986b5c8"
      },
      "source": [
        "result_nn.loc[result_nn['Item_Outlet_Sales'] < 100]"
      ],
      "execution_count": null,
      "outputs": [
        {
          "output_type": "execute_result",
          "data": {
            "text/html": [
              "<div>\n",
              "<style scoped>\n",
              "    .dataframe tbody tr th:only-of-type {\n",
              "        vertical-align: middle;\n",
              "    }\n",
              "\n",
              "    .dataframe tbody tr th {\n",
              "        vertical-align: top;\n",
              "    }\n",
              "\n",
              "    .dataframe thead th {\n",
              "        text-align: right;\n",
              "    }\n",
              "</style>\n",
              "<table border=\"1\" class=\"dataframe\">\n",
              "  <thead>\n",
              "    <tr style=\"text-align: right;\">\n",
              "      <th></th>\n",
              "      <th>Item_Identifier</th>\n",
              "      <th>Outlet_Identifier</th>\n",
              "      <th>Item_Outlet_Sales</th>\n",
              "    </tr>\n",
              "  </thead>\n",
              "  <tbody>\n",
              "    <tr>\n",
              "      <th>30</th>\n",
              "      <td>NCR42</td>\n",
              "      <td>OUT019</td>\n",
              "      <td>82.219589</td>\n",
              "    </tr>\n",
              "    <tr>\n",
              "      <th>1294</th>\n",
              "      <td>FDD08</td>\n",
              "      <td>OUT019</td>\n",
              "      <td>98.126816</td>\n",
              "    </tr>\n",
              "    <tr>\n",
              "      <th>2167</th>\n",
              "      <td>FDG22</td>\n",
              "      <td>OUT019</td>\n",
              "      <td>96.694077</td>\n",
              "    </tr>\n",
              "    <tr>\n",
              "      <th>2179</th>\n",
              "      <td>FDQ47</td>\n",
              "      <td>OUT019</td>\n",
              "      <td>93.934692</td>\n",
              "    </tr>\n",
              "    <tr>\n",
              "      <th>2522</th>\n",
              "      <td>FDX59</td>\n",
              "      <td>OUT010</td>\n",
              "      <td>93.882858</td>\n",
              "    </tr>\n",
              "    <tr>\n",
              "      <th>2609</th>\n",
              "      <td>NCE31</td>\n",
              "      <td>OUT019</td>\n",
              "      <td>96.571274</td>\n",
              "    </tr>\n",
              "    <tr>\n",
              "      <th>2798</th>\n",
              "      <td>FDU15</td>\n",
              "      <td>OUT019</td>\n",
              "      <td>84.260498</td>\n",
              "    </tr>\n",
              "    <tr>\n",
              "      <th>4409</th>\n",
              "      <td>FDG59</td>\n",
              "      <td>OUT019</td>\n",
              "      <td>89.082993</td>\n",
              "    </tr>\n",
              "    <tr>\n",
              "      <th>5016</th>\n",
              "      <td>FDG40</td>\n",
              "      <td>OUT019</td>\n",
              "      <td>98.270172</td>\n",
              "    </tr>\n",
              "  </tbody>\n",
              "</table>\n",
              "</div>"
            ],
            "text/plain": [
              "     Item_Identifier Outlet_Identifier  Item_Outlet_Sales\n",
              "30             NCR42            OUT019          82.219589\n",
              "1294           FDD08            OUT019          98.126816\n",
              "2167           FDG22            OUT019          96.694077\n",
              "2179           FDQ47            OUT019          93.934692\n",
              "2522           FDX59            OUT010          93.882858\n",
              "2609           NCE31            OUT019          96.571274\n",
              "2798           FDU15            OUT019          84.260498\n",
              "4409           FDG59            OUT019          89.082993\n",
              "5016           FDG40            OUT019          98.270172"
            ]
          },
          "metadata": {
            "tags": []
          },
          "execution_count": 299
        }
      ]
    },
    {
      "cell_type": "markdown",
      "metadata": {
        "id": "QZRXI3dI2MEi"
      },
      "source": [
        "# Tratamiento de datos LUX"
      ]
    },
    {
      "cell_type": "code",
      "metadata": {
        "id": "qWNFeJ83fWDi"
      },
      "source": [
        "path= PosixPath('/content/drive/MyDrive/data/bigmartsales')\n"
      ],
      "execution_count": null,
      "outputs": []
    },
    {
      "cell_type": "code",
      "metadata": {
        "id": "TD78nMbcfQ5L"
      },
      "source": [
        "df1=pd.read_csv(path/'train.csv',delimiter=',')\n",
        "df1_test=pd.read_csv(path/'test.csv',delimiter=',')"
      ],
      "execution_count": null,
      "outputs": []
    },
    {
      "cell_type": "code",
      "metadata": {
        "id": "K6RTdjBtfgWi"
      },
      "source": [
        "# lo pasamos a string para que sea categorical\n",
        "df1['Outlet_Establishment_Year']=df1['Outlet_Establishment_Year'].astype('string')\n",
        "df1_test['Outlet_Establishment_Year']=df1_test['Outlet_Establishment_Year'].astype('string')"
      ],
      "execution_count": null,
      "outputs": []
    },
    {
      "cell_type": "code",
      "metadata": {
        "id": "CvZW20C0fouz"
      },
      "source": [
        "df1.drop(['Item_Identifier'],axis=1,inplace=True)\n",
        "df1_test.drop(['Item_Identifier'],axis=1,inplace=True)"
      ],
      "execution_count": null,
      "outputs": []
    },
    {
      "cell_type": "code",
      "metadata": {
        "id": "TCW8mXOzf5DC"
      },
      "source": [
        "#df1[\"Item_Outlet_Sales\"]=np.log(df1[\"Item_Outlet_Sales\"])\n"
      ],
      "execution_count": null,
      "outputs": []
    },
    {
      "cell_type": "code",
      "metadata": {
        "id": "OuWZl14YMOYI"
      },
      "source": [
        "def mapear(val):\n",
        "    if val == 0.0:\n",
        "        return 'None'\n",
        "    elif  (val > 0.0) & (val < 0.04):\n",
        "        return 'low'\n",
        "    elif  (val >= 0.04) & (val < 0.07):\n",
        "        return 'med'\n",
        "    elif (val >= 0.7) & (val < 0.13):\n",
        "        return 'high'\n",
        "    else:\n",
        "        return 'veryHigh'"
      ],
      "execution_count": null,
      "outputs": []
    },
    {
      "cell_type": "code",
      "metadata": {
        "id": "uc-7x0EPMW6g"
      },
      "source": [
        "df1['Item_Visibility_mod']=df1['Item_Visibility'].apply(lambda x: mapear(x))\n",
        "df1_test['Item_Visibility_mod']=df1_test['Item_Visibility'].apply(lambda x: mapear(x))"
      ],
      "execution_count": null,
      "outputs": []
    },
    {
      "cell_type": "code",
      "metadata": {
        "id": "YRnsxIfGMgDH"
      },
      "source": [
        "df1['Outlet_Size'].fillna('None',inplace=True)\n",
        "df1_test['Outlet_Size'].fillna('None',inplace=True)"
      ],
      "execution_count": null,
      "outputs": []
    },
    {
      "cell_type": "code",
      "metadata": {
        "id": "MzHj_24ZMktX"
      },
      "source": [
        ""
      ],
      "execution_count": null,
      "outputs": []
    },
    {
      "cell_type": "code",
      "metadata": {
        "id": "p5JtPsf2M0m7"
      },
      "source": [
        "dep_var='Item_Outlet_Sales'"
      ],
      "execution_count": null,
      "outputs": []
    },
    {
      "cell_type": "code",
      "metadata": {
        "id": "KH3dBBFwM0m9"
      },
      "source": [
        "cont,cat = cont_cat_split(df1,max_card=200,dep_var=dep_var)"
      ],
      "execution_count": null,
      "outputs": []
    },
    {
      "cell_type": "code",
      "metadata": {
        "id": "JIzl6x9hM0m-"
      },
      "source": [
        "splits = RandomSplitter()(range_of(df1))"
      ],
      "execution_count": null,
      "outputs": []
    },
    {
      "cell_type": "code",
      "metadata": {
        "id": "6DDdc2vRM0m_"
      },
      "source": [
        "procs=[Categorify,FillMissing,Normalize]\n",
        "to=TabularPandas(df1,procs=procs,cat_names=cat,cont_names=cont,y_names=dep_var,splits=splits)"
      ],
      "execution_count": null,
      "outputs": []
    },
    {
      "cell_type": "code",
      "metadata": {
        "colab": {
          "base_uri": "https://localhost:8080/"
        },
        "id": "nsCseOIWM-JP",
        "outputId": "b532363b-3ff6-4161-cbcf-cf5c6c4ad4ae"
      },
      "source": [
        "cat"
      ],
      "execution_count": null,
      "outputs": [
        {
          "output_type": "execute_result",
          "data": {
            "text/plain": [
              "['Item_Fat_Content',\n",
              " 'Item_Type',\n",
              " 'Outlet_Identifier',\n",
              " 'Outlet_Establishment_Year',\n",
              " 'Outlet_Size',\n",
              " 'Outlet_Location_Type',\n",
              " 'Outlet_Type',\n",
              " 'Item_Visibility_mod',\n",
              " 'Item_Weight_na']"
            ]
          },
          "metadata": {
            "tags": []
          },
          "execution_count": 61
        }
      ]
    },
    {
      "cell_type": "code",
      "metadata": {
        "id": "cVEYHXM8M_Vv"
      },
      "source": [
        "def rf(xs, y, n_estimators=40, max_samples=200,\n",
        "       max_features=0.5, min_samples_leaf=5, **kwargs):\n",
        "    return RandomForestRegressor(n_jobs=-1, n_estimators=n_estimators,\n",
        "        max_samples=max_samples, max_features=max_features,\n",
        "        min_samples_leaf=min_samples_leaf, oob_score=True).fit(xs, y)"
      ],
      "execution_count": null,
      "outputs": []
    },
    {
      "cell_type": "code",
      "metadata": {
        "id": "prZaHJJINEqR"
      },
      "source": [
        "train_x, train_y=to.train.xs,to.train.y\n",
        "valid_x,valid_y=to.valid.xs,to.valid.y"
      ],
      "execution_count": null,
      "outputs": []
    },
    {
      "cell_type": "code",
      "metadata": {
        "id": "mcU9ygrtNwqt"
      },
      "source": [
        "m_rf = rf(train_x, train_y);"
      ],
      "execution_count": null,
      "outputs": []
    },
    {
      "cell_type": "code",
      "metadata": {
        "colab": {
          "base_uri": "https://localhost:8080/",
          "height": 292
        },
        "id": "RYu8IXOyNJhH",
        "outputId": "afef7551-bef1-4dcd-ca95-d405fb5f5335"
      },
      "source": [
        "modelfit(m_rf, train_x,train_y)"
      ],
      "execution_count": null,
      "outputs": [
        {
          "output_type": "error",
          "ename": "NameError",
          "evalue": "ignored",
          "traceback": [
            "\u001b[0;31m---------------------------------------------------------------------------\u001b[0m",
            "\u001b[0;31mNameError\u001b[0m                                 Traceback (most recent call last)",
            "\u001b[0;32m<ipython-input-32-28ca4359cc3e>\u001b[0m in \u001b[0;36m<module>\u001b[0;34m()\u001b[0m\n\u001b[0;32m----> 1\u001b[0;31m \u001b[0mmodelfit\u001b[0m\u001b[0;34m(\u001b[0m\u001b[0mm_rf\u001b[0m\u001b[0;34m,\u001b[0m \u001b[0mtrain_x\u001b[0m\u001b[0;34m,\u001b[0m\u001b[0mtrain_y\u001b[0m\u001b[0;34m)\u001b[0m\u001b[0;34m\u001b[0m\u001b[0;34m\u001b[0m\u001b[0m\n\u001b[0m",
            "\u001b[0;32m<ipython-input-30-e6fff712c6d8>\u001b[0m in \u001b[0;36mmodelfit\u001b[0;34m(alg, X, y, performCV, printFeatureImportance, cv_folds)\u001b[0m\n\u001b[1;32m      9\u001b[0m     \u001b[0;31m#Perform cross-validation:\u001b[0m\u001b[0;34m\u001b[0m\u001b[0;34m\u001b[0m\u001b[0;34m\u001b[0m\u001b[0m\n\u001b[1;32m     10\u001b[0m     \u001b[0;32mif\u001b[0m \u001b[0mperformCV\u001b[0m\u001b[0;34m:\u001b[0m\u001b[0;34m\u001b[0m\u001b[0;34m\u001b[0m\u001b[0m\n\u001b[0;32m---> 11\u001b[0;31m         \u001b[0mcv_score\u001b[0m \u001b[0;34m=\u001b[0m \u001b[0mcross_val_score\u001b[0m\u001b[0;34m(\u001b[0m\u001b[0malg\u001b[0m\u001b[0;34m,\u001b[0m\u001b[0mX\u001b[0m\u001b[0;34m,\u001b[0m \u001b[0my\u001b[0m\u001b[0;34m,\u001b[0m \u001b[0mcv\u001b[0m\u001b[0;34m=\u001b[0m\u001b[0mcv_folds\u001b[0m\u001b[0;34m,\u001b[0m \u001b[0mscoring\u001b[0m\u001b[0;34m=\u001b[0m\u001b[0;34m'neg_root_mean_squared_error'\u001b[0m\u001b[0;34m)\u001b[0m\u001b[0;34m\u001b[0m\u001b[0;34m\u001b[0m\u001b[0m\n\u001b[0m\u001b[1;32m     12\u001b[0m     \u001b[0;31m#Print model report:\u001b[0m\u001b[0;34m\u001b[0m\u001b[0;34m\u001b[0m\u001b[0;34m\u001b[0m\u001b[0m\n\u001b[1;32m     13\u001b[0m     \u001b[0mprint\u001b[0m\u001b[0;34m(\u001b[0m\u001b[0;34m\"/nModel Report\"\u001b[0m\u001b[0;34m)\u001b[0m\u001b[0;34m\u001b[0m\u001b[0;34m\u001b[0m\u001b[0m\n",
            "\u001b[0;31mNameError\u001b[0m: name 'cross_val_score' is not defined"
          ]
        }
      ]
    },
    {
      "cell_type": "code",
      "metadata": {
        "colab": {
          "base_uri": "https://localhost:8080/"
        },
        "id": "cfkYGTCtNJhL",
        "outputId": "05772eb3-86ac-4dc0-8087-4aa581caefe4"
      },
      "source": [
        "result_reg(m_rf,valid_x,valid_y)"
      ],
      "execution_count": null,
      "outputs": [
        {
          "output_type": "stream",
          "text": [
            "RMSE : 1055\n"
          ],
          "name": "stdout"
        }
      ]
    },
    {
      "cell_type": "code",
      "metadata": {
        "id": "IABQCR79N2bu"
      },
      "source": [
        "save_pickle(path/'to_opt_nor1.pkl',to)"
      ],
      "execution_count": null,
      "outputs": []
    },
    {
      "cell_type": "markdown",
      "metadata": {
        "id": "pz1ZdhOgOtxu"
      },
      "source": [
        "# Predicciones TEST"
      ]
    },
    {
      "cell_type": "code",
      "metadata": {
        "id": "UDwIedGE6_Nj"
      },
      "source": [
        "to=load_pickle(path/'to_opt_nor.pkl')"
      ],
      "execution_count": null,
      "outputs": []
    },
    {
      "cell_type": "code",
      "metadata": {
        "id": "4T0AJzW61eoM"
      },
      "source": [
        "to_test=to.new(df1_test)"
      ],
      "execution_count": null,
      "outputs": []
    },
    {
      "cell_type": "code",
      "metadata": {
        "id": "OwFWRCEoAX37"
      },
      "source": [
        "to_test.process()"
      ],
      "execution_count": null,
      "outputs": []
    },
    {
      "cell_type": "code",
      "metadata": {
        "colab": {
          "base_uri": "https://localhost:8080/"
        },
        "id": "EhpnMwNkF2YL",
        "outputId": "11475218-ad61-42c8-81c3-4a0fc947b9b8"
      },
      "source": [
        "to_test.xs.shape"
      ],
      "execution_count": null,
      "outputs": [
        {
          "output_type": "execute_result",
          "data": {
            "text/plain": [
              "(5681, 12)"
            ]
          },
          "metadata": {
            "tags": []
          },
          "execution_count": 72
        }
      ]
    },
    {
      "cell_type": "code",
      "metadata": {
        "id": "hTPmFJY1GDWZ"
      },
      "source": [
        "test_x=to_test.xs"
      ],
      "execution_count": null,
      "outputs": []
    },
    {
      "cell_type": "code",
      "metadata": {
        "colab": {
          "base_uri": "https://localhost:8080/",
          "height": 434
        },
        "id": "3-affv4I1yc0",
        "outputId": "928efc75-2b3a-4097-8879-9b095e5d8a7d"
      },
      "source": [
        "to_test.items"
      ],
      "execution_count": null,
      "outputs": [
        {
          "output_type": "execute_result",
          "data": {
            "text/html": [
              "<div>\n",
              "<style scoped>\n",
              "    .dataframe tbody tr th:only-of-type {\n",
              "        vertical-align: middle;\n",
              "    }\n",
              "\n",
              "    .dataframe tbody tr th {\n",
              "        vertical-align: top;\n",
              "    }\n",
              "\n",
              "    .dataframe thead th {\n",
              "        text-align: right;\n",
              "    }\n",
              "</style>\n",
              "<table border=\"1\" class=\"dataframe\">\n",
              "  <thead>\n",
              "    <tr style=\"text-align: right;\">\n",
              "      <th></th>\n",
              "      <th>Item_Weight</th>\n",
              "      <th>Item_Fat_Content</th>\n",
              "      <th>Item_Visibility</th>\n",
              "      <th>Item_Type</th>\n",
              "      <th>...</th>\n",
              "      <th>Outlet_Location_Type</th>\n",
              "      <th>Outlet_Type</th>\n",
              "      <th>Item_Visibility_mod</th>\n",
              "      <th>Item_Weight_na</th>\n",
              "    </tr>\n",
              "  </thead>\n",
              "  <tbody>\n",
              "    <tr>\n",
              "      <th>0</th>\n",
              "      <td>1.883157</td>\n",
              "      <td>2</td>\n",
              "      <td>-1.138225</td>\n",
              "      <td>14</td>\n",
              "      <td>...</td>\n",
              "      <td>1</td>\n",
              "      <td>2</td>\n",
              "      <td>2</td>\n",
              "      <td>1</td>\n",
              "    </tr>\n",
              "    <tr>\n",
              "      <th>1</th>\n",
              "      <td>-1.069836</td>\n",
              "      <td>5</td>\n",
              "      <td>-0.537006</td>\n",
              "      <td>5</td>\n",
              "      <td>...</td>\n",
              "      <td>2</td>\n",
              "      <td>2</td>\n",
              "      <td>2</td>\n",
              "      <td>1</td>\n",
              "    </tr>\n",
              "    <tr>\n",
              "      <th>2</th>\n",
              "      <td>0.424450</td>\n",
              "      <td>2</td>\n",
              "      <td>0.654163</td>\n",
              "      <td>12</td>\n",
              "      <td>...</td>\n",
              "      <td>3</td>\n",
              "      <td>1</td>\n",
              "      <td>4</td>\n",
              "      <td>1</td>\n",
              "    </tr>\n",
              "    <tr>\n",
              "      <th>3</th>\n",
              "      <td>-1.303466</td>\n",
              "      <td>2</td>\n",
              "      <td>-0.985819</td>\n",
              "      <td>14</td>\n",
              "      <td>...</td>\n",
              "      <td>2</td>\n",
              "      <td>2</td>\n",
              "      <td>2</td>\n",
              "      <td>1</td>\n",
              "    </tr>\n",
              "    <tr>\n",
              "      <th>4</th>\n",
              "      <td>-0.049926</td>\n",
              "      <td>3</td>\n",
              "      <td>1.024764</td>\n",
              "      <td>5</td>\n",
              "      <td>...</td>\n",
              "      <td>3</td>\n",
              "      <td>4</td>\n",
              "      <td>4</td>\n",
              "      <td>2</td>\n",
              "    </tr>\n",
              "    <tr>\n",
              "      <th>...</th>\n",
              "      <td>...</td>\n",
              "      <td>...</td>\n",
              "      <td>...</td>\n",
              "      <td>...</td>\n",
              "      <td>...</td>\n",
              "      <td>...</td>\n",
              "      <td>...</td>\n",
              "      <td>...</td>\n",
              "      <td>...</td>\n",
              "    </tr>\n",
              "    <tr>\n",
              "      <th>5676</th>\n",
              "      <td>-0.548022</td>\n",
              "      <td>3</td>\n",
              "      <td>-1.022674</td>\n",
              "      <td>14</td>\n",
              "      <td>...</td>\n",
              "      <td>1</td>\n",
              "      <td>2</td>\n",
              "      <td>2</td>\n",
              "      <td>1</td>\n",
              "    </tr>\n",
              "    <tr>\n",
              "      <th>5677</th>\n",
              "      <td>-1.235868</td>\n",
              "      <td>3</td>\n",
              "      <td>1.499921</td>\n",
              "      <td>16</td>\n",
              "      <td>...</td>\n",
              "      <td>3</td>\n",
              "      <td>3</td>\n",
              "      <td>4</td>\n",
              "      <td>1</td>\n",
              "    </tr>\n",
              "    <tr>\n",
              "      <th>5678</th>\n",
              "      <td>-0.666616</td>\n",
              "      <td>2</td>\n",
              "      <td>0.146771</td>\n",
              "      <td>9</td>\n",
              "      <td>...</td>\n",
              "      <td>2</td>\n",
              "      <td>2</td>\n",
              "      <td>4</td>\n",
              "      <td>1</td>\n",
              "    </tr>\n",
              "    <tr>\n",
              "      <th>5679</th>\n",
              "      <td>0.590482</td>\n",
              "      <td>3</td>\n",
              "      <td>-1.285590</td>\n",
              "      <td>4</td>\n",
              "      <td>...</td>\n",
              "      <td>2</td>\n",
              "      <td>2</td>\n",
              "      <td>1</td>\n",
              "      <td>1</td>\n",
              "    </tr>\n",
              "    <tr>\n",
              "      <th>5680</th>\n",
              "      <td>-0.785210</td>\n",
              "      <td>3</td>\n",
              "      <td>0.754394</td>\n",
              "      <td>4</td>\n",
              "      <td>...</td>\n",
              "      <td>2</td>\n",
              "      <td>2</td>\n",
              "      <td>4</td>\n",
              "      <td>1</td>\n",
              "    </tr>\n",
              "  </tbody>\n",
              "</table>\n",
              "<p>5681 rows × 12 columns</p>\n",
              "</div>"
            ],
            "text/plain": [
              "      Item_Weight  Item_Fat_Content  Item_Visibility  Item_Type  ...  \\\n",
              "0        1.883157                 2        -1.138225         14  ...   \n",
              "1       -1.069836                 5        -0.537006          5  ...   \n",
              "2        0.424450                 2         0.654163         12  ...   \n",
              "3       -1.303466                 2        -0.985819         14  ...   \n",
              "4       -0.049926                 3         1.024764          5  ...   \n",
              "...           ...               ...              ...        ...  ...   \n",
              "5676    -0.548022                 3        -1.022674         14  ...   \n",
              "5677    -1.235868                 3         1.499921         16  ...   \n",
              "5678    -0.666616                 2         0.146771          9  ...   \n",
              "5679     0.590482                 3        -1.285590          4  ...   \n",
              "5680    -0.785210                 3         0.754394          4  ...   \n",
              "\n",
              "      Outlet_Location_Type  Outlet_Type  Item_Visibility_mod  Item_Weight_na  \n",
              "0                        1            2                    2               1  \n",
              "1                        2            2                    2               1  \n",
              "2                        3            1                    4               1  \n",
              "3                        2            2                    2               1  \n",
              "4                        3            4                    4               2  \n",
              "...                    ...          ...                  ...             ...  \n",
              "5676                     1            2                    2               1  \n",
              "5677                     3            3                    4               1  \n",
              "5678                     2            2                    4               1  \n",
              "5679                     2            2                    1               1  \n",
              "5680                     2            2                    4               1  \n",
              "\n",
              "[5681 rows x 12 columns]"
            ]
          },
          "metadata": {
            "tags": []
          },
          "execution_count": 74
        }
      ]
    },
    {
      "cell_type": "markdown",
      "metadata": {
        "id": "dQTdQAb3j1z8"
      },
      "source": [
        "Modelo XGBoost"
      ]
    },
    {
      "cell_type": "code",
      "metadata": {
        "colab": {
          "base_uri": "https://localhost:8080/",
          "height": 387
        },
        "id": "WmuMKJAOj4iJ",
        "outputId": "7e55fc20-837b-4dff-9641-52ab7cfab586"
      },
      "source": [
        "pred_xgb=xgb2.predict(to_test.items)"
      ],
      "execution_count": null,
      "outputs": [
        {
          "output_type": "error",
          "ename": "ValueError",
          "evalue": "ignored",
          "traceback": [
            "\u001b[0;31m---------------------------------------------------------------------------\u001b[0m",
            "\u001b[0;31mValueError\u001b[0m                                Traceback (most recent call last)",
            "\u001b[0;32m<ipython-input-75-3d940f196ac0>\u001b[0m in \u001b[0;36m<module>\u001b[0;34m()\u001b[0m\n\u001b[0;32m----> 1\u001b[0;31m \u001b[0mpred_xgb\u001b[0m\u001b[0;34m=\u001b[0m\u001b[0mxgb2\u001b[0m\u001b[0;34m.\u001b[0m\u001b[0mpredict\u001b[0m\u001b[0;34m(\u001b[0m\u001b[0mto_test\u001b[0m\u001b[0;34m.\u001b[0m\u001b[0mitems\u001b[0m\u001b[0;34m)\u001b[0m\u001b[0;34m\u001b[0m\u001b[0;34m\u001b[0m\u001b[0m\n\u001b[0m",
            "\u001b[0;32m/usr/local/lib/python3.7/dist-packages/xgboost/sklearn.py\u001b[0m in \u001b[0;36mpredict\u001b[0;34m(self, data, output_margin, ntree_limit, validate_features)\u001b[0m\n\u001b[1;32m    454\u001b[0m                                           \u001b[0moutput_margin\u001b[0m\u001b[0;34m=\u001b[0m\u001b[0moutput_margin\u001b[0m\u001b[0;34m,\u001b[0m\u001b[0;34m\u001b[0m\u001b[0;34m\u001b[0m\u001b[0m\n\u001b[1;32m    455\u001b[0m                                           \u001b[0mntree_limit\u001b[0m\u001b[0;34m=\u001b[0m\u001b[0mntree_limit\u001b[0m\u001b[0;34m,\u001b[0m\u001b[0;34m\u001b[0m\u001b[0;34m\u001b[0m\u001b[0m\n\u001b[0;32m--> 456\u001b[0;31m                                           validate_features=validate_features)\n\u001b[0m\u001b[1;32m    457\u001b[0m \u001b[0;34m\u001b[0m\u001b[0m\n\u001b[1;32m    458\u001b[0m     \u001b[0;32mdef\u001b[0m \u001b[0mapply\u001b[0m\u001b[0;34m(\u001b[0m\u001b[0mself\u001b[0m\u001b[0;34m,\u001b[0m \u001b[0mX\u001b[0m\u001b[0;34m,\u001b[0m \u001b[0mntree_limit\u001b[0m\u001b[0;34m=\u001b[0m\u001b[0;36m0\u001b[0m\u001b[0;34m)\u001b[0m\u001b[0;34m:\u001b[0m\u001b[0;34m\u001b[0m\u001b[0;34m\u001b[0m\u001b[0m\n",
            "\u001b[0;32m/usr/local/lib/python3.7/dist-packages/xgboost/core.py\u001b[0m in \u001b[0;36mpredict\u001b[0;34m(self, data, output_margin, ntree_limit, pred_leaf, pred_contribs, approx_contribs, pred_interactions, validate_features)\u001b[0m\n\u001b[1;32m   1282\u001b[0m \u001b[0;34m\u001b[0m\u001b[0m\n\u001b[1;32m   1283\u001b[0m         \u001b[0;32mif\u001b[0m \u001b[0mvalidate_features\u001b[0m\u001b[0;34m:\u001b[0m\u001b[0;34m\u001b[0m\u001b[0;34m\u001b[0m\u001b[0m\n\u001b[0;32m-> 1284\u001b[0;31m             \u001b[0mself\u001b[0m\u001b[0;34m.\u001b[0m\u001b[0m_validate_features\u001b[0m\u001b[0;34m(\u001b[0m\u001b[0mdata\u001b[0m\u001b[0;34m)\u001b[0m\u001b[0;34m\u001b[0m\u001b[0;34m\u001b[0m\u001b[0m\n\u001b[0m\u001b[1;32m   1285\u001b[0m \u001b[0;34m\u001b[0m\u001b[0m\n\u001b[1;32m   1286\u001b[0m         \u001b[0mlength\u001b[0m \u001b[0;34m=\u001b[0m \u001b[0mc_bst_ulong\u001b[0m\u001b[0;34m(\u001b[0m\u001b[0;34m)\u001b[0m\u001b[0;34m\u001b[0m\u001b[0;34m\u001b[0m\u001b[0m\n",
            "\u001b[0;32m/usr/local/lib/python3.7/dist-packages/xgboost/core.py\u001b[0m in \u001b[0;36m_validate_features\u001b[0;34m(self, data)\u001b[0m\n\u001b[1;32m   1688\u001b[0m \u001b[0;34m\u001b[0m\u001b[0m\n\u001b[1;32m   1689\u001b[0m                 raise ValueError(msg.format(self.feature_names,\n\u001b[0;32m-> 1690\u001b[0;31m                                             data.feature_names))\n\u001b[0m\u001b[1;32m   1691\u001b[0m \u001b[0;34m\u001b[0m\u001b[0m\n\u001b[1;32m   1692\u001b[0m     \u001b[0;32mdef\u001b[0m \u001b[0mget_split_value_histogram\u001b[0m\u001b[0;34m(\u001b[0m\u001b[0mself\u001b[0m\u001b[0;34m,\u001b[0m \u001b[0mfeature\u001b[0m\u001b[0;34m,\u001b[0m \u001b[0mfmap\u001b[0m\u001b[0;34m=\u001b[0m\u001b[0;34m''\u001b[0m\u001b[0;34m,\u001b[0m \u001b[0mbins\u001b[0m\u001b[0;34m=\u001b[0m\u001b[0;32mNone\u001b[0m\u001b[0;34m,\u001b[0m \u001b[0mas_pandas\u001b[0m\u001b[0;34m=\u001b[0m\u001b[0;32mTrue\u001b[0m\u001b[0;34m)\u001b[0m\u001b[0;34m:\u001b[0m\u001b[0;34m\u001b[0m\u001b[0;34m\u001b[0m\u001b[0m\n",
            "\u001b[0;31mValueError\u001b[0m: feature_names mismatch: ['Item_Fat_Content', 'Item_Type', 'Outlet_Identifier', 'Outlet_Establishment_Year', 'Outlet_Size', 'Outlet_Location_Type', 'Outlet_Type', 'Item_Visibility_mod', 'Item_Weight_na', 'Item_Weight', 'Item_Visibility', 'Item_MRP'] ['Item_Weight', 'Item_Fat_Content', 'Item_Visibility', 'Item_Type', 'Item_MRP', 'Outlet_Identifier', 'Outlet_Establishment_Year', 'Outlet_Size', 'Outlet_Location_Type', 'Outlet_Type', 'Item_Visibility_mod', 'Item_Weight_na']"
          ]
        }
      ]
    },
    {
      "cell_type": "code",
      "metadata": {
        "id": "pnJjvEtF13Qb"
      },
      "source": [
        "modelo_rf=load_pickle(path/'model_rf.pkl')"
      ],
      "execution_count": null,
      "outputs": []
    },
    {
      "cell_type": "code",
      "metadata": {
        "id": "USMooIh12JTU"
      },
      "source": [
        "pred=modelo_rf.predict(to_test.items)"
      ],
      "execution_count": null,
      "outputs": []
    },
    {
      "cell_type": "code",
      "metadata": {
        "id": "31mgmymb2VCr"
      },
      "source": [
        "df_test['Item_Outlet_Sales'] = pred"
      ],
      "execution_count": null,
      "outputs": []
    },
    {
      "cell_type": "code",
      "metadata": {
        "colab": {
          "base_uri": "https://localhost:8080/",
          "height": 167
        },
        "id": "okimMZDi2qEj",
        "outputId": "c1b9e26e-ae83-4755-ebab-71ac95ea41e4"
      },
      "source": [
        "df_test[df_test['Item_Identifier'] == 'DRC01']"
      ],
      "execution_count": null,
      "outputs": [
        {
          "output_type": "execute_result",
          "data": {
            "text/html": [
              "<div>\n",
              "<style scoped>\n",
              "    .dataframe tbody tr th:only-of-type {\n",
              "        vertical-align: middle;\n",
              "    }\n",
              "\n",
              "    .dataframe tbody tr th {\n",
              "        vertical-align: top;\n",
              "    }\n",
              "\n",
              "    .dataframe thead th {\n",
              "        text-align: right;\n",
              "    }\n",
              "</style>\n",
              "<table border=\"1\" class=\"dataframe\">\n",
              "  <thead>\n",
              "    <tr style=\"text-align: right;\">\n",
              "      <th></th>\n",
              "      <th>Item_Identifier</th>\n",
              "      <th>Item_Weight</th>\n",
              "      <th>Item_Fat_Content</th>\n",
              "      <th>Item_Visibility</th>\n",
              "      <th>...</th>\n",
              "      <th>Outlet_Location_Type</th>\n",
              "      <th>Outlet_Type</th>\n",
              "      <th>resultado</th>\n",
              "      <th>Item_Outlet_Sales</th>\n",
              "    </tr>\n",
              "  </thead>\n",
              "  <tbody>\n",
              "    <tr>\n",
              "      <th>930</th>\n",
              "      <td>DRC01</td>\n",
              "      <td>5.92</td>\n",
              "      <td>Regular</td>\n",
              "      <td>0.032137</td>\n",
              "      <td>...</td>\n",
              "      <td>Tier 3</td>\n",
              "      <td>Grocery Store</td>\n",
              "      <td>3577.842864</td>\n",
              "      <td>3577.842864</td>\n",
              "    </tr>\n",
              "    <tr>\n",
              "      <th>2065</th>\n",
              "      <td>DRC01</td>\n",
              "      <td>5.92</td>\n",
              "      <td>Regular</td>\n",
              "      <td>0.019196</td>\n",
              "      <td>...</td>\n",
              "      <td>Tier 2</td>\n",
              "      <td>Supermarket Type1</td>\n",
              "      <td>3598.749657</td>\n",
              "      <td>3598.749657</td>\n",
              "    </tr>\n",
              "    <tr>\n",
              "      <th>4264</th>\n",
              "      <td>DRC01</td>\n",
              "      <td>5.92</td>\n",
              "      <td>Regular</td>\n",
              "      <td>0.019230</td>\n",
              "      <td>...</td>\n",
              "      <td>Tier 1</td>\n",
              "      <td>Supermarket Type1</td>\n",
              "      <td>3291.093831</td>\n",
              "      <td>3291.093831</td>\n",
              "    </tr>\n",
              "  </tbody>\n",
              "</table>\n",
              "<p>3 rows × 13 columns</p>\n",
              "</div>"
            ],
            "text/plain": [
              "     Item_Identifier  Item_Weight Item_Fat_Content  Item_Visibility  ...  \\\n",
              "930            DRC01         5.92          Regular         0.032137  ...   \n",
              "2065           DRC01         5.92          Regular         0.019196  ...   \n",
              "4264           DRC01         5.92          Regular         0.019230  ...   \n",
              "\n",
              "     Outlet_Location_Type        Outlet_Type    resultado  Item_Outlet_Sales  \n",
              "930                Tier 3      Grocery Store  3577.842864        3577.842864  \n",
              "2065               Tier 2  Supermarket Type1  3598.749657        3598.749657  \n",
              "4264               Tier 1  Supermarket Type1  3291.093831        3291.093831  \n",
              "\n",
              "[3 rows x 13 columns]"
            ]
          },
          "metadata": {
            "tags": []
          },
          "execution_count": 84
        }
      ]
    },
    {
      "cell_type": "code",
      "metadata": {
        "colab": {
          "base_uri": "https://localhost:8080/"
        },
        "id": "V9Whx-XC3FKE",
        "outputId": "8f2c1855-ca79-4196-b0e2-cd586f2c0131"
      },
      "source": [
        "modelo_rf.predict(valid_x)"
      ],
      "execution_count": null,
      "outputs": [
        {
          "output_type": "execute_result",
          "data": {
            "text/plain": [
              "array([1571.04695394, 2199.86853458, 1954.168808  , ..., 2487.11099297,\n",
              "       3077.90311829, 3606.82100645])"
            ]
          },
          "metadata": {
            "tags": []
          },
          "execution_count": 105
        }
      ]
    },
    {
      "cell_type": "code",
      "metadata": {
        "colab": {
          "base_uri": "https://localhost:8080/"
        },
        "id": "09P8ThPw3q8s",
        "outputId": "df31299b-b725-447e-e127-387e6a4383e3"
      },
      "source": [
        "result_reg(modelo_rf,valid_x,valid_y)"
      ],
      "execution_count": null,
      "outputs": [
        {
          "output_type": "stream",
          "text": [
            "RMSE : 1060\n"
          ],
          "name": "stdout"
        }
      ]
    },
    {
      "cell_type": "code",
      "metadata": {
        "id": "ROk1_DhL4VXT"
      },
      "source": [
        "result_rf=df_test.loc[:,['Item_Identifier','Outlet_Identifier','Item_Outlet_Sales']]"
      ],
      "execution_count": null,
      "outputs": []
    },
    {
      "cell_type": "code",
      "metadata": {
        "id": "Tiz3x3l-4srC"
      },
      "source": [
        "result_rf.to_csv(path/'submit_rf3.csv',index)"
      ],
      "execution_count": null,
      "outputs": []
    },
    {
      "cell_type": "code",
      "metadata": {
        "id": "PNkHq1rCI7DU"
      },
      "source": [
        "resultado=pd.DataFrame()"
      ],
      "execution_count": null,
      "outputs": []
    },
    {
      "cell_type": "code",
      "metadata": {
        "id": "A8f16fxU5ECY"
      },
      "source": [
        "resultado['p_rf']=pred_rf"
      ],
      "execution_count": null,
      "outputs": []
    },
    {
      "cell_type": "code",
      "metadata": {
        "id": "OKmurqxzI1Z4"
      },
      "source": [
        "resultado['p_xg']=pred_xg"
      ],
      "execution_count": null,
      "outputs": []
    },
    {
      "cell_type": "code",
      "metadata": {
        "id": "8pkd9JAuJCH3"
      },
      "source": [
        "resultado['p_nn']=pred.numpy()"
      ],
      "execution_count": null,
      "outputs": []
    },
    {
      "cell_type": "code",
      "metadata": {
        "id": "Povu8K73JKX_"
      },
      "source": [
        "resultado['med']=0.5*resultado['p_xg']+0.5*resultado['p_nn']"
      ],
      "execution_count": null,
      "outputs": []
    },
    {
      "cell_type": "code",
      "metadata": {
        "colab": {
          "base_uri": "https://localhost:8080/",
          "height": 414
        },
        "id": "Fz6j3_F0gtdp",
        "outputId": "ca5db84c-1816-4791-a58f-a722f099f6be"
      },
      "source": [
        "resultado"
      ],
      "execution_count": null,
      "outputs": [
        {
          "output_type": "execute_result",
          "data": {
            "text/html": [
              "<div>\n",
              "<style scoped>\n",
              "    .dataframe tbody tr th:only-of-type {\n",
              "        vertical-align: middle;\n",
              "    }\n",
              "\n",
              "    .dataframe tbody tr th {\n",
              "        vertical-align: top;\n",
              "    }\n",
              "\n",
              "    .dataframe thead th {\n",
              "        text-align: right;\n",
              "    }\n",
              "</style>\n",
              "<table border=\"1\" class=\"dataframe\">\n",
              "  <thead>\n",
              "    <tr style=\"text-align: right;\">\n",
              "      <th></th>\n",
              "      <th>p_xg</th>\n",
              "      <th>p_nn</th>\n",
              "      <th>med</th>\n",
              "    </tr>\n",
              "  </thead>\n",
              "  <tbody>\n",
              "    <tr>\n",
              "      <th>0</th>\n",
              "      <td>1750.787088</td>\n",
              "      <td>1809.563354</td>\n",
              "      <td>1780.175221</td>\n",
              "    </tr>\n",
              "    <tr>\n",
              "      <th>1</th>\n",
              "      <td>1421.138247</td>\n",
              "      <td>1398.307617</td>\n",
              "      <td>1409.722932</td>\n",
              "    </tr>\n",
              "    <tr>\n",
              "      <th>2</th>\n",
              "      <td>603.722381</td>\n",
              "      <td>489.105164</td>\n",
              "      <td>546.413772</td>\n",
              "    </tr>\n",
              "    <tr>\n",
              "      <th>3</th>\n",
              "      <td>2549.001673</td>\n",
              "      <td>2667.123291</td>\n",
              "      <td>2608.062482</td>\n",
              "    </tr>\n",
              "    <tr>\n",
              "      <th>4</th>\n",
              "      <td>5507.840958</td>\n",
              "      <td>6121.130371</td>\n",
              "      <td>5814.485665</td>\n",
              "    </tr>\n",
              "    <tr>\n",
              "      <th>...</th>\n",
              "      <td>...</td>\n",
              "      <td>...</td>\n",
              "      <td>...</td>\n",
              "    </tr>\n",
              "    <tr>\n",
              "      <th>5676</th>\n",
              "      <td>2162.695869</td>\n",
              "      <td>2312.010010</td>\n",
              "      <td>2237.352940</td>\n",
              "    </tr>\n",
              "    <tr>\n",
              "      <th>5677</th>\n",
              "      <td>2572.393993</td>\n",
              "      <td>2454.290527</td>\n",
              "      <td>2513.342260</td>\n",
              "    </tr>\n",
              "    <tr>\n",
              "      <th>5678</th>\n",
              "      <td>1785.906342</td>\n",
              "      <td>1838.596680</td>\n",
              "      <td>1812.251511</td>\n",
              "    </tr>\n",
              "    <tr>\n",
              "      <th>5679</th>\n",
              "      <td>3658.069204</td>\n",
              "      <td>3862.341797</td>\n",
              "      <td>3760.205501</td>\n",
              "    </tr>\n",
              "    <tr>\n",
              "      <th>5680</th>\n",
              "      <td>1229.495509</td>\n",
              "      <td>1268.189453</td>\n",
              "      <td>1248.842481</td>\n",
              "    </tr>\n",
              "  </tbody>\n",
              "</table>\n",
              "<p>5681 rows × 3 columns</p>\n",
              "</div>"
            ],
            "text/plain": [
              "             p_xg         p_nn          med\n",
              "0     1750.787088  1809.563354  1780.175221\n",
              "1     1421.138247  1398.307617  1409.722932\n",
              "2      603.722381   489.105164   546.413772\n",
              "3     2549.001673  2667.123291  2608.062482\n",
              "4     5507.840958  6121.130371  5814.485665\n",
              "...           ...          ...          ...\n",
              "5676  2162.695869  2312.010010  2237.352940\n",
              "5677  2572.393993  2454.290527  2513.342260\n",
              "5678  1785.906342  1838.596680  1812.251511\n",
              "5679  3658.069204  3862.341797  3760.205501\n",
              "5680  1229.495509  1268.189453  1248.842481\n",
              "\n",
              "[5681 rows x 3 columns]"
            ]
          },
          "metadata": {
            "tags": []
          },
          "execution_count": 320
        }
      ]
    },
    {
      "cell_type": "code",
      "metadata": {
        "id": "lkwCYhhxJLgf"
      },
      "source": [
        "resultado['media3']=(0.2*resultado['p_rf']+0.45*resultado['p_xg']+0.35*resultado['p_nn'])"
      ],
      "execution_count": null,
      "outputs": []
    },
    {
      "cell_type": "code",
      "metadata": {
        "colab": {
          "base_uri": "https://localhost:8080/",
          "height": 424
        },
        "id": "t_y9NAK5JZ9P",
        "outputId": "83e488ba-81e0-456d-c2f3-62e2a0d4539b"
      },
      "source": [
        "resultado"
      ],
      "execution_count": null,
      "outputs": [
        {
          "output_type": "execute_result",
          "data": {
            "text/html": [
              "<div>\n",
              "<style scoped>\n",
              "    .dataframe tbody tr th:only-of-type {\n",
              "        vertical-align: middle;\n",
              "    }\n",
              "\n",
              "    .dataframe tbody tr th {\n",
              "        vertical-align: top;\n",
              "    }\n",
              "\n",
              "    .dataframe thead th {\n",
              "        text-align: right;\n",
              "    }\n",
              "</style>\n",
              "<table border=\"1\" class=\"dataframe\">\n",
              "  <thead>\n",
              "    <tr style=\"text-align: right;\">\n",
              "      <th></th>\n",
              "      <th>p_rf</th>\n",
              "      <th>p_xg</th>\n",
              "      <th>p_nn</th>\n",
              "      <th>media</th>\n",
              "      <th>media2</th>\n",
              "      <th>media3</th>\n",
              "    </tr>\n",
              "  </thead>\n",
              "  <tbody>\n",
              "    <tr>\n",
              "      <th>0</th>\n",
              "      <td>1870.349917</td>\n",
              "      <td>1750.787088</td>\n",
              "      <td>1786.673706</td>\n",
              "      <td>1802.603570</td>\n",
              "      <td>1787.259988</td>\n",
              "      <td>1787.259988</td>\n",
              "    </tr>\n",
              "    <tr>\n",
              "      <th>1</th>\n",
              "      <td>1495.859976</td>\n",
              "      <td>1421.138247</td>\n",
              "      <td>1403.345581</td>\n",
              "      <td>1440.114601</td>\n",
              "      <td>1429.855166</td>\n",
              "      <td>1429.855166</td>\n",
              "    </tr>\n",
              "    <tr>\n",
              "      <th>2</th>\n",
              "      <td>973.169257</td>\n",
              "      <td>603.722381</td>\n",
              "      <td>484.338440</td>\n",
              "      <td>687.076693</td>\n",
              "      <td>635.827371</td>\n",
              "      <td>635.827371</td>\n",
              "    </tr>\n",
              "    <tr>\n",
              "      <th>3</th>\n",
              "      <td>2543.934398</td>\n",
              "      <td>2549.001673</td>\n",
              "      <td>2630.129883</td>\n",
              "      <td>2574.355318</td>\n",
              "      <td>2576.383103</td>\n",
              "      <td>2576.383103</td>\n",
              "    </tr>\n",
              "    <tr>\n",
              "      <th>4</th>\n",
              "      <td>5048.119260</td>\n",
              "      <td>5507.840958</td>\n",
              "      <td>6242.334961</td>\n",
              "      <td>5599.431727</td>\n",
              "      <td>5672.969422</td>\n",
              "      <td>5672.969422</td>\n",
              "    </tr>\n",
              "    <tr>\n",
              "      <th>...</th>\n",
              "      <td>...</td>\n",
              "      <td>...</td>\n",
              "      <td>...</td>\n",
              "      <td>...</td>\n",
              "      <td>...</td>\n",
              "      <td>...</td>\n",
              "    </tr>\n",
              "    <tr>\n",
              "      <th>5676</th>\n",
              "      <td>2266.556343</td>\n",
              "      <td>2162.695869</td>\n",
              "      <td>2247.779541</td>\n",
              "      <td>2225.677251</td>\n",
              "      <td>2213.247249</td>\n",
              "      <td>2213.247249</td>\n",
              "    </tr>\n",
              "    <tr>\n",
              "      <th>5677</th>\n",
              "      <td>2795.726380</td>\n",
              "      <td>2572.393993</td>\n",
              "      <td>2535.793213</td>\n",
              "      <td>2634.637862</td>\n",
              "      <td>2604.250161</td>\n",
              "      <td>2604.250161</td>\n",
              "    </tr>\n",
              "    <tr>\n",
              "      <th>5678</th>\n",
              "      <td>1839.092649</td>\n",
              "      <td>1785.906342</td>\n",
              "      <td>1839.874634</td>\n",
              "      <td>1821.624542</td>\n",
              "      <td>1815.432499</td>\n",
              "      <td>1815.432499</td>\n",
              "    </tr>\n",
              "    <tr>\n",
              "      <th>5679</th>\n",
              "      <td>3581.056296</td>\n",
              "      <td>3658.069204</td>\n",
              "      <td>3683.928711</td>\n",
              "      <td>3641.018070</td>\n",
              "      <td>3651.717401</td>\n",
              "      <td>3651.717401</td>\n",
              "    </tr>\n",
              "    <tr>\n",
              "      <th>5680</th>\n",
              "      <td>1331.664143</td>\n",
              "      <td>1229.495509</td>\n",
              "      <td>1241.706421</td>\n",
              "      <td>1267.622024</td>\n",
              "      <td>1254.203037</td>\n",
              "      <td>1254.203037</td>\n",
              "    </tr>\n",
              "  </tbody>\n",
              "</table>\n",
              "<p>5681 rows × 6 columns</p>\n",
              "</div>"
            ],
            "text/plain": [
              "             p_rf         p_xg         p_nn        media       media2  \\\n",
              "0     1870.349917  1750.787088  1786.673706  1802.603570  1787.259988   \n",
              "1     1495.859976  1421.138247  1403.345581  1440.114601  1429.855166   \n",
              "2      973.169257   603.722381   484.338440   687.076693   635.827371   \n",
              "3     2543.934398  2549.001673  2630.129883  2574.355318  2576.383103   \n",
              "4     5048.119260  5507.840958  6242.334961  5599.431727  5672.969422   \n",
              "...           ...          ...          ...          ...          ...   \n",
              "5676  2266.556343  2162.695869  2247.779541  2225.677251  2213.247249   \n",
              "5677  2795.726380  2572.393993  2535.793213  2634.637862  2604.250161   \n",
              "5678  1839.092649  1785.906342  1839.874634  1821.624542  1815.432499   \n",
              "5679  3581.056296  3658.069204  3683.928711  3641.018070  3651.717401   \n",
              "5680  1331.664143  1229.495509  1241.706421  1267.622024  1254.203037   \n",
              "\n",
              "           media3  \n",
              "0     1787.259988  \n",
              "1     1429.855166  \n",
              "2      635.827371  \n",
              "3     2576.383103  \n",
              "4     5672.969422  \n",
              "...           ...  \n",
              "5676  2213.247249  \n",
              "5677  2604.250161  \n",
              "5678  1815.432499  \n",
              "5679  3651.717401  \n",
              "5680  1254.203037  \n",
              "\n",
              "[5681 rows x 6 columns]"
            ]
          },
          "metadata": {
            "tags": []
          },
          "execution_count": 240
        }
      ]
    },
    {
      "cell_type": "code",
      "metadata": {
        "id": "WNEAPfj4JbB-"
      },
      "source": [
        ""
      ],
      "execution_count": null,
      "outputs": []
    },
    {
      "cell_type": "code",
      "metadata": {
        "id": "63jjdAL2JoU6"
      },
      "source": [
        "df_test['Item_Outlet_Sales'] = resultado['med']"
      ],
      "execution_count": null,
      "outputs": []
    },
    {
      "cell_type": "code",
      "metadata": {
        "id": "siJpJMjIJoU7"
      },
      "source": [
        "result_med=df_test.loc[:,['Item_Identifier','Outlet_Identifier','Item_Outlet_Sales']]"
      ],
      "execution_count": null,
      "outputs": []
    },
    {
      "cell_type": "code",
      "metadata": {
        "id": "bgRbybf-JoU8"
      },
      "source": [
        "result_med.to_csv(path/'result_media6.csv',index=False)"
      ],
      "execution_count": null,
      "outputs": []
    },
    {
      "cell_type": "markdown",
      "metadata": {
        "id": "83O3kErTJ0Hf"
      },
      "source": [
        "#LightGBM"
      ]
    },
    {
      "cell_type": "code",
      "metadata": {
        "id": "jQ88sEh4hmoz"
      },
      "source": [
        "!pip install lightgbm"
      ],
      "execution_count": null,
      "outputs": []
    },
    {
      "cell_type": "code",
      "metadata": {
        "id": "Ezo0rbqKhsYm"
      },
      "source": [
        "import lightgbm as lgb"
      ],
      "execution_count": null,
      "outputs": []
    },
    {
      "cell_type": "code",
      "metadata": {
        "id": "PtgvcQF0hyEc"
      },
      "source": [
        "train_data = lgb.Dataset(train_x, train_y)"
      ],
      "execution_count": null,
      "outputs": []
    },
    {
      "cell_type": "code",
      "metadata": {
        "id": "qEkKfqyXiDcc"
      },
      "source": [
        "valid_data = lgb.Dataset(valid_x, valid_y)"
      ],
      "execution_count": null,
      "outputs": []
    },
    {
      "cell_type": "code",
      "metadata": {
        "id": "eoym4kfGiiSP"
      },
      "source": [
        "param = {'num_leaves': 31}\n",
        "param['metric'] = 'rsme'"
      ],
      "execution_count": null,
      "outputs": []
    },
    {
      "cell_type": "code",
      "metadata": {
        "id": "C3GZsWyfiJdU"
      },
      "source": [
        "bst = lgb.train(param,train_data, valid_sets=[valid_data])"
      ],
      "execution_count": null,
      "outputs": []
    },
    {
      "cell_type": "code",
      "metadata": {
        "id": "JLWbq1ZQisV8"
      },
      "source": [
        "ypred = bst.predict(test_x)"
      ],
      "execution_count": null,
      "outputs": []
    },
    {
      "cell_type": "code",
      "metadata": {
        "colab": {
          "base_uri": "https://localhost:8080/"
        },
        "id": "EzZ1VsDPjFR0",
        "outputId": "e05eb777-1391-4393-c866-0d967197ce05"
      },
      "source": [
        "ypred"
      ],
      "execution_count": null,
      "outputs": [
        {
          "output_type": "execute_result",
          "data": {
            "text/plain": [
              "array([1583.0509641 , 1268.58729933,  341.3213857 , ..., 1868.39544826,\n",
              "       4564.20687088, 1206.20112711])"
            ]
          },
          "metadata": {
            "tags": []
          },
          "execution_count": 117
        }
      ]
    },
    {
      "cell_type": "code",
      "metadata": {
        "colab": {
          "base_uri": "https://localhost:8080/"
        },
        "id": "_4_Xq0T3jJhz",
        "outputId": "2333d5f7-1e6b-4a78-a95c-9ca0bccb29b8"
      },
      "source": [
        "result_reg(bst,valid_x,valid_y)"
      ],
      "execution_count": null,
      "outputs": [
        {
          "output_type": "stream",
          "text": [
            "RMSE : 1077\n"
          ],
          "name": "stdout"
        }
      ]
    },
    {
      "cell_type": "code",
      "metadata": {
        "id": "5te4dg2FjdWS"
      },
      "source": [
        "df_test['Item_Outlet_Sales'] = np.abs(ypred)"
      ],
      "execution_count": null,
      "outputs": []
    },
    {
      "cell_type": "code",
      "metadata": {
        "id": "QgNWNL7PjdWU"
      },
      "source": [
        "result_lgb=df_test.loc[:,['Item_Identifier','Outlet_Identifier','Item_Outlet_Sales']]"
      ],
      "execution_count": null,
      "outputs": []
    },
    {
      "cell_type": "code",
      "metadata": {
        "id": "wVI2zBGLjdWV"
      },
      "source": [
        "result_lgb.to_csv(path/'result_lbm.csv',index=False)"
      ],
      "execution_count": null,
      "outputs": []
    },
    {
      "cell_type": "code",
      "metadata": {
        "id": "4nM949W0jQa0"
      },
      "source": [
        "bst"
      ],
      "execution_count": null,
      "outputs": []
    },
    {
      "cell_type": "markdown",
      "metadata": {
        "id": "NkGg3TxkkHnc"
      },
      "source": [
        "#Resumen"
      ]
    },
    {
      "cell_type": "markdown",
      "metadata": {
        "id": "CJSbPtIZkK6e"
      },
      "source": [
        "## Preparamos los datos, limpiamos información y creamos TabulaPandas"
      ]
    },
    {
      "cell_type": "code",
      "metadata": {
        "id": "zXtkP8jMkTlF"
      },
      "source": [
        "def features(df,test=False):\n",
        "    # lo pasamos a string para que sea categorical\n",
        "    df1 = df.copy()\n",
        "    df1['Outlet_Establishment_Year']=df1['Outlet_Establishment_Year'].astype('string')\n",
        "\n",
        "    df1.drop(['Item_Identifier'],axis=1,inplace=True)\n",
        "    df1['Outlet_Size'].fillna('None',inplace=True)\n",
        "\n",
        "    return df1"
      ],
      "execution_count": null,
      "outputs": []
    },
    {
      "cell_type": "code",
      "metadata": {
        "id": "5ZOakM0_lUkW"
      },
      "source": [
        "path= PosixPath('/content/drive/MyDrive/data/bigmartsales')\n"
      ],
      "execution_count": null,
      "outputs": []
    },
    {
      "cell_type": "code",
      "metadata": {
        "id": "AbrfVzQxlUkX"
      },
      "source": [
        "df=pd.read_csv(path/'train.csv',delimiter=',')\n",
        "df_test=pd.read_csv(path/'test.csv',delimiter=',')"
      ],
      "execution_count": null,
      "outputs": []
    },
    {
      "cell_type": "code",
      "metadata": {
        "id": "LGmwCn4Hk9aM"
      },
      "source": [
        "df_train = features(df)"
      ],
      "execution_count": null,
      "outputs": []
    },
    {
      "cell_type": "code",
      "metadata": {
        "colab": {
          "base_uri": "https://localhost:8080/",
          "height": 297
        },
        "id": "scadhCPHlgpG",
        "outputId": "d832165b-c9ce-48c1-9dcf-a03439d7a0fa"
      },
      "source": [
        ""
      ],
      "execution_count": null,
      "outputs": [
        {
          "output_type": "execute_result",
          "data": {
            "text/html": [
              "<div>\n",
              "<style scoped>\n",
              "    .dataframe tbody tr th:only-of-type {\n",
              "        vertical-align: middle;\n",
              "    }\n",
              "\n",
              "    .dataframe tbody tr th {\n",
              "        vertical-align: top;\n",
              "    }\n",
              "\n",
              "    .dataframe thead th {\n",
              "        text-align: right;\n",
              "    }\n",
              "</style>\n",
              "<table border=\"1\" class=\"dataframe\">\n",
              "  <thead>\n",
              "    <tr style=\"text-align: right;\">\n",
              "      <th></th>\n",
              "      <th>Item_Weight</th>\n",
              "      <th>Item_Visibility</th>\n",
              "      <th>Item_MRP</th>\n",
              "      <th>Item_Outlet_Sales</th>\n",
              "    </tr>\n",
              "  </thead>\n",
              "  <tbody>\n",
              "    <tr>\n",
              "      <th>count</th>\n",
              "      <td>7060.000000</td>\n",
              "      <td>8523.000000</td>\n",
              "      <td>8523.000000</td>\n",
              "      <td>8523.000000</td>\n",
              "    </tr>\n",
              "    <tr>\n",
              "      <th>mean</th>\n",
              "      <td>12.857645</td>\n",
              "      <td>0.066132</td>\n",
              "      <td>140.992782</td>\n",
              "      <td>2181.288914</td>\n",
              "    </tr>\n",
              "    <tr>\n",
              "      <th>std</th>\n",
              "      <td>4.643456</td>\n",
              "      <td>0.051598</td>\n",
              "      <td>62.275067</td>\n",
              "      <td>1706.499616</td>\n",
              "    </tr>\n",
              "    <tr>\n",
              "      <th>min</th>\n",
              "      <td>4.555000</td>\n",
              "      <td>0.000000</td>\n",
              "      <td>31.290000</td>\n",
              "      <td>33.290000</td>\n",
              "    </tr>\n",
              "    <tr>\n",
              "      <th>25%</th>\n",
              "      <td>8.773750</td>\n",
              "      <td>0.026989</td>\n",
              "      <td>93.826500</td>\n",
              "      <td>834.247400</td>\n",
              "    </tr>\n",
              "    <tr>\n",
              "      <th>50%</th>\n",
              "      <td>12.600000</td>\n",
              "      <td>0.053931</td>\n",
              "      <td>143.012800</td>\n",
              "      <td>1794.331000</td>\n",
              "    </tr>\n",
              "    <tr>\n",
              "      <th>75%</th>\n",
              "      <td>16.850000</td>\n",
              "      <td>0.094585</td>\n",
              "      <td>185.643700</td>\n",
              "      <td>3101.296400</td>\n",
              "    </tr>\n",
              "    <tr>\n",
              "      <th>max</th>\n",
              "      <td>21.350000</td>\n",
              "      <td>0.328391</td>\n",
              "      <td>266.888400</td>\n",
              "      <td>13086.964800</td>\n",
              "    </tr>\n",
              "  </tbody>\n",
              "</table>\n",
              "</div>"
            ],
            "text/plain": [
              "       Item_Weight  Item_Visibility     Item_MRP  Item_Outlet_Sales\n",
              "count  7060.000000      8523.000000  8523.000000        8523.000000\n",
              "mean     12.857645         0.066132   140.992782        2181.288914\n",
              "std       4.643456         0.051598    62.275067        1706.499616\n",
              "min       4.555000         0.000000    31.290000          33.290000\n",
              "25%       8.773750         0.026989    93.826500         834.247400\n",
              "50%      12.600000         0.053931   143.012800        1794.331000\n",
              "75%      16.850000         0.094585   185.643700        3101.296400\n",
              "max      21.350000         0.328391   266.888400       13086.964800"
            ]
          },
          "metadata": {
            "tags": []
          },
          "execution_count": 18
        }
      ]
    },
    {
      "cell_type": "code",
      "metadata": {
        "colab": {
          "base_uri": "https://localhost:8080/",
          "height": 233
        },
        "id": "gqaHs4AylliW",
        "outputId": "8bf6b1c0-f91b-46da-b2b0-5ea5b1a730ac"
      },
      "source": [
        "df_train.head()"
      ],
      "execution_count": null,
      "outputs": [
        {
          "output_type": "execute_result",
          "data": {
            "text/html": [
              "<div>\n",
              "<style scoped>\n",
              "    .dataframe tbody tr th:only-of-type {\n",
              "        vertical-align: middle;\n",
              "    }\n",
              "\n",
              "    .dataframe tbody tr th {\n",
              "        vertical-align: top;\n",
              "    }\n",
              "\n",
              "    .dataframe thead th {\n",
              "        text-align: right;\n",
              "    }\n",
              "</style>\n",
              "<table border=\"1\" class=\"dataframe\">\n",
              "  <thead>\n",
              "    <tr style=\"text-align: right;\">\n",
              "      <th></th>\n",
              "      <th>Item_Weight</th>\n",
              "      <th>Item_Fat_Content</th>\n",
              "      <th>Item_Visibility</th>\n",
              "      <th>Item_Type</th>\n",
              "      <th>...</th>\n",
              "      <th>Outlet_Size</th>\n",
              "      <th>Outlet_Location_Type</th>\n",
              "      <th>Outlet_Type</th>\n",
              "      <th>Item_Outlet_Sales</th>\n",
              "    </tr>\n",
              "  </thead>\n",
              "  <tbody>\n",
              "    <tr>\n",
              "      <th>0</th>\n",
              "      <td>9.30</td>\n",
              "      <td>Low Fat</td>\n",
              "      <td>0.016047</td>\n",
              "      <td>Dairy</td>\n",
              "      <td>...</td>\n",
              "      <td>Medium</td>\n",
              "      <td>Tier 1</td>\n",
              "      <td>Supermarket Type1</td>\n",
              "      <td>3735.1380</td>\n",
              "    </tr>\n",
              "    <tr>\n",
              "      <th>1</th>\n",
              "      <td>5.92</td>\n",
              "      <td>Regular</td>\n",
              "      <td>0.019278</td>\n",
              "      <td>Soft Drinks</td>\n",
              "      <td>...</td>\n",
              "      <td>Medium</td>\n",
              "      <td>Tier 3</td>\n",
              "      <td>Supermarket Type2</td>\n",
              "      <td>443.4228</td>\n",
              "    </tr>\n",
              "    <tr>\n",
              "      <th>2</th>\n",
              "      <td>17.50</td>\n",
              "      <td>Low Fat</td>\n",
              "      <td>0.016760</td>\n",
              "      <td>Meat</td>\n",
              "      <td>...</td>\n",
              "      <td>Medium</td>\n",
              "      <td>Tier 1</td>\n",
              "      <td>Supermarket Type1</td>\n",
              "      <td>2097.2700</td>\n",
              "    </tr>\n",
              "    <tr>\n",
              "      <th>3</th>\n",
              "      <td>19.20</td>\n",
              "      <td>Regular</td>\n",
              "      <td>0.000000</td>\n",
              "      <td>Fruits and Vegetables</td>\n",
              "      <td>...</td>\n",
              "      <td>None</td>\n",
              "      <td>Tier 3</td>\n",
              "      <td>Grocery Store</td>\n",
              "      <td>732.3800</td>\n",
              "    </tr>\n",
              "    <tr>\n",
              "      <th>4</th>\n",
              "      <td>8.93</td>\n",
              "      <td>Low Fat</td>\n",
              "      <td>0.000000</td>\n",
              "      <td>Household</td>\n",
              "      <td>...</td>\n",
              "      <td>High</td>\n",
              "      <td>Tier 3</td>\n",
              "      <td>Supermarket Type1</td>\n",
              "      <td>994.7052</td>\n",
              "    </tr>\n",
              "  </tbody>\n",
              "</table>\n",
              "<p>5 rows × 11 columns</p>\n",
              "</div>"
            ],
            "text/plain": [
              "   Item_Weight Item_Fat_Content  Item_Visibility              Item_Type  ...  \\\n",
              "0         9.30          Low Fat         0.016047                  Dairy  ...   \n",
              "1         5.92          Regular         0.019278            Soft Drinks  ...   \n",
              "2        17.50          Low Fat         0.016760                   Meat  ...   \n",
              "3        19.20          Regular         0.000000  Fruits and Vegetables  ...   \n",
              "4         8.93          Low Fat         0.000000              Household  ...   \n",
              "\n",
              "   Outlet_Size Outlet_Location_Type        Outlet_Type Item_Outlet_Sales  \n",
              "0       Medium               Tier 1  Supermarket Type1         3735.1380  \n",
              "1       Medium               Tier 3  Supermarket Type2          443.4228  \n",
              "2       Medium               Tier 1  Supermarket Type1         2097.2700  \n",
              "3         None               Tier 3      Grocery Store          732.3800  \n",
              "4         High               Tier 3  Supermarket Type1          994.7052  \n",
              "\n",
              "[5 rows x 11 columns]"
            ]
          },
          "metadata": {
            "tags": []
          },
          "execution_count": 19
        }
      ]
    },
    {
      "cell_type": "code",
      "metadata": {
        "id": "E48rsE4lmM2X"
      },
      "source": [
        "dep_var='Item_Outlet_Sales'"
      ],
      "execution_count": null,
      "outputs": []
    },
    {
      "cell_type": "code",
      "metadata": {
        "id": "gX5ffRDHmM2X"
      },
      "source": [
        "cont,cat = cont_cat_split(df_train,max_card=200,dep_var=dep_var)"
      ],
      "execution_count": null,
      "outputs": []
    },
    {
      "cell_type": "code",
      "metadata": {
        "id": "26rRD3LGmM2Y"
      },
      "source": [
        "splits = RandomSplitter()(range_of(df_train))"
      ],
      "execution_count": null,
      "outputs": []
    },
    {
      "cell_type": "code",
      "metadata": {
        "id": "0MKWXo5qmM2Y"
      },
      "source": [
        "procs=[Categorify,FillMissing,Normalize]\n",
        "to=TabularPandas(df_train,procs=procs,cat_names=cat,cont_names=cont,y_names=dep_var,splits=splits)"
      ],
      "execution_count": null,
      "outputs": []
    },
    {
      "cell_type": "markdown",
      "metadata": {
        "id": "BbBXzoxamG0p"
      },
      "source": [
        "## Obtenemos los datos tratados para usarlos en los modelos.\n",
        "\n",
        "Si utilizamos NN tenemos que obtener el dataloader"
      ]
    },
    {
      "cell_type": "code",
      "metadata": {
        "id": "tKNvDUrvmksI"
      },
      "source": [
        "train_x, train_y=to.train.xs,to.train.y\n",
        "valid_x,valid_y=to.valid.xs,to.valid.y"
      ],
      "execution_count": null,
      "outputs": []
    },
    {
      "cell_type": "markdown",
      "metadata": {
        "id": "16KSIaFdm0cp"
      },
      "source": [
        "Trabajamos con XGBoost que ofrece los mejores resultados"
      ]
    },
    {
      "cell_type": "code",
      "metadata": {
        "id": "ejI-XQl0m8AY"
      },
      "source": [
        "def modelfit(alg, X,y, performCV=True, printFeatureImportance=True, cv_folds=5): \n",
        "    #Fit the algorithm on the data \n",
        "    alg.fit(X, y) \n",
        "    \n",
        "    #Predict training set:\n",
        "    dtrain_predictions = alg.predict(X) \n",
        "    #dtrain_predprob = alg.predict_proba(X)[:,1] \n",
        "    \n",
        "    #Perform cross-validation: \n",
        "    if performCV:\n",
        "        cv_score = cross_val_score(alg,X, y, cv=cv_folds, scoring='neg_root_mean_squared_error')\n",
        "    #Print model report:\n",
        "    print(\"/nModel Report\")\n",
        "    print(\"RMSE : %.4g\" % np.sqrt(metrics.mean_squared_error(y, dtrain_predictions)))\n",
        "    #print(\"AUC Score (Train): %f\" % metrics.roc_auc_score(y, dtrain_predprob)) \n",
        "    if performCV:\n",
        "        print(\"CV Score : Mean - %.7g | Std - %.7g | Min - %.7g | Max - %.7g\" %(np.mean(cv_score),np.std(cv_score),np.min(cv_score),np.max(cv_score))) \n",
        "    \n",
        "    #Print Feature Importance:\n",
        "    if printFeatureImportance:\n",
        "        feat_imp = pd.Series(alg.feature_importances_,list(X.columns)).sort_values(ascending=False)\n",
        "        feat_imp.plot(kind='bar', title='Feature Importances')\n",
        "        plt.ylabel('Feature Importance Score')"
      ],
      "execution_count": null,
      "outputs": []
    },
    {
      "cell_type": "code",
      "metadata": {
        "id": "wIzcnxLUoCsr"
      },
      "source": [
        "def result_reg(m,X,y):\n",
        "    predictions = m.predict(X)\n",
        "    print(\"RMSE : %.4g\" % np.sqrt(metrics.mean_squared_error(y, predictions)))\n",
        " \n",
        "    "
      ],
      "execution_count": null,
      "outputs": []
    },
    {
      "cell_type": "code",
      "metadata": {
        "colab": {
          "base_uri": "https://localhost:8080/",
          "height": 455
        },
        "id": "ZL135AG-nIAf",
        "outputId": "7f940142-05cd-47e5-e87c-9fae82bca4c2"
      },
      "source": [
        "gbm0 = GradientBoostingRegressor(random_state=10)\n",
        "modelfit(gbm0, train_x,train_y)"
      ],
      "execution_count": null,
      "outputs": [
        {
          "output_type": "stream",
          "text": [
            "/nModel Report\n",
            "RMSE : 1040\n",
            "CV Score : Mean - -1095.477 | Std - 42.90819 | Min - -1151.237 | Max - -1028.795\n"
          ],
          "name": "stdout"
        },
        {
          "output_type": "display_data",
          "data": {
            "image/png": "[encoded data removed]",
            "text/plain": [
              "<Figure size 864x288 with 1 Axes>"
            ]
          },
          "metadata": {
            "tags": [],
            "needs_background": "light"
          }
        }
      ]
    },
    {
      "cell_type": "code",
      "metadata": {
        "colab": {
          "base_uri": "https://localhost:8080/"
        },
        "id": "JD-LgfGRngUO",
        "outputId": "c20b5bb6-b0d2-439d-e37d-62411651f484"
      },
      "source": [
        "result_reg(gbm0,valid_x,valid_y)  "
      ],
      "execution_count": null,
      "outputs": [
        {
          "output_type": "stream",
          "text": [
            "RMSE : 1041\n"
          ],
          "name": "stdout"
        }
      ]
    },
    {
      "cell_type": "code",
      "metadata": {
        "id": "ayBZTWiqoQJv"
      },
      "source": [
        ""
      ],
      "execution_count": null,
      "outputs": []
    },
    {
      "cell_type": "markdown",
      "metadata": {
        "id": "yPmkuD0LovUJ"
      },
      "source": [
        "# XGBoost"
      ]
    },
    {
      "cell_type": "code",
      "metadata": {
        "id": "2DpthYduBngR"
      },
      "source": [
        "#to_xgb=load_pickle(path/'to_opt_nor.pkl')\n",
        "to_xgb=load_pickle(path/'to_mod.pkl')"
      ],
      "execution_count": null,
      "outputs": []
    },
    {
      "cell_type": "code",
      "metadata": {
        "id": "s-UXIr0UB8np"
      },
      "source": [
        "train_x, train_y=to_xgb.train.xs,to_xgb.train.y\n",
        "valid_x,valid_y=to_xgb.valid.xs,to_xgb.valid.y"
      ],
      "execution_count": null,
      "outputs": []
    },
    {
      "cell_type": "code",
      "metadata": {
        "id": "pwL4M6FNoyze"
      },
      "source": [
        "import xgboost as xgb \n",
        "from xgboost.sklearn import XGBClassifier,XGBRegressor \n",
        "from sklearn.model_selection import cross_val_score,cross_validate\n",
        "from sklearn import metrics\n",
        "from sklearn.model_selection import GridSearchCV #Perforing grid search \n",
        "import matplotlib.pylab as plt \n",
        "\n",
        "from matplotlib.pylab import rcParams \n",
        "\n",
        "rcParams['figure.figsize'] = 12, 4 \n",
        "\n"
      ],
      "execution_count": null,
      "outputs": []
    },
    {
      "cell_type": "code",
      "metadata": {
        "id": "USEe3Krrps8k"
      },
      "source": [
        "def modelfit(alg, X,y, useTrainCV=True, cv_folds=5, early_stopping_rounds=50):\n",
        "    if useTrainCV:\n",
        "        xgb_param = alg.get_xgb_params()\n",
        "        xgtrain = xgb.DMatrix(X,label=y) \n",
        "        cvresult = xgb.cv(xgb_param, xgtrain, num_boost_round=alg.get_params()['n_estimators'], nfold=cv_folds, metrics='rmse', early_stopping_rounds=early_stopping_rounds,show_stdv=False) \n",
        "        alg.set_params(n_estimators=cvresult.shape[0]) \n",
        "    #Fit the algorithm on the data\n",
        "    alg.fit(X, y,eval_metric='rmse') \n",
        "    \n",
        "    #Predict training set: \n",
        "    dtrain_predictions = alg.predict(X) \n",
        "     \n",
        "    \n",
        "    #Print model report: \n",
        "    print(\"\\nModel Report\") \n",
        "    print(\"RMSE : %.4g\" % np.sqrt(metrics.mean_squared_error(y, dtrain_predictions)))\n",
        "    feat_imp = pd.Series(alg.get_booster().get_score()).sort_values(ascending=False)\n",
        "    feat_imp.plot(kind='bar', title='Feature Importances') \n",
        "    plt.ylabel('Feature Importance Score')\n"
      ],
      "execution_count": null,
      "outputs": []
    },
    {
      "cell_type": "code",
      "metadata": {
        "id": "1lsxY3POry3X",
        "colab": {
          "base_uri": "https://localhost:8080/",
          "height": 457
        },
        "outputId": "4a9b72b3-0abb-4cf6-dafa-d1c446e4c1d8"
      },
      "source": [
        "#Choose all predictors except target & IDcols \n",
        "\n",
        "xgb1 = XGBRegressor( learning_rate =0.1, n_estimators=1000, max_depth=5, min_child_weight=1,gamma=0, subsample=0.8, colsample_bytree=0.8, objective= 'reg:squarederror', nthread=4, scale_pos_weight=1,seed=27) \n",
        "\n",
        "modelfit(xgb1, train_x,train_y)"
      ],
      "execution_count": null,
      "outputs": [
        {
          "output_type": "stream",
          "text": [
            "\n",
            "Model Report\n",
            "RMSE : 1005\n"
          ],
          "name": "stdout"
        },
        {
          "output_type": "display_data",
          "data": {
            "image/png": "[encoded data removed]",
            "text/plain": [
              "<Figure size 864x288 with 1 Axes>"
            ]
          },
          "metadata": {
            "tags": [],
            "needs_background": "light"
          }
        }
      ]
    },
    {
      "cell_type": "code",
      "metadata": {
        "colab": {
          "base_uri": "https://localhost:8080/"
        },
        "id": "P6hXjZh3GjOP",
        "outputId": "3322cad3-d09c-42e7-f2e6-c9e3a009082b"
      },
      "source": [
        "pd.Series(xgb1.get_booster().get_score()).sort_values(ascending=False)"
      ],
      "execution_count": null,
      "outputs": [
        {
          "output_type": "execute_result",
          "data": {
            "text/plain": [
              "Item_MRP                     379\n",
              "Item_Identifier              193\n",
              "Item_Visibility              192\n",
              "Item_Weight                  122\n",
              "Outlet_Type                   84\n",
              "Outlet_Establishment_Year     82\n",
              "Outlet_Identifier             77\n",
              "Item_Type                     65\n",
              "Item_Fat_Content              38\n",
              "Outlet_Size                   14\n",
              "Outlet_Location_Type           7\n",
              "dtype: int64"
            ]
          },
          "metadata": {
            "tags": []
          },
          "execution_count": 342
        }
      ]
    },
    {
      "cell_type": "code",
      "metadata": {
        "id": "BGqO4DQfGyFH"
      },
      "source": [
        "def result_reg(m,X,y):\n",
        "    predictions = m.predict(X)\n",
        "    print(\"RMSE : %.4g\" % np.sqrt(metrics.mean_squared_error(y, predictions)))"
      ],
      "execution_count": null,
      "outputs": []
    },
    {
      "cell_type": "code",
      "metadata": {
        "colab": {
          "base_uri": "https://localhost:8080/"
        },
        "id": "AhmOwaJUHSqH",
        "outputId": "4732e78b-cbd2-4412-ac90-f489d69c3872"
      },
      "source": [
        "result_reg(xgb1,train_x,train_y)"
      ],
      "execution_count": null,
      "outputs": [
        {
          "output_type": "stream",
          "text": [
            "RMSE : 1005\n"
          ],
          "name": "stdout"
        }
      ]
    },
    {
      "cell_type": "code",
      "metadata": {
        "colab": {
          "base_uri": "https://localhost:8080/"
        },
        "id": "BFFpBrsYHZp3",
        "outputId": "763b69d2-bc32-4e35-bc1e-e8b88ff22e21"
      },
      "source": [
        "result_reg(xgb1,valid_x,valid_y)"
      ],
      "execution_count": null,
      "outputs": [
        {
          "output_type": "stream",
          "text": [
            "RMSE : 1113\n"
          ],
          "name": "stdout"
        }
      ]
    },
    {
      "cell_type": "markdown",
      "metadata": {
        "id": "HUBzX2CTHfJH"
      },
      "source": [
        "In order to decide on boosting parameters, we need to set some initial values of other parameters. Lets take the following values:\n",
        "\n",
        "* **max_depth = 5**: This should be between 3-10. I’ve started with 5 but you can choose a different number as well. 4-6 can be good starting points.\n",
        "* **min_child_weight = 1**: A smaller value is chosen because it is a highly imbalanced class problem and leaf nodes can have smaller size groups.\n",
        "* **gamma = 0**: A smaller value like 0.1-0.2 can also be chosen for starting. This will anyways be tuned later.\n",
        "* **subsample, colsample_bytree = 0.8** : This is a commonly used used start value. Typical values range between 0.5-0.9.\n",
        "* **scale_pos_weight = 1**: Because of high class imbalance."
      ]
    },
    {
      "cell_type": "code",
      "metadata": {
        "id": "S4qAvkk0ImTk"
      },
      "source": [
        "xgb1 = XGBRegressor(\n",
        " learning_rate =0.05,\n",
        " n_estimators=3500,\n",
        " max_depth=5,\n",
        " min_child_weight=1,\n",
        " gamma=0,\n",
        " subsample=0.8,\n",
        " colsample_bytree=0.8,\n",
        " objective= 'reg:squarederror',\n",
        " nthread=4,\n",
        " scale_pos_weight=1,\n",
        " seed=27)\n",
        "\n"
      ],
      "execution_count": null,
      "outputs": []
    },
    {
      "cell_type": "code",
      "metadata": {
        "colab": {
          "base_uri": "https://localhost:8080/",
          "height": 457
        },
        "id": "TzRAqqcPJK7C",
        "outputId": "c4403299-fada-451f-f369-e862e6dfa173"
      },
      "source": [
        "modelfit(xgb1, train_x, train_y)"
      ],
      "execution_count": null,
      "outputs": [
        {
          "output_type": "stream",
          "text": [
            "\n",
            "Model Report\n",
            "RMSE : 1006\n"
          ],
          "name": "stdout"
        },
        {
          "output_type": "display_data",
          "data": {
            "image/png": "[encoded data removed]",
            "text/plain": [
              "<Figure size 864x288 with 1 Axes>"
            ]
          },
          "metadata": {
            "tags": [],
            "needs_background": "light"
          }
        }
      ]
    },
    {
      "cell_type": "code",
      "metadata": {
        "colab": {
          "base_uri": "https://localhost:8080/"
        },
        "id": "ysJ-4_uzI1BO",
        "outputId": "2f942d8c-f1f6-4898-bf77-818825a55a65"
      },
      "source": [
        "result_reg(xgb1,valid_x,valid_y)"
      ],
      "execution_count": null,
      "outputs": [
        {
          "output_type": "stream",
          "text": [
            "RMSE : 1114\n"
          ],
          "name": "stdout"
        }
      ]
    },
    {
      "cell_type": "markdown",
      "metadata": {
        "id": "aWx0D6zsJiVd"
      },
      "source": [
        "**Step 2: Tune max_depth and min_child_weight**"
      ]
    },
    {
      "cell_type": "code",
      "metadata": {
        "id": "lI0hcJdkJqVU"
      },
      "source": [
        "param_test1 = {\n",
        " 'max_depth':range(3,10,2),\n",
        " 'min_child_weight':range(1,6,2)\n",
        "}"
      ],
      "execution_count": null,
      "outputs": []
    },
    {
      "cell_type": "code",
      "metadata": {
        "id": "yW7o5UdScQZi"
      },
      "source": [
        "from sklearn.metrics import mean_squared_error\n",
        "def rmse(target,pred):\n",
        "    return np.sqrt(mean_squared_error(target, pred)) "
      ],
      "execution_count": null,
      "outputs": []
    },
    {
      "cell_type": "code",
      "metadata": {
        "colab": {
          "base_uri": "https://localhost:8080/"
        },
        "id": "_V3lhb8ZJv3J",
        "outputId": "e3b355ab-a93a-442f-dc75-e719322e2529"
      },
      "source": [
        "gsearch1 = GridSearchCV(estimator = XGBRegressor( learning_rate =0.1, n_estimators=140,\n",
        " min_child_weight=1, gamma=0, subsample=0.8, colsample_bytree=0.8, objective= 'reg:squarederror', nthread=4, scale_pos_weight=1, seed=27), \n",
        " param_grid = param_test1,n_jobs=4,cv=5)\n",
        "\n",
        "gsearch1.fit(train_x,train_y)\n"
      ],
      "execution_count": null,
      "outputs": [
        {
          "output_type": "execute_result",
          "data": {
            "text/plain": [
              "GridSearchCV(cv=5, error_score=nan,\n",
              "             estimator=XGBRegressor(base_score=0.5, booster='gbtree',\n",
              "                                    colsample_bylevel=1, colsample_bynode=1,\n",
              "                                    colsample_bytree=0.8, gamma=0,\n",
              "                                    importance_type='gain', learning_rate=0.1,\n",
              "                                    max_delta_step=0, max_depth=3,\n",
              "                                    min_child_weight=1, missing=None,\n",
              "                                    n_estimators=140, n_jobs=1, nthread=4,\n",
              "                                    objective='reg:squarederror',\n",
              "                                    random_state=0, reg_alpha=0, reg_lambda=1,\n",
              "                                    scale_pos_weight=1, seed=27, silent=None,\n",
              "                                    subsample=0.8, verbosity=1),\n",
              "             iid='deprecated', n_jobs=4,\n",
              "             param_grid={'max_depth': range(3, 10, 2),\n",
              "                         'min_child_weight': range(1, 6, 2)},\n",
              "             pre_dispatch='2*n_jobs', refit=True, return_train_score=False,\n",
              "             scoring=None, verbose=0)"
            ]
          },
          "metadata": {
            "tags": []
          },
          "execution_count": 351
        }
      ]
    },
    {
      "cell_type": "code",
      "metadata": {
        "colab": {
          "base_uri": "https://localhost:8080/"
        },
        "id": "cVCZg0V-KGvW",
        "outputId": "e5572c55-3d29-46db-8754-4c8f2aac810b"
      },
      "source": [
        "gsearch1.cv_results_, gsearch1.best_params_, gsearch1.best_score_"
      ],
      "execution_count": null,
      "outputs": [
        {
          "output_type": "execute_result",
          "data": {
            "text/plain": [
              "({'mean_fit_time': array([1.82701216, 1.26670051, 1.24321775, 2.06053429, 2.05221672,\n",
              "         2.07207727, 3.10264239, 2.93379045, 2.85176387, 4.113941  ,\n",
              "         3.98717184, 3.29014497]),\n",
              "  'mean_score_time': array([0.01711192, 0.01608462, 0.01863694, 0.03568873, 0.02481432,\n",
              "         0.0351315 , 0.03306103, 0.03867083, 0.03963614, 0.04556513,\n",
              "         0.05366435, 0.02813711]),\n",
              "  'mean_test_score': array([0.59410093, 0.59423987, 0.59338089, 0.57385371, 0.57563164,\n",
              "         0.57565503, 0.55353664, 0.55020916, 0.55055774, 0.52594851,\n",
              "         0.52845966, 0.52648121]),\n",
              "  'param_max_depth': masked_array(data=[3, 3, 3, 5, 5, 5, 7, 7, 7, 9, 9, 9],\n",
              "               mask=[False, False, False, False, False, False, False, False,\n",
              "                     False, False, False, False],\n",
              "         fill_value='?',\n",
              "              dtype=object),\n",
              "  'param_min_child_weight': masked_array(data=[1, 3, 5, 1, 3, 5, 1, 3, 5, 1, 3, 5],\n",
              "               mask=[False, False, False, False, False, False, False, False,\n",
              "                     False, False, False, False],\n",
              "         fill_value='?',\n",
              "              dtype=object),\n",
              "  'params': [{'max_depth': 3, 'min_child_weight': 1},\n",
              "   {'max_depth': 3, 'min_child_weight': 3},\n",
              "   {'max_depth': 3, 'min_child_weight': 5},\n",
              "   {'max_depth': 5, 'min_child_weight': 1},\n",
              "   {'max_depth': 5, 'min_child_weight': 3},\n",
              "   {'max_depth': 5, 'min_child_weight': 5},\n",
              "   {'max_depth': 7, 'min_child_weight': 1},\n",
              "   {'max_depth': 7, 'min_child_weight': 3},\n",
              "   {'max_depth': 7, 'min_child_weight': 5},\n",
              "   {'max_depth': 9, 'min_child_weight': 1},\n",
              "   {'max_depth': 9, 'min_child_weight': 3},\n",
              "   {'max_depth': 9, 'min_child_weight': 5}],\n",
              "  'rank_test_score': array([ 2,  1,  3,  6,  5,  4,  7,  9,  8, 12, 10, 11], dtype=int32),\n",
              "  'split0_test_score': array([0.57227984, 0.57401927, 0.57371028, 0.55662206, 0.5561297 ,\n",
              "         0.5531947 , 0.53371931, 0.53118502, 0.52489336, 0.50483723,\n",
              "         0.5184853 , 0.50337745]),\n",
              "  'split1_test_score': array([0.57133625, 0.56934979, 0.57001344, 0.54878032, 0.55074208,\n",
              "         0.55106843, 0.52421711, 0.52564635, 0.52849052, 0.49307993,\n",
              "         0.4987651 , 0.50103276]),\n",
              "  'split2_test_score': array([0.61165699, 0.6129271 , 0.61052089, 0.58463827, 0.58979461,\n",
              "         0.58962761, 0.56146297, 0.55777642, 0.55361338, 0.53459612,\n",
              "         0.53670505, 0.53346115]),\n",
              "  'split3_test_score': array([0.61391811, 0.61382791, 0.61270744, 0.59511923, 0.59617552,\n",
              "         0.59797485, 0.57429918, 0.5759002 , 0.57918384, 0.55891074,\n",
              "         0.55971   , 0.55714627]),\n",
              "  'split4_test_score': array([0.60131348, 0.60107529, 0.59995243, 0.58410868, 0.58531627,\n",
              "         0.58640957, 0.57398465, 0.5605378 , 0.5666076 , 0.53831852,\n",
              "         0.52863286, 0.53738842]),\n",
              "  'std_fit_time': array([0.4127017 , 0.29244755, 0.2034811 , 0.10125639, 0.13951169,\n",
              "         0.11116516, 0.2407309 , 0.09682709, 0.11357057, 0.17196445,\n",
              "         0.07577235, 0.39849736]),\n",
              "  'std_score_time': array([0.00594936, 0.00581808, 0.00613507, 0.00362879, 0.0051614 ,\n",
              "         0.00619445, 0.00767559, 0.00238285, 0.01092543, 0.01235076,\n",
              "         0.00794295, 0.01023818]),\n",
              "  'std_test_score': array([0.0186941 , 0.01901587, 0.01812981, 0.01788462, 0.018527  ,\n",
              "         0.01958589, 0.02080573, 0.01891678, 0.02112823, 0.02383416,\n",
              "         0.02012886, 0.02139832])},\n",
              " {'max_depth': 3, 'min_child_weight': 3},\n",
              " 0.5942398720205075)"
            ]
          },
          "metadata": {
            "tags": []
          },
          "execution_count": 352
        }
      ]
    },
    {
      "cell_type": "code",
      "metadata": {
        "colab": {
          "base_uri": "https://localhost:8080/"
        },
        "id": "MKPBrrD7KiG9",
        "outputId": "739d9198-d005-44d9-ff7a-a8f21ef474f9"
      },
      "source": [
        "result_reg(gsearch1.best_estimator_,valid_x,valid_y),result_reg(gsearch1.best_estimator_,train_x,train_y)"
      ],
      "execution_count": null,
      "outputs": [
        {
          "output_type": "stream",
          "text": [
            "RMSE : 1113\n",
            "RMSE : 1006\n"
          ],
          "name": "stdout"
        },
        {
          "output_type": "execute_result",
          "data": {
            "text/plain": [
              "(None, None)"
            ]
          },
          "metadata": {
            "tags": []
          },
          "execution_count": 353
        }
      ]
    },
    {
      "cell_type": "markdown",
      "metadata": {
        "id": "Y9I1x5OjPu6v"
      },
      "source": [
        "Vamos a intentar afinar con unvalor por encima y uno poor debajo"
      ]
    },
    {
      "cell_type": "code",
      "metadata": {
        "colab": {
          "base_uri": "https://localhost:8080/"
        },
        "id": "JzeLxd2qP1mE",
        "outputId": "9df9b646-ae76-4ff4-d661-f92ed8cccdec"
      },
      "source": [
        "param_test2 = {\n",
        " 'max_depth':[1,2,3,4],\n",
        " 'min_child_weight':[1,2,3,4]\n",
        "}\n",
        "\n",
        "gsearch2 = GridSearchCV(estimator = XGBRegressor( learning_rate =0.1, n_estimators=140, max_depth=5,\n",
        " min_child_weight=1, gamma=0, subsample=0.8, colsample_bytree=0.8, objective= 'reg:squarederror', nthread=4, scale_pos_weight=1, seed=27), \n",
        " param_grid = param_test2,n_jobs=4,cv=5)\n",
        "\n",
        "gsearch2.fit(train_x,train_y)"
      ],
      "execution_count": null,
      "outputs": [
        {
          "output_type": "execute_result",
          "data": {
            "text/plain": [
              "GridSearchCV(cv=5, error_score=nan,\n",
              "             estimator=XGBRegressor(base_score=0.5, booster='gbtree',\n",
              "                                    colsample_bylevel=1, colsample_bynode=1,\n",
              "                                    colsample_bytree=0.8, gamma=0,\n",
              "                                    importance_type='gain', learning_rate=0.1,\n",
              "                                    max_delta_step=0, max_depth=5,\n",
              "                                    min_child_weight=1, missing=None,\n",
              "                                    n_estimators=140, n_jobs=1, nthread=4,\n",
              "                                    objective='reg:squarederror',\n",
              "                                    random_state=0, reg_alpha=0, reg_lambda=1,\n",
              "                                    scale_pos_weight=1, seed=27, silent=None,\n",
              "                                    subsample=0.8, verbosity=1),\n",
              "             iid='deprecated', n_jobs=4,\n",
              "             param_grid={'max_depth': [1, 2, 3, 4],\n",
              "                         'min_child_weight': [1, 2, 3, 4]},\n",
              "             pre_dispatch='2*n_jobs', refit=True, return_train_score=False,\n",
              "             scoring=None, verbose=0)"
            ]
          },
          "metadata": {
            "tags": []
          },
          "execution_count": 40
        }
      ]
    },
    {
      "cell_type": "code",
      "metadata": {
        "colab": {
          "base_uri": "https://localhost:8080/"
        },
        "id": "vylD2RYFQRpp",
        "outputId": "dcaeec2b-1a27-478f-ce47-61b3763bcb2c"
      },
      "source": [
        "gsearch2.cv_results_, gsearch2.best_params_, gsearch2.best_score_"
      ],
      "execution_count": null,
      "outputs": [
        {
          "output_type": "execute_result",
          "data": {
            "text/plain": [
              "({'mean_fit_time': array([1.05559835, 0.68298306, 0.67910609, 0.64703317, 0.99165225,\n",
              "         0.96760077, 1.0117806 , 0.92319345, 1.35764141, 1.27818065,\n",
              "         1.34671516, 1.33106718, 1.76425834, 1.71731033, 1.75729876,\n",
              "         1.55455027]),\n",
              "  'mean_score_time': array([0.00928154, 0.01540318, 0.01861067, 0.01541796, 0.01617694,\n",
              "         0.02125063, 0.01606145, 0.01621728, 0.02247119, 0.02077599,\n",
              "         0.02546868, 0.02843251, 0.02003064, 0.02541351, 0.02360244,\n",
              "         0.02167044]),\n",
              "  'mean_test_score': array([0.55089372, 0.55089372, 0.55089372, 0.55089372, 0.58782526,\n",
              "         0.58807825, 0.58804387, 0.58789937, 0.58389413, 0.58366964,\n",
              "         0.58416628, 0.58327483, 0.57459628, 0.57591387, 0.57610106,\n",
              "         0.57699606]),\n",
              "  'param_max_depth': masked_array(data=[1, 1, 1, 1, 2, 2, 2, 2, 3, 3, 3, 3, 4, 4, 4, 4],\n",
              "               mask=[False, False, False, False, False, False, False, False,\n",
              "                     False, False, False, False, False, False, False, False],\n",
              "         fill_value='?',\n",
              "              dtype=object),\n",
              "  'param_min_child_weight': masked_array(data=[1, 2, 3, 4, 1, 2, 3, 4, 1, 2, 3, 4, 1, 2, 3, 4],\n",
              "               mask=[False, False, False, False, False, False, False, False,\n",
              "                     False, False, False, False, False, False, False, False],\n",
              "         fill_value='?',\n",
              "              dtype=object),\n",
              "  'params': [{'max_depth': 1, 'min_child_weight': 1},\n",
              "   {'max_depth': 1, 'min_child_weight': 2},\n",
              "   {'max_depth': 1, 'min_child_weight': 3},\n",
              "   {'max_depth': 1, 'min_child_weight': 4},\n",
              "   {'max_depth': 2, 'min_child_weight': 1},\n",
              "   {'max_depth': 2, 'min_child_weight': 2},\n",
              "   {'max_depth': 2, 'min_child_weight': 3},\n",
              "   {'max_depth': 2, 'min_child_weight': 4},\n",
              "   {'max_depth': 3, 'min_child_weight': 1},\n",
              "   {'max_depth': 3, 'min_child_weight': 2},\n",
              "   {'max_depth': 3, 'min_child_weight': 3},\n",
              "   {'max_depth': 3, 'min_child_weight': 4},\n",
              "   {'max_depth': 4, 'min_child_weight': 1},\n",
              "   {'max_depth': 4, 'min_child_weight': 2},\n",
              "   {'max_depth': 4, 'min_child_weight': 3},\n",
              "   {'max_depth': 4, 'min_child_weight': 4}],\n",
              "  'rank_test_score': array([13, 13, 13, 13,  4,  1,  2,  3,  6,  7,  5,  8, 12, 11, 10,  9],\n",
              "        dtype=int32),\n",
              "  'split0_test_score': array([0.52552877, 0.52552877, 0.52552877, 0.52552877, 0.55564033,\n",
              "         0.55654998, 0.55646966, 0.55631423, 0.55080378, 0.55222698,\n",
              "         0.55182624, 0.55011077, 0.54286035, 0.54293788, 0.54906968,\n",
              "         0.54402288]),\n",
              "  'split1_test_score': array([0.57420837, 0.57420837, 0.57420837, 0.57420837, 0.6199979 ,\n",
              "         0.61935658, 0.61946137, 0.62047268, 0.61683309, 0.6138379 ,\n",
              "         0.61650951, 0.61944453, 0.61009223, 0.61291654, 0.61259647,\n",
              "         0.61438995]),\n",
              "  'split2_test_score': array([0.57392076, 0.57392076, 0.57392076, 0.57392076, 0.60949791,\n",
              "         0.61005068, 0.60949007, 0.60883417, 0.60842489, 0.6070208 ,\n",
              "         0.60578676, 0.6048858 , 0.60398432, 0.60358887, 0.60200353,\n",
              "         0.60340089]),\n",
              "  'split3_test_score': array([0.54925404, 0.54925404, 0.54925404, 0.54925404, 0.58850557,\n",
              "         0.588363  , 0.58693061, 0.58697296, 0.58148556, 0.58310939,\n",
              "         0.58414   , 0.58521442, 0.57240925, 0.57280273, 0.57099771,\n",
              "         0.57473161]),\n",
              "  'split4_test_score': array([0.53155668, 0.53155668, 0.53155668, 0.53155668, 0.56548459,\n",
              "         0.56607102, 0.56786764, 0.56690279, 0.56192332, 0.56215315,\n",
              "         0.56256889, 0.5567186 , 0.54363524, 0.54732335, 0.54583791,\n",
              "         0.54843496]),\n",
              "  'std_fit_time': array([0.28175977, 0.14432818, 0.05921736, 0.08561263, 0.04501956,\n",
              "         0.24164024, 0.06276127, 0.1827562 , 0.17634268, 0.15201824,\n",
              "         0.23443555, 0.14766574, 0.06525896, 0.21309816, 0.13477189,\n",
              "         0.24969711]),\n",
              "  'std_score_time': array([0.00542374, 0.00852338, 0.00594726, 0.00339808, 0.00491867,\n",
              "         0.00717476, 0.00706007, 0.00402778, 0.00696263, 0.00767847,\n",
              "         0.00710457, 0.01008116, 0.00334823, 0.00559525, 0.00946023,\n",
              "         0.01075105]),\n",
              "  'std_test_score': array([0.02046366, 0.02046366, 0.02046366, 0.02046366, 0.02465855,\n",
              "         0.02424687, 0.02388409, 0.02424303, 0.02557429, 0.02411354,\n",
              "         0.02460023, 0.02677361, 0.02861523, 0.02845915, 0.02711255,\n",
              "         0.02829704])},\n",
              " {'max_depth': 2, 'min_child_weight': 2},\n",
              " 0.5880782528136285)"
            ]
          },
          "metadata": {
            "tags": []
          },
          "execution_count": 41
        }
      ]
    },
    {
      "cell_type": "code",
      "metadata": {
        "colab": {
          "base_uri": "https://localhost:8080/"
        },
        "id": "kCr5RiyBQSqJ",
        "outputId": "464e1517-b01c-4181-d61e-d839993bbd4d"
      },
      "source": [
        "result_reg(gsearch2.best_estimator_,valid_x,valid_y),result_reg(gsearch2.best_estimator_,train_x,train_y)"
      ],
      "execution_count": null,
      "outputs": [
        {
          "output_type": "stream",
          "text": [
            "RMSE : 1040\n",
            "RMSE : 1061\n"
          ],
          "name": "stdout"
        },
        {
          "output_type": "execute_result",
          "data": {
            "text/plain": [
              "(None, None)"
            ]
          },
          "metadata": {
            "tags": []
          },
          "execution_count": 104
        }
      ]
    },
    {
      "cell_type": "markdown",
      "metadata": {
        "id": "nyxiFW3AQEz0"
      },
      "source": [
        "Probamos con lo que tenemos hasta ahora"
      ]
    },
    {
      "cell_type": "code",
      "metadata": {
        "colab": {
          "base_uri": "https://localhost:8080/",
          "height": 457
        },
        "id": "qNX0EsK-SdJY",
        "outputId": "188701f1-829a-40be-ff44-b6427d431414"
      },
      "source": [
        "xgb2 = XGBRegressor(\n",
        " learning_rate =0.1,\n",
        " n_estimators=100,\n",
        " max_depth=5,\n",
        " min_child_weight=6,\n",
        " gamma=0.9,\n",
        " subsample=0.8,\n",
        " colsample_bytree=0.8,\n",
        " objective= 'reg:squarederror',\n",
        " nthread=4,\n",
        " scale_pos_weight=1,\n",
        " seed=27)\n",
        "\n",
        "modelfit(xgb2, train_x, train_y)"
      ],
      "execution_count": null,
      "outputs": [
        {
          "output_type": "stream",
          "text": [
            "\n",
            "Model Report\n",
            "RMSE : 1034\n"
          ],
          "name": "stdout"
        },
        {
          "output_type": "display_data",
          "data": {
            "image/png": "[encoded data removed]",
            "text/plain": [
              "<Figure size 864x288 with 1 Axes>"
            ]
          },
          "metadata": {
            "tags": [],
            "needs_background": "light"
          }
        }
      ]
    },
    {
      "cell_type": "code",
      "metadata": {
        "colab": {
          "base_uri": "https://localhost:8080/"
        },
        "id": "dKLlM8lTT4LA",
        "outputId": "fb01b7a7-cc07-4d2f-ef7b-9772b8742ef5"
      },
      "source": [
        "result_reg(xgb2,valid_x,valid_y),result_reg(xgb2,train_x,train_y)"
      ],
      "execution_count": null,
      "outputs": [
        {
          "output_type": "stream",
          "text": [
            "RMSE : 1042\n",
            "RMSE : 1034\n"
          ],
          "name": "stdout"
        },
        {
          "output_type": "execute_result",
          "data": {
            "text/plain": [
              "(None, None)"
            ]
          },
          "metadata": {
            "tags": []
          },
          "execution_count": 109
        }
      ]
    },
    {
      "cell_type": "markdown",
      "metadata": {
        "id": "JWFE7vS7KycW"
      },
      "source": [
        "**Step 3: Tune gamma**\n",
        "\n",
        "Now lets tune gamma value using the parameters already tuned above. Gamma can take various values but I’ll check for 5 values here. You can go into more precise values as."
      ]
    },
    {
      "cell_type": "code",
      "metadata": {
        "id": "zKYDFF9ELE5O"
      },
      "source": [
        "param_test3 = {\n",
        " 'gamma':[i/10.0 for i in range(0,4)]\n",
        "}\n",
        "\n",
        "gsearch3 = GridSearchCV(estimator = XGBClassifier( learning_rate =0.1, n_estimators=140, max_depth=2, min_child_weight=2, gamma=0, subsample=0.8, colsample_bytree=0.8,\n",
        "                                                  \n"
      ],
      "execution_count": null,
      "outputs": []
    },
    {
      "cell_type": "code",
      "metadata": {
        "colab": {
          "base_uri": "https://localhost:8080/",
          "height": 316
        },
        "id": "TiRa3g9kLnxK",
        "outputId": "8f53a0ca-7b0b-4b73-afa6-70ecceb2c05d"
      },
      "source": [
        "gsearch3.fit(train_x,train_y)\n"
      ],
      "execution_count": null,
      "outputs": [
        {
          "output_type": "error",
          "ename": "KeyboardInterrupt",
          "evalue": "ignored",
          "traceback": [
            "\u001b[0;31m---------------------------------------------------------------------------\u001b[0m",
            "\u001b[0;31mKeyboardInterrupt\u001b[0m                         Traceback (most recent call last)",
            "\u001b[0;32m<ipython-input-91-d424dfcaab41>\u001b[0m in \u001b[0;36m<module>\u001b[0;34m()\u001b[0m\n\u001b[0;32m----> 1\u001b[0;31m \u001b[0mgsearch3\u001b[0m\u001b[0;34m.\u001b[0m\u001b[0mfit\u001b[0m\u001b[0;34m(\u001b[0m\u001b[0mtrain_x\u001b[0m\u001b[0;34m,\u001b[0m\u001b[0mtrain_y\u001b[0m\u001b[0;34m)\u001b[0m\u001b[0;34m\u001b[0m\u001b[0;34m\u001b[0m\u001b[0m\n\u001b[0m",
            "\u001b[0;32m/usr/local/lib/python3.7/dist-packages/sklearn/model_selection/_search.py\u001b[0m in \u001b[0;36mfit\u001b[0;34m(self, X, y, groups, **fit_params)\u001b[0m\n\u001b[1;32m    708\u001b[0m                 \u001b[0;32mreturn\u001b[0m \u001b[0mresults\u001b[0m\u001b[0;34m\u001b[0m\u001b[0;34m\u001b[0m\u001b[0m\n\u001b[1;32m    709\u001b[0m \u001b[0;34m\u001b[0m\u001b[0m\n\u001b[0;32m--> 710\u001b[0;31m             \u001b[0mself\u001b[0m\u001b[0;34m.\u001b[0m\u001b[0m_run_search\u001b[0m\u001b[0;34m(\u001b[0m\u001b[0mevaluate_candidates\u001b[0m\u001b[0;34m)\u001b[0m\u001b[0;34m\u001b[0m\u001b[0;34m\u001b[0m\u001b[0m\n\u001b[0m\u001b[1;32m    711\u001b[0m \u001b[0;34m\u001b[0m\u001b[0m\n\u001b[1;32m    712\u001b[0m         \u001b[0;31m# For multi-metric evaluation, store the best_index_, best_params_ and\u001b[0m\u001b[0;34m\u001b[0m\u001b[0;34m\u001b[0m\u001b[0;34m\u001b[0m\u001b[0m\n",
            "\u001b[0;32m/usr/local/lib/python3.7/dist-packages/sklearn/model_selection/_search.py\u001b[0m in \u001b[0;36m_run_search\u001b[0;34m(self, evaluate_candidates)\u001b[0m\n\u001b[1;32m   1149\u001b[0m     \u001b[0;32mdef\u001b[0m \u001b[0m_run_search\u001b[0m\u001b[0;34m(\u001b[0m\u001b[0mself\u001b[0m\u001b[0;34m,\u001b[0m \u001b[0mevaluate_candidates\u001b[0m\u001b[0;34m)\u001b[0m\u001b[0;34m:\u001b[0m\u001b[0;34m\u001b[0m\u001b[0;34m\u001b[0m\u001b[0m\n\u001b[1;32m   1150\u001b[0m         \u001b[0;34m\"\"\"Search all candidates in param_grid\"\"\"\u001b[0m\u001b[0;34m\u001b[0m\u001b[0;34m\u001b[0m\u001b[0m\n\u001b[0;32m-> 1151\u001b[0;31m         \u001b[0mevaluate_candidates\u001b[0m\u001b[0;34m(\u001b[0m\u001b[0mParameterGrid\u001b[0m\u001b[0;34m(\u001b[0m\u001b[0mself\u001b[0m\u001b[0;34m.\u001b[0m\u001b[0mparam_grid\u001b[0m\u001b[0;34m)\u001b[0m\u001b[0;34m)\u001b[0m\u001b[0;34m\u001b[0m\u001b[0;34m\u001b[0m\u001b[0m\n\u001b[0m\u001b[1;32m   1152\u001b[0m \u001b[0;34m\u001b[0m\u001b[0m\n\u001b[1;32m   1153\u001b[0m \u001b[0;34m\u001b[0m\u001b[0m\n",
            "\u001b[0;32m/usr/local/lib/python3.7/dist-packages/sklearn/model_selection/_search.py\u001b[0m in \u001b[0;36mevaluate_candidates\u001b[0;34m(candidate_params)\u001b[0m\n\u001b[1;32m    687\u001b[0m                                \u001b[0;32mfor\u001b[0m \u001b[0mparameters\u001b[0m\u001b[0;34m,\u001b[0m \u001b[0;34m(\u001b[0m\u001b[0mtrain\u001b[0m\u001b[0;34m,\u001b[0m \u001b[0mtest\u001b[0m\u001b[0;34m)\u001b[0m\u001b[0;34m\u001b[0m\u001b[0;34m\u001b[0m\u001b[0m\n\u001b[1;32m    688\u001b[0m                                in product(candidate_params,\n\u001b[0;32m--> 689\u001b[0;31m                                           cv.split(X, y, groups)))\n\u001b[0m\u001b[1;32m    690\u001b[0m \u001b[0;34m\u001b[0m\u001b[0m\n\u001b[1;32m    691\u001b[0m                 \u001b[0;32mif\u001b[0m \u001b[0mlen\u001b[0m\u001b[0;34m(\u001b[0m\u001b[0mout\u001b[0m\u001b[0;34m)\u001b[0m \u001b[0;34m<\u001b[0m \u001b[0;36m1\u001b[0m\u001b[0;34m:\u001b[0m\u001b[0;34m\u001b[0m\u001b[0;34m\u001b[0m\u001b[0m\n",
            "\u001b[0;32m/usr/local/lib/python3.7/dist-packages/joblib/parallel.py\u001b[0m in \u001b[0;36m__call__\u001b[0;34m(self, iterable)\u001b[0m\n\u001b[1;32m   1052\u001b[0m \u001b[0;34m\u001b[0m\u001b[0m\n\u001b[1;32m   1053\u001b[0m             \u001b[0;32mwith\u001b[0m \u001b[0mself\u001b[0m\u001b[0;34m.\u001b[0m\u001b[0m_backend\u001b[0m\u001b[0;34m.\u001b[0m\u001b[0mretrieval_context\u001b[0m\u001b[0;34m(\u001b[0m\u001b[0;34m)\u001b[0m\u001b[0;34m:\u001b[0m\u001b[0;34m\u001b[0m\u001b[0;34m\u001b[0m\u001b[0m\n\u001b[0;32m-> 1054\u001b[0;31m                 \u001b[0mself\u001b[0m\u001b[0;34m.\u001b[0m\u001b[0mretrieve\u001b[0m\u001b[0;34m(\u001b[0m\u001b[0;34m)\u001b[0m\u001b[0;34m\u001b[0m\u001b[0;34m\u001b[0m\u001b[0m\n\u001b[0m\u001b[1;32m   1055\u001b[0m             \u001b[0;31m# Make sure that we get a last message telling us we are done\u001b[0m\u001b[0;34m\u001b[0m\u001b[0;34m\u001b[0m\u001b[0;34m\u001b[0m\u001b[0m\n\u001b[1;32m   1056\u001b[0m             \u001b[0melapsed_time\u001b[0m \u001b[0;34m=\u001b[0m \u001b[0mtime\u001b[0m\u001b[0;34m.\u001b[0m\u001b[0mtime\u001b[0m\u001b[0;34m(\u001b[0m\u001b[0;34m)\u001b[0m \u001b[0;34m-\u001b[0m \u001b[0mself\u001b[0m\u001b[0;34m.\u001b[0m\u001b[0m_start_time\u001b[0m\u001b[0;34m\u001b[0m\u001b[0;34m\u001b[0m\u001b[0m\n",
            "\u001b[0;32m/usr/local/lib/python3.7/dist-packages/joblib/parallel.py\u001b[0m in \u001b[0;36mretrieve\u001b[0;34m(self)\u001b[0m\n\u001b[1;32m    931\u001b[0m             \u001b[0;32mtry\u001b[0m\u001b[0;34m:\u001b[0m\u001b[0;34m\u001b[0m\u001b[0;34m\u001b[0m\u001b[0m\n\u001b[1;32m    932\u001b[0m                 \u001b[0;32mif\u001b[0m \u001b[0mgetattr\u001b[0m\u001b[0;34m(\u001b[0m\u001b[0mself\u001b[0m\u001b[0;34m.\u001b[0m\u001b[0m_backend\u001b[0m\u001b[0;34m,\u001b[0m \u001b[0;34m'supports_timeout'\u001b[0m\u001b[0;34m,\u001b[0m \u001b[0;32mFalse\u001b[0m\u001b[0;34m)\u001b[0m\u001b[0;34m:\u001b[0m\u001b[0;34m\u001b[0m\u001b[0;34m\u001b[0m\u001b[0m\n\u001b[0;32m--> 933\u001b[0;31m                     \u001b[0mself\u001b[0m\u001b[0;34m.\u001b[0m\u001b[0m_output\u001b[0m\u001b[0;34m.\u001b[0m\u001b[0mextend\u001b[0m\u001b[0;34m(\u001b[0m\u001b[0mjob\u001b[0m\u001b[0;34m.\u001b[0m\u001b[0mget\u001b[0m\u001b[0;34m(\u001b[0m\u001b[0mtimeout\u001b[0m\u001b[0;34m=\u001b[0m\u001b[0mself\u001b[0m\u001b[0;34m.\u001b[0m\u001b[0mtimeout\u001b[0m\u001b[0;34m)\u001b[0m\u001b[0;34m)\u001b[0m\u001b[0;34m\u001b[0m\u001b[0;34m\u001b[0m\u001b[0m\n\u001b[0m\u001b[1;32m    934\u001b[0m                 \u001b[0;32melse\u001b[0m\u001b[0;34m:\u001b[0m\u001b[0;34m\u001b[0m\u001b[0;34m\u001b[0m\u001b[0m\n\u001b[1;32m    935\u001b[0m                     \u001b[0mself\u001b[0m\u001b[0;34m.\u001b[0m\u001b[0m_output\u001b[0m\u001b[0;34m.\u001b[0m\u001b[0mextend\u001b[0m\u001b[0;34m(\u001b[0m\u001b[0mjob\u001b[0m\u001b[0;34m.\u001b[0m\u001b[0mget\u001b[0m\u001b[0;34m(\u001b[0m\u001b[0;34m)\u001b[0m\u001b[0;34m)\u001b[0m\u001b[0;34m\u001b[0m\u001b[0;34m\u001b[0m\u001b[0m\n",
            "\u001b[0;32m/usr/local/lib/python3.7/dist-packages/joblib/_parallel_backends.py\u001b[0m in \u001b[0;36mwrap_future_result\u001b[0;34m(future, timeout)\u001b[0m\n\u001b[1;32m    540\u001b[0m         AsyncResults.get from multiprocessing.\"\"\"\n\u001b[1;32m    541\u001b[0m         \u001b[0;32mtry\u001b[0m\u001b[0;34m:\u001b[0m\u001b[0;34m\u001b[0m\u001b[0;34m\u001b[0m\u001b[0m\n\u001b[0;32m--> 542\u001b[0;31m             \u001b[0;32mreturn\u001b[0m \u001b[0mfuture\u001b[0m\u001b[0;34m.\u001b[0m\u001b[0mresult\u001b[0m\u001b[0;34m(\u001b[0m\u001b[0mtimeout\u001b[0m\u001b[0;34m=\u001b[0m\u001b[0mtimeout\u001b[0m\u001b[0;34m)\u001b[0m\u001b[0;34m\u001b[0m\u001b[0;34m\u001b[0m\u001b[0m\n\u001b[0m\u001b[1;32m    543\u001b[0m         \u001b[0;32mexcept\u001b[0m \u001b[0mCfTimeoutError\u001b[0m \u001b[0;32mas\u001b[0m \u001b[0me\u001b[0m\u001b[0;34m:\u001b[0m\u001b[0;34m\u001b[0m\u001b[0;34m\u001b[0m\u001b[0m\n\u001b[1;32m    544\u001b[0m             \u001b[0;32mraise\u001b[0m \u001b[0mTimeoutError\u001b[0m \u001b[0;32mfrom\u001b[0m \u001b[0me\u001b[0m\u001b[0;34m\u001b[0m\u001b[0;34m\u001b[0m\u001b[0m\n",
            "\u001b[0;32m/usr/lib/python3.7/concurrent/futures/_base.py\u001b[0m in \u001b[0;36mresult\u001b[0;34m(self, timeout)\u001b[0m\n\u001b[1;32m    428\u001b[0m                 \u001b[0;32mreturn\u001b[0m \u001b[0mself\u001b[0m\u001b[0;34m.\u001b[0m\u001b[0m__get_result\u001b[0m\u001b[0;34m(\u001b[0m\u001b[0;34m)\u001b[0m\u001b[0;34m\u001b[0m\u001b[0;34m\u001b[0m\u001b[0m\n\u001b[1;32m    429\u001b[0m \u001b[0;34m\u001b[0m\u001b[0m\n\u001b[0;32m--> 430\u001b[0;31m             \u001b[0mself\u001b[0m\u001b[0;34m.\u001b[0m\u001b[0m_condition\u001b[0m\u001b[0;34m.\u001b[0m\u001b[0mwait\u001b[0m\u001b[0;34m(\u001b[0m\u001b[0mtimeout\u001b[0m\u001b[0;34m)\u001b[0m\u001b[0;34m\u001b[0m\u001b[0;34m\u001b[0m\u001b[0m\n\u001b[0m\u001b[1;32m    431\u001b[0m \u001b[0;34m\u001b[0m\u001b[0m\n\u001b[1;32m    432\u001b[0m             \u001b[0;32mif\u001b[0m \u001b[0mself\u001b[0m\u001b[0;34m.\u001b[0m\u001b[0m_state\u001b[0m \u001b[0;32min\u001b[0m \u001b[0;34m[\u001b[0m\u001b[0mCANCELLED\u001b[0m\u001b[0;34m,\u001b[0m \u001b[0mCANCELLED_AND_NOTIFIED\u001b[0m\u001b[0;34m]\u001b[0m\u001b[0;34m:\u001b[0m\u001b[0;34m\u001b[0m\u001b[0;34m\u001b[0m\u001b[0m\n",
            "\u001b[0;32m/usr/lib/python3.7/threading.py\u001b[0m in \u001b[0;36mwait\u001b[0;34m(self, timeout)\u001b[0m\n\u001b[1;32m    294\u001b[0m         \u001b[0;32mtry\u001b[0m\u001b[0;34m:\u001b[0m    \u001b[0;31m# restore state no matter what (e.g., KeyboardInterrupt)\u001b[0m\u001b[0;34m\u001b[0m\u001b[0;34m\u001b[0m\u001b[0m\n\u001b[1;32m    295\u001b[0m             \u001b[0;32mif\u001b[0m \u001b[0mtimeout\u001b[0m \u001b[0;32mis\u001b[0m \u001b[0;32mNone\u001b[0m\u001b[0;34m:\u001b[0m\u001b[0;34m\u001b[0m\u001b[0;34m\u001b[0m\u001b[0m\n\u001b[0;32m--> 296\u001b[0;31m                 \u001b[0mwaiter\u001b[0m\u001b[0;34m.\u001b[0m\u001b[0macquire\u001b[0m\u001b[0;34m(\u001b[0m\u001b[0;34m)\u001b[0m\u001b[0;34m\u001b[0m\u001b[0;34m\u001b[0m\u001b[0m\n\u001b[0m\u001b[1;32m    297\u001b[0m                 \u001b[0mgotit\u001b[0m \u001b[0;34m=\u001b[0m \u001b[0;32mTrue\u001b[0m\u001b[0;34m\u001b[0m\u001b[0;34m\u001b[0m\u001b[0m\n\u001b[1;32m    298\u001b[0m             \u001b[0;32melse\u001b[0m\u001b[0;34m:\u001b[0m\u001b[0;34m\u001b[0m\u001b[0;34m\u001b[0m\u001b[0m\n",
            "\u001b[0;31mKeyboardInterrupt\u001b[0m: "
          ]
        }
      ]
    },
    {
      "cell_type": "code",
      "metadata": {
        "id": "2i95sNXwL1bO"
      },
      "source": [
        "gsearch3.cv_results_, gsearch3.best_params_, gsearch3.best_score_"
      ],
      "execution_count": null,
      "outputs": []
    },
    {
      "cell_type": "code",
      "metadata": {
        "id": "OADkoIFALuOK"
      },
      "source": [
        "result_reg(gsearch3.,valid_x,valid_y),result_reg(gsearch3.,train_x,train_y)"
      ],
      "execution_count": null,
      "outputs": []
    },
    {
      "cell_type": "markdown",
      "metadata": {
        "id": "R4YRsnzvMBR_"
      },
      "source": [
        "**Step 4: Tune subsample and colsample_bytree**\n",
        "\n",
        "The next step would be try different subsample and colsample_bytree values. Lets do this in 2 stages as well and take values 0.6,0.7,0.8,0.9 for both to start with."
      ]
    },
    {
      "cell_type": "code",
      "metadata": {
        "id": "vYstZ6i3MGfj"
      },
      "source": [
        "param_test4 = {\n",
        " 'subsample':[i/10.0 for i in range(6,10)],\n",
        " 'colsample_bytree':[i/10.0 for i in range(6,10)]\n",
        "}\n",
        "gsearch4 = GridSearchCV(estimator = XGBRegressor( learning_rate =0.1, n_estimators=177, max_depth=3,\n",
        "                                                 min_child_weight=3, gamma=0, subsample=0.8, colsample_bytree=0.8,\n",
        "                                                 objective= 'neg_root_mean_squared_error', nthread=4, scale_pos_weight=1,seed=27),param_grid = param_test4, scoring='neg_root_mean_squared_error',n_jobs=4,iid=False, cv=5)"
      ],
      "execution_count": null,
      "outputs": []
    },
    {
      "cell_type": "code",
      "metadata": {
        "id": "WkVASUwdMgkk"
      },
      "source": [
        "gsearch4.fit(train_x,train_y)"
      ],
      "execution_count": null,
      "outputs": []
    },
    {
      "cell_type": "code",
      "metadata": {
        "id": "QndwUBIEMk0a"
      },
      "source": [
        "gsearch4.cv_results_, gsearch4.best_params_, gsearch4.best_score_"
      ],
      "execution_count": null,
      "outputs": []
    },
    {
      "cell_type": "code",
      "metadata": {
        "id": "BE0a7AxuNAtD"
      },
      "source": [
        "result_reg(gsearch4.,valid_x,valid_y),result_reg(gsearch4.,train_x,train_y)"
      ],
      "execution_count": null,
      "outputs": []
    },
    {
      "cell_type": "markdown",
      "metadata": {
        "id": "kJ5znJCyNJ1r"
      },
      "source": [
        "**Step 5: Tuning Regularization Parameters**\n",
        "\n",
        "\n",
        "Next step is to apply regularization to reduce overfitting. Though many people don’t use this parameters much as gamma provides a substantial way of controlling complexity. But we should always try it. I’ll tune ‘reg_alpha’ value here and leave it upto you to try different values of ‘reg_lambda’."
      ]
    },
    {
      "cell_type": "markdown",
      "metadata": {
        "id": "jdKWwfMziCS_"
      },
      "source": [
        "calculamos lapredicción "
      ]
    },
    {
      "cell_type": "code",
      "metadata": {
        "id": "i_iA1m32ieva"
      },
      "source": [
        "to_test=to_xgb.new(df1_test)"
      ],
      "execution_count": null,
      "outputs": []
    },
    {
      "cell_type": "code",
      "metadata": {
        "id": "fjFVn7bqievc"
      },
      "source": [
        "to_test.process()"
      ],
      "execution_count": null,
      "outputs": []
    },
    {
      "cell_type": "code",
      "metadata": {
        "id": "CG8ujCpSievd"
      },
      "source": [
        "test_x=to_test.xs"
      ],
      "execution_count": null,
      "outputs": []
    },
    {
      "cell_type": "code",
      "metadata": {
        "colab": {
          "base_uri": "https://localhost:8080/"
        },
        "id": "p3PFUW_zkx1G",
        "outputId": "392a906a-9c58-4cd9-8eca-fd5b4b3e0289"
      },
      "source": [
        "train_x.shape, test_x.shape"
      ],
      "execution_count": null,
      "outputs": [
        {
          "output_type": "execute_result",
          "data": {
            "text/plain": [
              "((6819, 12), (5681, 12))"
            ]
          },
          "metadata": {
            "tags": []
          },
          "execution_count": 84
        }
      ]
    },
    {
      "cell_type": "code",
      "metadata": {
        "id": "9qj6UqQZkLqR"
      },
      "source": [
        "xgtest = xgb.DMatrix(test_x) "
      ],
      "execution_count": null,
      "outputs": []
    },
    {
      "cell_type": "code",
      "metadata": {
        "id": "1QOaeuGhieve"
      },
      "source": [
        "pred_xgb=xgb2.predict(test_x)"
      ],
      "execution_count": null,
      "outputs": []
    },
    {
      "cell_type": "code",
      "metadata": {
        "id": "RsvG0f9zievf"
      },
      "source": [
        "df_test['Item_Outlet_Sales'] = np.abs(pred_xgb)"
      ],
      "execution_count": null,
      "outputs": []
    },
    {
      "cell_type": "code",
      "metadata": {
        "id": "3zDr0SLyievg"
      },
      "source": [
        "result_rf=df_test.loc[:,['Item_Identifier','Outlet_Identifier','Item_Outlet_Sales']]"
      ],
      "execution_count": null,
      "outputs": []
    },
    {
      "cell_type": "code",
      "metadata": {
        "id": "mTrvVH-Yievh"
      },
      "source": [
        "result_rf.to_csv(path/'submit_xgb2.csv',index=False)"
      ],
      "execution_count": null,
      "outputs": []
    },
    {
      "cell_type": "code",
      "metadata": {
        "id": "d3Ez_902lHeC"
      },
      "source": [
        ""
      ],
      "execution_count": null,
      "outputs": []
    }
  ]
}